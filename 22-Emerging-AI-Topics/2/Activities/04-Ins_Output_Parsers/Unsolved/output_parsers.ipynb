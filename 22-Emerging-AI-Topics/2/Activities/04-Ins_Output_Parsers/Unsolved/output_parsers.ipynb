{
 "cells": [
  {
   "cell_type": "code",
   "execution_count": 1,
   "metadata": {},
   "outputs": [],
   "source": [
    "from langchain_google_genai import ChatGoogleGenerativeAI\n",
    "from dotenv import load_dotenv\n",
    "import os"
   ]
  },
  {
   "cell_type": "markdown",
   "metadata": {},
   "source": [
    "# Model and API Key"
   ]
  },
  {
   "cell_type": "code",
   "execution_count": 2,
   "metadata": {},
   "outputs": [],
   "source": [
    "# Load environment variables.\n",
    "load_dotenv()\n",
    "\n",
    "# Set the model name for our LLMs.\n",
    "GEMINI_MODEL = \"gemini-1.5-flash\"\n",
    "# Store the API key in a variable.\n",
    "GEMINI_API_KEY = os.getenv(\"GEMINI_API_KEY\")"
   ]
  },
  {
   "cell_type": "markdown",
   "metadata": {},
   "source": [
    "# List Parser"
   ]
  },
  {
   "cell_type": "code",
   "execution_count": 3,
   "metadata": {},
   "outputs": [],
   "source": [
    "# Additional imports for list parser.\n"
   ]
  },
  {
   "cell_type": "code",
   "execution_count": 4,
   "metadata": {},
   "outputs": [
    {
     "name": "stdout",
     "output_type": "stream",
     "text": [
      "Your response should be a list of comma separated values, eg: `foo, bar, baz` or `foo,bar,baz`\n",
      "\n",
      "Maine Coon, Persian, Siamese \n",
      "\n",
      "\n",
      "['Maine Coon', 'Persian', 'Siamese']\n"
     ]
    }
   ],
   "source": [
    "# Initialize the model.\n",
    "\n",
    "\n",
    "# Initialize the output parser.\n",
    "\n",
    "\n",
    "# Get the output format instructions.\n",
    "\n",
    "\n",
    "print()\n",
    "\n",
    "# Define a query as a string, combining with the instructions.\n",
    "\n",
    "\n",
    "# Pass the query to the invoke method, and print the result.\n",
    "\n",
    "\n",
    "print()\n",
    "\n",
    "# Parse the result, store it, and print it.\n"
   ]
  },
  {
   "cell_type": "markdown",
   "metadata": {},
   "source": [
    "# Structured Parser"
   ]
  },
  {
   "cell_type": "code",
   "execution_count": 5,
   "metadata": {},
   "outputs": [],
   "source": [
    "# Additional imports for structured parser.\n"
   ]
  },
  {
   "cell_type": "code",
   "execution_count": 6,
   "metadata": {},
   "outputs": [
    {
     "name": "stdout",
     "output_type": "stream",
     "text": [
      "The output should be a markdown code snippet formatted in the following schema, including the leading and trailing \"```json\" and \"```\":\n",
      "\n",
      "```json\n",
      "{\n",
      "\t\"country\": string  // the country\n",
      "\t\"capital\": string  // the capital\n",
      "}\n",
      "```\n",
      "\n",
      "```json\n",
      "{\n",
      "\t\"country\": \"France\",\n",
      "\t\"capital\": \"Paris\"\n",
      "}\n",
      "```\n",
      "\n",
      "{'country': 'France', 'capital': 'Paris'}\n",
      "France\n",
      "Paris\n",
      "\n",
      "Here are three iconic tourist attractions in Paris:\n",
      "\n",
      "1. **The Eiffel Tower:** This wrought-iron lattice tower is one of the most recognizable landmarks in the world, offering stunning panoramic views of the city from its multiple levels.\n",
      "2. **The Louvre Museum:** Home to masterpieces like the Mona Lisa, Venus de Milo, and the Winged Victory of Samothrace, the Louvre is one of the world's largest and most famous art museums.\n",
      "3. **The Notre Dame Cathedral:** Although currently undergoing restoration, the Notre Dame Cathedral remains a powerful symbol of Paris's history and culture. It's known for its impressive gothic architecture and its iconic gargoyles. \n",
      "\n"
     ]
    }
   ],
   "source": [
    "# Initialize the model.\n",
    "\n",
    "\n",
    "# Define the schemas for our parser.\n",
    "\n",
    "\n",
    "# Initialize the output parser using the schema.\n",
    "\n",
    "\n",
    "# Get the output format instructions and print them.\n",
    "\n",
    "\n",
    "print()\n",
    "\n",
    "# Define a query as a string, combining with the instructions.\n",
    "\n",
    "\n",
    "# Pass the query to the invoke method, and print the result.\n",
    "\n",
    "\n",
    "print()\n",
    "\n",
    "# Parse the result, store it, and print it.\n",
    "\n",
    "\n",
    "print()\n",
    "\n",
    "# Define a new query using the parsed output.\n",
    "\n",
    "\n",
    "# Pass the query to the invoke method, and print the result.\n"
   ]
  },
  {
   "cell_type": "markdown",
   "metadata": {},
   "source": [
    "# Class-based Parser"
   ]
  },
  {
   "cell_type": "code",
   "execution_count": 7,
   "metadata": {},
   "outputs": [],
   "source": [
    "# Additional imports for Pydantic parser.\n"
   ]
  },
  {
   "cell_type": "code",
   "execution_count": 8,
   "metadata": {},
   "outputs": [
    {
     "name": "stdout",
     "output_type": "stream",
     "text": [
      "The output should be formatted as a JSON instance that conforms to the JSON schema below.\n",
      "\n",
      "As an example, for the schema {\"properties\": {\"foo\": {\"title\": \"Foo\", \"description\": \"a list of strings\", \"type\": \"array\", \"items\": {\"type\": \"string\"}}}, \"required\": [\"foo\"]}\n",
      "the object {\"foo\": [\"bar\", \"baz\"]} is a well-formatted instance of the schema. The object {\"properties\": {\"foo\": [\"bar\", \"baz\"]}} is not well-formatted.\n",
      "\n",
      "Here is the output schema:\n",
      "```\n",
      "{\"properties\": {\"name\": {\"title\": \"Name\", \"description\": \"the country name\", \"type\": \"string\"}, \"capital\": {\"title\": \"Capital\", \"description\": \"the capital\", \"type\": \"string\"}, \"population\": {\"title\": \"Population\", \"description\": \"the country's population\", \"type\": \"integer\"}}, \"required\": [\"name\", \"capital\", \"population\"]}\n",
      "```\n",
      "\n",
      "```json\n",
      "{\"name\": \"Canada\", \"capital\": \"Ottawa\", \"population\": 38000000}\n",
      "```\n",
      "\n",
      "name='Canada' capital='Ottawa' population=38000000\n",
      "Canada\n",
      "Ottawa\n",
      "38000000\n",
      "\n",
      "Here are three popular tourist attractions in Ottawa:\n",
      "\n",
      "1. **Parliament Hill:** The heart of Canadian government, Parliament Hill is a must-see for any visitor to Ottawa. The iconic buildings, including the Centre Block, East Block, and West Block, are home to the House of Commons, the Senate, and various government offices. Visitors can take a guided tour, watch the Changing of the Guard ceremony, or simply enjoy the beautiful views of the Ottawa River.\n",
      "\n",
      "2. **Canadian Museum of History:** Located on the banks of the Ottawa River, this museum offers a comprehensive look at Canadian history and culture. Explore exhibits on everything from First Nations history to the country's role in World War II.  The museum also features a unique collection of artifacts, including the world's largest collection of totem poles.\n",
      "\n",
      "3. **ByWard Market:** This bustling market district is a great place to experience Ottawa's vibrant atmosphere. Shop for fresh produce, artisan crafts, and local delicacies. You can also find a variety of restaurants, cafes, and pubs in the area. The ByWard Market is particularly lively on weekends, with street performers and live music adding to the festive ambiance. \n",
      "\n"
     ]
    }
   ],
   "source": [
    "# Initialize the model.\n",
    "\n",
    "\n",
    "# Define the class for our parsed responses.\n",
    "\n",
    "\n",
    "# Initialize the output parser using the schema.\n",
    "\n",
    "\n",
    "# Get the output format instructions and print them.\n",
    "\n",
    "\n",
    "print()\n",
    "\n",
    "# Define a query as a string, combining with the instructions.\n",
    "\n",
    "\n",
    "# Pass the query to the invoke method, and print the result.\n",
    "\n",
    "\n",
    "print()\n",
    "\n",
    "# Parse the result, store it, and print it.\n",
    "\n",
    "\n",
    "print()\n",
    "\n",
    "# Define a new query using the parsed output.\n",
    "\n",
    "\n",
    "# Pass the query to the invoke method, and print the result.\n"
   ]
  },
  {
   "cell_type": "code",
   "execution_count": null,
   "metadata": {},
   "outputs": [],
   "source": []
  }
 ],
 "metadata": {
  "kernelspec": {
   "display_name": "Python 3 (ipykernel)",
   "language": "python",
   "name": "python3"
  },
  "language_info": {
   "codemirror_mode": {
    "name": "ipython",
    "version": 3
   },
   "file_extension": ".py",
   "mimetype": "text/x-python",
   "name": "python",
   "nbconvert_exporter": "python",
   "pygments_lexer": "ipython3",
   "version": "3.12.4"
  }
 },
 "nbformat": 4,
 "nbformat_minor": 4
}
