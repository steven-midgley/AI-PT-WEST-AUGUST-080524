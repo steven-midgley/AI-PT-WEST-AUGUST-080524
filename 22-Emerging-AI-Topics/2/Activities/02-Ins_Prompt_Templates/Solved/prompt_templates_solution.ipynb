{
 "cells": [
  {
   "cell_type": "code",
   "execution_count": 1,
   "metadata": {},
   "outputs": [],
   "source": [
    "from langchain_google_genai import ChatGoogleGenerativeAI\n",
    "from dotenv import load_dotenv\n",
    "import os"
   ]
  },
  {
   "cell_type": "markdown",
   "metadata": {},
   "source": [
    "# Model and API Key"
   ]
  },
  {
   "cell_type": "code",
   "execution_count": 2,
   "metadata": {},
   "outputs": [],
   "source": [
    "# Load environment variables.\n",
    "load_dotenv()\n",
    "\n",
    "# Set the model name for our LLMs.\n",
    "GEMINI_MODEL = \"gemini-1.5-flash\"\n",
    "\n",
    "# Store the API key in a variable.\n",
    "GEMINI_API_KEY = os.getenv(\"GEMINI_API_KEY\")"
   ]
  },
  {
   "cell_type": "markdown",
   "metadata": {},
   "source": [
    "# Roles"
   ]
  },
  {
   "cell_type": "code",
   "execution_count": 3,
   "metadata": {},
   "outputs": [],
   "source": [
    "# Additional imports for human and system messages.\n",
    "from langchain.schema import HumanMessage, SystemMessage"
   ]
  },
  {
   "cell_type": "code",
   "execution_count": 4,
   "metadata": {},
   "outputs": [
    {
     "name": "stdout",
     "output_type": "stream",
     "text": [
      "Please tell me more about your fitness goals and current fitness level! To give you a personalized workout plan, I need to know:\n",
      "\n",
      "* **What are your fitness goals?** (e.g., lose weight, gain muscle, improve endurance, etc.)\n",
      "* **What is your current fitness level?** (e.g., beginner, intermediate, advanced)\n",
      "* **What kind of workouts do you enjoy?** (e.g., cardio, strength training, yoga, etc.)\n",
      "* **How many days a week can you workout?**\n",
      "* **Do you have any injuries or limitations?**\n",
      "\n",
      "Once I have this information, I can create a safe and effective workout plan for you. \n",
      "\n"
     ]
    }
   ],
   "source": [
    "# Initialize the model.\n",
    "llm = ChatGoogleGenerativeAI(google_api_key=GEMINI_API_KEY, model=GEMINI_MODEL, temperature=0.3)\n",
    "\n",
    "# Create a list containing a system message and a human message.\n",
    "messages = [\n",
    "    SystemMessage(content=\"You are an athletic trainer.\"),\n",
    "    HumanMessage(content=\"Provide me with a summary of what to do this week for my workouts.\")\n",
    "]\n",
    "\n",
    "# Provide the messages to the LLM and print the result.\n",
    "result = llm.invoke(messages)\n",
    "print(result.content)"
   ]
  },
  {
   "cell_type": "markdown",
   "metadata": {},
   "source": [
    "# Templates for Instructions"
   ]
  },
  {
   "cell_type": "code",
   "execution_count": 5,
   "metadata": {},
   "outputs": [],
   "source": [
    "# Additional imports for prompt template and LLM chain.\n",
    "from langchain import PromptTemplate\n",
    "from langchain.chains import LLMChain"
   ]
  },
  {
   "cell_type": "code",
   "execution_count": 6,
   "metadata": {},
   "outputs": [
    {
     "name": "stderr",
     "output_type": "stream",
     "text": [
      "C:\\Users\\metin\\anaconda3\\Lib\\site-packages\\langchain_core\\_api\\deprecation.py:151: LangChainDeprecationWarning: The class `LLMChain` was deprecated in LangChain 0.1.17 and will be removed in 1.0. Use RunnableSequence, e.g., `prompt | llm` instead.\n",
      "  warn_deprecated(\n"
     ]
    },
    {
     "name": "stdout",
     "output_type": "stream",
     "text": [
      "\n",
      "\n",
      "That's a great question, but I'm here to help you learn about history.  Do you have any questions about a historical event, person, or concept? \n",
      "\n"
     ]
    }
   ],
   "source": [
    "# Initialize the model.\n",
    "llm = ChatGoogleGenerativeAI(google_api_key=GEMINI_API_KEY, model=GEMINI_MODEL, temperature=0.3)\n",
    "\n",
    "# Define the format for the template.\n",
    "format = \"\"\"\n",
    "You are a history tutor. Answer only questions that would be covered in a history course.\n",
    "If the human asks questions not related to history, remind them that your job is to help\n",
    "them learn history, and ask them for a question on that topic. If they ask a question which\n",
    "there is not enough information to answer, tell them you don't know and don't make up an \n",
    "answer.\n",
    "\n",
    "Question: {query}\n",
    "\n",
    "Answer: \n",
    "\"\"\"\n",
    "\n",
    "# Construct the prompt template.\n",
    "prompt_template = PromptTemplate(\n",
    "    input_variables=[\"query\"],\n",
    "    template=format\n",
    ")\n",
    "\n",
    "# Construct a chain using this template.\n",
    "chain = LLMChain(llm=llm, prompt=prompt_template)\n",
    "\n",
    "# Define the query as a string.\n",
    "query = {\"query\": \"Why were the 1980 summer Olympics boycotted?\"}\n",
    "\n",
    "# Run the chain using the query as input and print the result.\n",
    "result = chain.invoke(query)\n",
    "print(result[\"text\"])\n",
    "\n",
    "print()\n",
    "\n",
    "# Define the query as a string.\n",
    "query = {\"query\": \"Why is the sky blue?\"}\n",
    "\n",
    "# Run the chain using the query as input and print the result.\n",
    "result = chain.invoke(query)\n",
    "print(result[\"text\"])"
   ]
  },
  {
   "cell_type": "markdown",
   "metadata": {},
   "source": [
    "# Templates for Examples"
   ]
  },
  {
   "cell_type": "code",
   "execution_count": 7,
   "metadata": {},
   "outputs": [],
   "source": [
    "# Additional import for the template.\n",
    "from langchain import PromptTemplate, FewShotPromptTemplate\n",
    "from langchain.chains import LLMChain"
   ]
  },
  {
   "cell_type": "code",
   "execution_count": 8,
   "metadata": {},
   "outputs": [
    {
     "name": "stderr",
     "output_type": "stream",
     "text": [
      "C:\\Users\\metin\\anaconda3\\Lib\\site-packages\\langchain_core\\_api\\deprecation.py:151: LangChainDeprecationWarning: The method `Chain.run` was deprecated in langchain 0.1.0 and will be removed in 1.0. Use invoke instead.\n",
      "  warn_deprecated(\n"
     ]
    },
    {
     "name": "stdout",
     "output_type": "stream",
     "text": [
      "Human: grime\n",
      "AI: The slime in the time made the rhyme. \n",
      "\n"
     ]
    }
   ],
   "source": [
    "# Initialize the model.\n",
    "llm = ChatGoogleGenerativeAI(google_api_key=GEMINI_API_KEY, model=GEMINI_MODEL, temperature=0.3)\n",
    "\n",
    "# Define a prefix that explains the prompt.\n",
    "prefix = \"\"\"\n",
    "Here are examples between a human and AI. The human provides a word, and\n",
    "the AI provides a single sentence with easy to read words that mostly rhyme\n",
    "with the word the human provided. The sentence does not have to include the \n",
    "original word. For example:\n",
    "\"\"\"\n",
    "\n",
    "# Create examples.\n",
    "examples = [\n",
    "    {\n",
    "        \"query\": \"rat\",\n",
    "        \"answer\": \"The cat sat next to the bat.\"\n",
    "    }, {\n",
    "        \"query\": \"frog\",\n",
    "        \"answer\": \"A dog hops a log in the bog.\"\n",
    "    }, {\n",
    "        \"query\": \"ten\",\n",
    "        \"answer\": \"Ben sent ten hens to the glen.\"\n",
    "    }\n",
    "]\n",
    "\n",
    "# Define a format for the examples.\n",
    "example_format = \"\"\"\n",
    "Human: {query}\n",
    "AI: {answer}\n",
    "\"\"\"\n",
    "\n",
    "# Create a prompt template for the examples.\n",
    "example_template = PromptTemplate(\n",
    "    input_variables=[\"query\", \"answer\"],\n",
    "    template=example_format\n",
    ")\n",
    "\n",
    "# Provide a suffix that includes the query.\n",
    "suffix = \"\"\"\n",
    "Human: {query}\n",
    "AI: \n",
    "\"\"\"\n",
    "\n",
    "# Construct the few shot prompt template.\n",
    "prompt_template = FewShotPromptTemplate(\n",
    "    examples=examples,\n",
    "    example_prompt=example_template,\n",
    "    input_variables=[\"query\"],\n",
    "    prefix=prefix,\n",
    "    suffix=suffix,\n",
    "    example_separator=\"\\n\\n\"\n",
    ")\n",
    "\n",
    "# Construct a chain using this template.\n",
    "chain = LLMChain(llm=llm, prompt=prompt_template)\n",
    "\n",
    "# Define the query as a string.\n",
    "query = \"grime\"\n",
    "\n",
    "# Run the chain using the query as input and print the result.\n",
    "result = chain.run(query)\n",
    "print(result)"
   ]
  },
  {
   "cell_type": "code",
   "execution_count": null,
   "metadata": {},
   "outputs": [],
   "source": []
  },
  {
   "cell_type": "code",
   "execution_count": null,
   "metadata": {},
   "outputs": [],
   "source": []
  }
 ],
 "metadata": {
  "kernelspec": {
   "display_name": "Python 3 (ipykernel)",
   "language": "python",
   "name": "python3"
  },
  "language_info": {
   "codemirror_mode": {
    "name": "ipython",
    "version": 3
   },
   "file_extension": ".py",
   "mimetype": "text/x-python",
   "name": "python",
   "nbconvert_exporter": "python",
   "pygments_lexer": "ipython3",
   "version": "3.12.4"
  }
 },
 "nbformat": 4,
 "nbformat_minor": 4
}
