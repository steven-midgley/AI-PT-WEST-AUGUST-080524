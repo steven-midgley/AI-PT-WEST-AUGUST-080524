{
 "cells": [
  {
   "cell_type": "code",
   "execution_count": 15,
   "metadata": {},
   "outputs": [],
   "source": [
    "# Imports for loading environment variables.\n",
    "from dotenv import load_dotenv\n",
    "import os"
   ]
  },
  {
   "cell_type": "code",
   "execution_count": 16,
   "metadata": {},
   "outputs": [],
   "source": [
    "# Load environment variables.\n",
    "load_dotenv()\n",
    "\n",
    "# Set the model name for our LLMs.\n",
    "GEMINI_MODEL = \"gemini-1.5-flash\"\n",
    "# Store the API key in a variable.\n",
    "GEMINI_API_KEY = os.getenv(\"GEMINI_API_KEY\")"
   ]
  },
  {
   "cell_type": "code",
   "execution_count": 17,
   "metadata": {},
   "outputs": [],
   "source": [
    "# Additional imports for list parser.\n",
    "from langchain_google_genai import ChatGoogleGenerativeAI\n",
    "from langchain.output_parsers import CommaSeparatedListOutputParser"
   ]
  },
  {
   "cell_type": "code",
   "execution_count": 18,
   "metadata": {},
   "outputs": [],
   "source": [
    "# Initialize the model.\n",
    "llm = ChatGoogleGenerativeAI(google_api_key=GEMINI_API_KEY, model=GEMINI_MODEL, temperature=0.3)"
   ]
  },
  {
   "cell_type": "code",
   "execution_count": 19,
   "metadata": {},
   "outputs": [],
   "source": [
    "# Initialize the output parser.\n",
    "parser = CommaSeparatedListOutputParser()"
   ]
  },
  {
   "cell_type": "code",
   "execution_count": 20,
   "metadata": {},
   "outputs": [],
   "source": [
    "# Get the output format instructions.\n",
    "instructions = parser.get_format_instructions()"
   ]
  },
  {
   "cell_type": "code",
   "execution_count": 21,
   "metadata": {},
   "outputs": [],
   "source": [
    "# Define a query as a string, combining with the instructions.\n",
    "query = \"Please give me the names of three different dinner options using a variety of main ingredients.\" + \"\\n\\n\" + instructions"
   ]
  },
  {
   "cell_type": "code",
   "execution_count": 22,
   "metadata": {},
   "outputs": [],
   "source": [
    "# Pass the query to the invoke method.\n",
    "result = llm.invoke(query)"
   ]
  },
  {
   "cell_type": "code",
   "execution_count": 23,
   "metadata": {},
   "outputs": [],
   "source": [
    "# Parse the result.\n",
    "data = parser.parse(result.content)"
   ]
  },
  {
   "cell_type": "code",
   "execution_count": 24,
   "metadata": {},
   "outputs": [
    {
     "name": "stdout",
     "output_type": "stream",
     "text": [
      "1: Chicken stir-fry\n",
      "2: lentil soup\n",
      "3: salmon with roasted vegetables\n"
     ]
    }
   ],
   "source": [
    "# Display the recipe names for the user.\n",
    "for i in range(len(data)):\n",
    "    print(str(i+1) + \": \" + data[i])"
   ]
  },
  {
   "cell_type": "code",
   "execution_count": 25,
   "metadata": {},
   "outputs": [
    {
     "name": "stdin",
     "output_type": "stream",
     "text": [
      "Please enter the number next to the dish you'd like a recipe for.  1\n"
     ]
    },
    {
     "name": "stdout",
     "output_type": "stream",
     "text": [
      "\n"
     ]
    }
   ],
   "source": [
    "# Prompt the user for a recipe number.\n",
    "num = int(input(\"Please enter the number next to the dish you'd like a recipe for. \"))\n",
    "\n",
    "print()"
   ]
  },
  {
   "cell_type": "code",
   "execution_count": 26,
   "metadata": {},
   "outputs": [],
   "source": [
    "# Get the matching recipe name.\n",
    "name = data[num-1]"
   ]
  },
  {
   "cell_type": "code",
   "execution_count": 27,
   "metadata": {},
   "outputs": [],
   "source": [
    "# Define a query as a string, combining with the recipe name.\n",
    "query = f\"Please give me a full recipe for {name} including ingredients and steps.\""
   ]
  },
  {
   "cell_type": "code",
   "execution_count": 28,
   "metadata": {},
   "outputs": [
    {
     "name": "stdout",
     "output_type": "stream",
     "text": [
      "## Chicken Stir-Fry with Vegetables\n",
      "\n",
      "This recipe is a classic and versatile stir-fry that can be customized to your liking. \n",
      "\n",
      "**Yields:** 4 servings\n",
      "**Prep time:** 15 minutes\n",
      "**Cook time:** 15 minutes\n",
      "\n",
      "**Ingredients:**\n",
      "\n",
      "* **For the chicken:**\n",
      "    * 1 lb boneless, skinless chicken breasts, cut into 1-inch pieces\n",
      "    * 1 tbsp soy sauce\n",
      "    * 1 tbsp cornstarch\n",
      "    * 1/2 tsp black pepper\n",
      "* **For the stir-fry:**\n",
      "    * 1 tbsp vegetable oil\n",
      "    * 1 medium onion, sliced\n",
      "    * 1 red bell pepper, sliced\n",
      "    * 1 green bell pepper, sliced\n",
      "    * 1 cup broccoli florets\n",
      "    * 1 cup snow peas\n",
      "    * 1/2 cup chicken broth\n",
      "    * 1 tbsp soy sauce\n",
      "    * 1 tbsp honey\n",
      "    * 1 tsp sesame oil\n",
      "    * 1/2 tsp ground ginger\n",
      "    * 1/4 tsp red pepper flakes (optional)\n",
      "    * Cooked rice, for serving\n",
      "\n",
      "**Instructions:**\n",
      "\n",
      "1. **Prepare the chicken:** In a bowl, combine the chicken pieces, soy sauce, cornstarch, and black pepper. Mix well and set aside to marinate for at least 15 minutes.\n",
      "2. **Prepare the vegetables:** Wash and chop all vegetables.\n",
      "3. **Cook the chicken:** Heat the vegetable oil in a large wok or skillet over medium-high heat. Add the marinated chicken and cook until browned on all sides, about 5 minutes. Remove the chicken from the pan and set aside.\n",
      "4. **Stir-fry the vegetables:** Add the onion, red bell pepper, and green bell pepper to the pan and stir-fry for 3-4 minutes, until softened. Add the broccoli and snow peas and stir-fry for another 2-3 minutes.\n",
      "5. **Make the sauce:** In a small bowl, whisk together the chicken broth, soy sauce, honey, sesame oil, ginger, and red pepper flakes (if using).\n",
      "6. **Combine and cook:** Pour the sauce into the pan with the vegetables. Bring to a simmer and cook for 1-2 minutes, until the sauce thickens slightly.\n",
      "7. **Add the chicken:** Return the cooked chicken to the pan and stir to combine. Cook for another minute, until heated through.\n",
      "8. **Serve:** Serve the chicken stir-fry over cooked rice and enjoy!\n",
      "\n",
      "**Tips:**\n",
      "\n",
      "* You can use any vegetables you like in this stir-fry. Some other good options include carrots, mushrooms, zucchini, and snap peas.\n",
      "* For a spicier stir-fry, add more red pepper flakes.\n",
      "* If you don't have chicken broth, you can use water or vegetable broth.\n",
      "* To make this dish even easier, use pre-cut vegetables from the grocery store.\n",
      "* Serve with a side of your favorite dipping sauce, such as sweet chili sauce or peanut sauce.\n",
      "\n",
      "Enjoy your delicious and healthy chicken stir-fry!\n"
     ]
    }
   ],
   "source": [
    "# Pass the query to the invoke method, and print the result.\n",
    "result = llm.invoke(query)\n",
    "print(result.content)"
   ]
  },
  {
   "cell_type": "code",
   "execution_count": null,
   "metadata": {},
   "outputs": [],
   "source": []
  }
 ],
 "metadata": {
  "kernelspec": {
   "display_name": "Python 3 (ipykernel)",
   "language": "python",
   "name": "python3"
  },
  "language_info": {
   "codemirror_mode": {
    "name": "ipython",
    "version": 3
   },
   "file_extension": ".py",
   "mimetype": "text/x-python",
   "name": "python",
   "nbconvert_exporter": "python",
   "pygments_lexer": "ipython3",
   "version": "3.12.4"
  }
 },
 "nbformat": 4,
 "nbformat_minor": 4
}
