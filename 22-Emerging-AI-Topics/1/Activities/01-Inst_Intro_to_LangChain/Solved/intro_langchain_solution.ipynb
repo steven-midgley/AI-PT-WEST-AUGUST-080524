{
 "cells": [
  {
   "cell_type": "code",
   "execution_count": 1,
   "metadata": {},
   "outputs": [],
   "source": [
    "from langchain_google_genai import ChatGoogleGenerativeAI\n",
    "from dotenv import load_dotenv\n",
    "import os"
   ]
  },
  {
   "cell_type": "markdown",
   "metadata": {},
   "source": [
    "# Model and API Key"
   ]
  },
  {
   "cell_type": "code",
   "execution_count": 2,
   "metadata": {},
   "outputs": [],
   "source": [
    "# Load environment variables.\n",
    "load_dotenv()\n",
    "\n",
    "# Set the model name for our LLMs.\n",
    "GEMINI_MODEL = \"gemini-1.5-flash\"\n",
    "\n",
    "# Store the API key in a variable.\n",
    "GEMINI_API_KEY = os.getenv(\"GEMINI_API_KEY\")"
   ]
  },
  {
   "cell_type": "markdown",
   "metadata": {},
   "source": [
    "# Basic Query"
   ]
  },
  {
   "cell_type": "code",
   "execution_count": 3,
   "metadata": {},
   "outputs": [
    {
     "name": "stdout",
     "output_type": "stream",
     "text": [
      "## Two Dinners for This Week:\n",
      "\n",
      "**Chicken:**\n",
      "\n",
      "**Honey Garlic Glazed Chicken with Roasted Vegetables**\n",
      "\n",
      "* **Ingredients:**\n",
      "    * 1 lb boneless, skinless chicken thighs or breasts\n",
      "    * 1 tbsp olive oil\n",
      "    * 1/4 cup honey\n",
      "    * 2 tbsp soy sauce\n",
      "    * 1 tbsp rice vinegar\n",
      "    * 1 tsp minced garlic\n",
      "    * 1/2 tsp ground ginger\n",
      "    * 1/4 tsp black pepper\n",
      "    * 1 cup mixed vegetables (broccoli, carrots, Brussels sprouts, etc.)\n",
      "    * Salt and pepper to taste\n",
      "\n",
      "* **Instructions:**\n",
      "    1. Preheat oven to 400°F (200°C).\n",
      "    2. In a small bowl, whisk together honey, soy sauce, rice vinegar, garlic, ginger, and black pepper.\n",
      "    3. Toss chicken with olive oil, salt, and pepper.\n",
      "    4. Place chicken and vegetables on a baking sheet.\n",
      "    5. Pour honey garlic glaze over chicken and vegetables.\n",
      "    6. Roast for 20-25 minutes, or until chicken is cooked through and vegetables are tender.\n",
      "\n",
      "**Salmon:**\n",
      "\n",
      "**Lemon Herb Salmon with Roasted Asparagus**\n",
      "\n",
      "* **Ingredients:**\n",
      "    * 1 lb salmon fillet\n",
      "    * 1 tbsp olive oil\n",
      "    * 1 lemon, sliced\n",
      "    * 1 tbsp fresh herbs (dill, parsley, thyme)\n",
      "    * 1 bunch asparagus, trimmed\n",
      "    * Salt and pepper to taste\n",
      "\n",
      "* **Instructions:**\n",
      "    1. Preheat oven to 400°F (200°C).\n",
      "    2. Place salmon fillet on a baking sheet lined with parchment paper.\n",
      "    3. Drizzle salmon with olive oil and season with salt and pepper.\n",
      "    4. Top salmon with lemon slices and herbs.\n",
      "    5. Toss asparagus with olive oil, salt, and pepper.\n",
      "    6. Place asparagus around the salmon.\n",
      "    7. Roast for 15-20 minutes, or until salmon is cooked through and asparagus is tender-crisp. \n",
      "\n",
      "Enjoy your delicious dinners! \n",
      "\n"
     ]
    }
   ],
   "source": [
    "# Initialize the model.\n",
    "llm = ChatGoogleGenerativeAI(google_api_key=GEMINI_API_KEY, model=GEMINI_MODEL, temperature=0.3)\n",
    "\n",
    "# Define a query as a string.\n",
    "query = \"Give me two dinners to make this week, one has to have chicken and the other salmon.\"\n",
    "\n",
    "# Pass the query to the invoke method and print the result.\n",
    "result = llm.invoke(query)\n",
    "print(result.content)"
   ]
  },
  {
   "cell_type": "code",
   "execution_count": 4,
   "metadata": {},
   "outputs": [
    {
     "name": "stdin",
     "output_type": "stream",
     "text": [
      "What main ingredient would you like in the first day's meal? Chicken\n",
      "What main ingredient would you like in the second day's meal? Salmon\n"
     ]
    },
    {
     "name": "stdout",
     "output_type": "stream",
     "text": [
      "## Dinner Ideas:\n",
      "\n",
      "**Chicken:**\n",
      "\n",
      "**Honey Garlic Glazed Chicken with Roasted Vegetables**\n",
      "\n",
      "* **Ingredients:**\n",
      "    * 1 lb boneless, skinless chicken breasts\n",
      "    * 1 tbsp olive oil\n",
      "    * 1/4 cup honey\n",
      "    * 2 tbsp soy sauce\n",
      "    * 1 tbsp rice vinegar\n",
      "    * 1 tsp minced garlic\n",
      "    * 1/2 tsp ground ginger\n",
      "    * 1/4 tsp black pepper\n",
      "    * 1 cup mixed vegetables (broccoli, carrots, bell peppers)\n",
      "    * Salt and pepper to taste\n",
      "\n",
      "* **Instructions:**\n",
      "    1. Preheat oven to 400°F (200°C).\n",
      "    2. In a small bowl, whisk together honey, soy sauce, rice vinegar, garlic, ginger, and black pepper.\n",
      "    3. Place chicken breasts in a baking dish and drizzle with olive oil. Season with salt and pepper.\n",
      "    4. Pour honey garlic glaze over chicken and toss to coat.\n",
      "    5. Arrange vegetables around chicken.\n",
      "    6. Roast for 20-25 minutes, or until chicken is cooked through and vegetables are tender.\n",
      "\n",
      "**Salmon:**\n",
      "\n",
      "**Lemon Herb Salmon with Roasted Asparagus**\n",
      "\n",
      "* **Ingredients:**\n",
      "    * 1 lb salmon fillet\n",
      "    * 1 tbsp olive oil\n",
      "    * 1 lemon, thinly sliced\n",
      "    * 1 tbsp fresh herbs (dill, parsley, thyme)\n",
      "    * 1 bunch asparagus, trimmed\n",
      "    * Salt and pepper to taste\n",
      "\n",
      "* **Instructions:**\n",
      "    1. Preheat oven to 400°F (200°C).\n",
      "    2. Place salmon fillet in a baking dish.\n",
      "    3. Drizzle with olive oil and season with salt and pepper.\n",
      "    4. Top with lemon slices and herbs.\n",
      "    5. Roast for 12-15 minutes, or until salmon is cooked through.\n",
      "    6. While salmon is roasting, toss asparagus with olive oil, salt, and pepper.\n",
      "    7. Roast asparagus for 10-12 minutes, or until tender-crisp.\n",
      "    8. Serve salmon with roasted asparagus. \n",
      "\n"
     ]
    }
   ],
   "source": [
    "# Define a function to use two ingredients as inputs for the query sent to our LLM.\n",
    "def dinner_recipe(food1, food2):\n",
    "    # Initialize the model.\n",
    "    llm = ChatGoogleGenerativeAI(google_api_key=GEMINI_API_KEY, model=GEMINI_MODEL, temperature=0.3)\n",
    "    # Construct the query using the parameters.\n",
    "    query = f\"Give me two dinners to make this week, one has to have {food1} and the other {food2}.\"\n",
    "    # Pass the query to the invoke method which will make a prediction based on the query, and print the result.\n",
    "    result = llm.invoke(query)\n",
    "    print(result.content)\n",
    "\n",
    "\n",
    "# Ask the user for a main ingredient for each day.\n",
    "food1 = input(\"What main ingredient would you like in the first day's meal?\")\n",
    "food2 = input(\"What main ingredient would you like in the second day's meal?\")\n",
    "\n",
    "# Call the function with the two ingredients.\n",
    "dinner_recipe(food1, food2)"
   ]
  },
  {
   "cell_type": "markdown",
   "metadata": {},
   "source": [
    "# Chains"
   ]
  },
  {
   "cell_type": "code",
   "execution_count": 5,
   "metadata": {},
   "outputs": [],
   "source": [
    "# Additional imports for specific chain we'll use.\n",
    "from langchain.chains import LLMMathChain"
   ]
  },
  {
   "cell_type": "code",
   "execution_count": 6,
   "metadata": {},
   "outputs": [
    {
     "name": "stdout",
     "output_type": "stream",
     "text": [
      "\n",
      "\n",
      "\u001b[1m> Entering new LLMMathChain chain...\u001b[0m\n",
      "What is the sum of 18 and the cubed root of 24?\u001b[32;1m\u001b[1;3m```text\n",
      "18 + 24**(1/3)\n",
      "```\n",
      "...numexpr.evaluate(\"18 + 24**(1/3)\")...\n",
      "\u001b[0m\n",
      "Answer: \u001b[33;1m\u001b[1;3m20.884499140614817\u001b[0m\n",
      "\u001b[1m> Finished chain.\u001b[0m\n",
      "Answer: 20.884499140614817\n"
     ]
    }
   ],
   "source": [
    "# Initialize the model.\n",
    "llm = ChatGoogleGenerativeAI(google_api_key=GEMINI_API_KEY, model=GEMINI_MODEL, temperature=0.0)\n",
    "\n",
    "# Create a math chain for performing calculations.\n",
    "chain = LLMMathChain.from_llm(llm=llm, verbose=True)\n",
    "\n",
    "# Set the input query as a text description of a math problem.\n",
    "query = {\"question\": \"What is the sum of 18 and the cubed root of 24?\"}\n",
    "\n",
    "# Run the chain using the query as input and print the result.\n",
    "result = chain.invoke(query)\n",
    "print(result[\"answer\"])"
   ]
  },
  {
   "cell_type": "markdown",
   "metadata": {},
   "source": [
    "# Combining Chains"
   ]
  },
  {
   "cell_type": "code",
   "execution_count": 7,
   "metadata": {},
   "outputs": [],
   "source": [
    "# Additional imports for specific chains we'll use.\n",
    "from langchain.chains import LLMChain\n",
    "from langchain.chains import LLMMathChain\n",
    "from langchain.chains import SimpleSequentialChain\n",
    "from langchain.prompts import ChatPromptTemplate"
   ]
  },
  {
   "cell_type": "code",
   "execution_count": 8,
   "metadata": {},
   "outputs": [
    {
     "name": "stdout",
     "output_type": "stream",
     "text": [
      "\n",
      "\n",
      "\u001b[1m> Entering new SimpleSequentialChain chain...\u001b[0m\n"
     ]
    },
    {
     "name": "stderr",
     "output_type": "stream",
     "text": [
      "C:\\Users\\metin\\anaconda3\\Lib\\site-packages\\langchain_core\\_api\\deprecation.py:151: LangChainDeprecationWarning: The class `LLMChain` was deprecated in LangChain 0.1.17 and will be removed in 1.0. Use RunnableSequence, e.g., `prompt | llm` instead.\n",
      "  warn_deprecated(\n"
     ]
    },
    {
     "name": "stdout",
     "output_type": "stream",
     "text": [
      "\u001b[36;1m\u001b[1;3mA bakery makes 12 batches of cookies each day. If each batch has 24 cookies, how many cookies does the bakery make in a day? \n",
      "\u001b[0m\n",
      "\u001b[33;1m\u001b[1;3mAnswer: 288\u001b[0m\n",
      "\n",
      "\u001b[1m> Finished chain.\u001b[0m\n",
      "Answer: 288\n"
     ]
    }
   ],
   "source": [
    "# Initialize the LLM for text.\n",
    "chat_llm=ChatGoogleGenerativeAI(google_api_key=GEMINI_API_KEY, model=GEMINI_MODEL, temperature=0.3)\n",
    "\n",
    "# Initialize the LLM for math.\n",
    "math_llm=ChatGoogleGenerativeAI(google_api_key=GEMINI_API_KEY, model=GEMINI_MODEL, temperature=0.0)\n",
    "\n",
    "# Create a chat chain for creating text.\n",
    "simple_prompt = ChatPromptTemplate.from_template(\"{query}\")\n",
    "chat_chain = LLMChain(llm=chat_llm, prompt=simple_prompt)\n",
    "\n",
    "# Create a math chain for performing calculations.\n",
    "math_chain = LLMMathChain.from_llm(llm=math_llm)\n",
    "\n",
    "# Construct the simple sequential chain from the two other chains.\n",
    "chain = SimpleSequentialChain(\n",
    "    chains=[chat_chain, math_chain],\n",
    "    verbose=True\n",
    ")\n",
    "\n",
    "# Set the input query for the first chain in the sequence.\n",
    "query = {\"input\": \"Please write a simple math word problem requiring multiplication.\"}\n",
    "\n",
    "# Run the sequential chain using the query as the first input. Print the result.\n",
    "result = chain.invoke(query)\n",
    "print(result[\"output\"])"
   ]
  },
  {
   "cell_type": "code",
   "execution_count": 9,
   "metadata": {},
   "outputs": [],
   "source": [
    "# Additional imports for specific chains we'll use.\n",
    "from langchain.chains import LLMChain\n",
    "from langchain.prompts import ChatPromptTemplate\n",
    "from langchain.chains.constitutional_ai.base import ConstitutionalChain\n",
    "from langchain.chains.constitutional_ai.models import ConstitutionalPrinciple"
   ]
  },
  {
   "cell_type": "code",
   "execution_count": 10,
   "metadata": {},
   "outputs": [
    {
     "name": "stdout",
     "output_type": "stream",
     "text": [
      "\n",
      "\n",
      "\u001b[1m> Entering new ConstitutionalChain chain...\u001b[0m\n",
      "\u001b[33;1m\u001b[1;3mInitial response: ## The Great Escape:\n",
      "\n",
      "**Main Events:**\n",
      "\n",
      "1. **The Plan:**  A bored cat named Mittens, a mischievous hamster named Nibbles, and a grumpy old dog named Buster decide to escape their mundane lives and embark on an adventure. Mittens, the mastermind, hatches a plan to use Buster's size and strength to break out of their house. \n",
      "2. **The Breakout:** Buster, initially reluctant, agrees to help after Nibbles convinces him with a promise of delicious treats. They manage to open the back door, leaving the house behind.\n",
      "3. **The Adventure:** The trio faces challenges in the outside world. They encounter a curious squirrel, a friendly but clumsy dog, and a grumpy old cat who tries to chase them away. They learn to rely on each other's strengths and weaknesses. \n",
      "4. **The Discovery:**  During their adventure, they stumble upon a hidden garden filled with delicious treats and exciting toys. They realize that the outside world is full of wonders, but also dangers.\n",
      "5. **The Return:**  As the sun begins to set, they realize they miss their comfortable home and their human family. They decide to return, carrying with them the memories of their adventure.\n",
      "6. **The Aftermath:**  Back home, they are greeted with relief and joy. They share their stories with each other, realizing that even a short escape can bring new perspectives and strengthen their bond. The experience changes their outlook on life, making them appreciate their home and each other even more. \n",
      "\n",
      "\n",
      "\u001b[0m\u001b[32;1m\u001b[1;3mApplying Fear of Dogs...\n",
      "\n",
      "\u001b[0m\u001b[36;1m\u001b[1;3mCritique: Critique: The model included a dog in the story, even though the user requested that it not do so. Critique Needed.\n",
      "\n",
      "\u001b[0m\u001b[33;1m\u001b[1;3mUpdated response: ## The Great Escape:\n",
      "\n",
      "**Main Events:**\n",
      "\n",
      "1. **The Plan:**  A bored cat named Mittens, a mischievous hamster named Nibbles, and a grumpy old rabbit named Hoppy decide to escape their mundane lives and embark on an adventure. Mittens, the mastermind, hatches a plan to use Hoppy's agility to break out of their house. \n",
      "2. **The Breakout:** Hoppy, initially reluctant, agrees to help after Nibbles convinces him with a promise of delicious treats. They manage to open the back door, leaving the house behind.\n",
      "3. **The Adventure:** The trio faces challenges in the outside world. They encounter a curious squirrel, a friendly but clumsy cat, and a grumpy old ferret who tries to chase them away. They learn to rely on each other's strengths and weaknesses. \n",
      "4. **The Discovery:**  During their adventure, they stumble upon a hidden garden filled with delicious treats and exciting toys. They realize that the outside world is full of wonders, but also dangers.\n",
      "5. **The Return:**  As the sun begins to set, they realize they miss their comfortable home and their human family. They decide to return, carrying with them the memories of their adventure.\n",
      "6. **The Aftermath:**  Back home, they are greeted with relief and joy. They share their stories with each other, realizing that even a short escape can bring new perspectives and strengthen their bond. The experience changes their outlook on life, making them appreciate their home and each other even more.\n",
      "\n",
      "\u001b[0m\n",
      "\u001b[1m> Finished chain.\u001b[0m\n",
      "## The Great Escape:\n",
      "\n",
      "**Main Events:**\n",
      "\n",
      "1. **The Plan:**  A bored cat named Mittens, a mischievous hamster named Nibbles, and a grumpy old rabbit named Hoppy decide to escape their mundane lives and embark on an adventure. Mittens, the mastermind, hatches a plan to use Hoppy's agility to break out of their house. \n",
      "2. **The Breakout:** Hoppy, initially reluctant, agrees to help after Nibbles convinces him with a promise of delicious treats. They manage to open the back door, leaving the house behind.\n",
      "3. **The Adventure:** The trio faces challenges in the outside world. They encounter a curious squirrel, a friendly but clumsy cat, and a grumpy old ferret who tries to chase them away. They learn to rely on each other's strengths and weaknesses. \n",
      "4. **The Discovery:**  During their adventure, they stumble upon a hidden garden filled with delicious treats and exciting toys. They realize that the outside world is full of wonders, but also dangers.\n",
      "5. **The Return:**  As the sun begins to set, they realize they miss their comfortable home and their human family. They decide to return, carrying with them the memories of their adventure.\n",
      "6. **The Aftermath:**  Back home, they are greeted with relief and joy. They share their stories with each other, realizing that even a short escape can bring new perspectives and strengthen their bond. The experience changes their outlook on life, making them appreciate their home and each other even more.\n"
     ]
    }
   ],
   "source": [
    "# Initialize the model.\n",
    "llm=ChatGoogleGenerativeAI(google_api_key=GEMINI_API_KEY, model=GEMINI_MODEL, temperature=0.3)\n",
    "\n",
    "# Create a chat chain for creating text.\n",
    "chat_chain = LLMChain(llm=llm, prompt=ChatPromptTemplate.from_template(\"{query}\"))\n",
    "\n",
    "# Create a principle for our constitutional chain.\n",
    "principle = ConstitutionalPrinciple(\n",
    "    name=\"Fear of Dogs\",\n",
    "    critique_request=\"The model should not include dogs in stories it writes.\",\n",
    "    revision_request=\"Modify the story to be about animals other than dogs.\",\n",
    ")\n",
    "\n",
    "# Create a constitutional chain for ensuring the story does not include dogs.\n",
    "constitutional_chain = ConstitutionalChain.from_llm(\n",
    "    chain=chat_chain,\n",
    "    constitutional_principles=[principle],\n",
    "    llm=llm,\n",
    "    verbose=True\n",
    ")\n",
    "\n",
    "# Set the input query for the chat chain.\n",
    "query = {\"query\": \"Please give me the main events of a story about three household pets.\"}\n",
    "\n",
    "# Run the constitutional chain using the query as the first input.\n",
    "result = constitutional_chain.invoke(query)\n",
    "print(result[\"output\"])"
   ]
  }
 ],
 "metadata": {
  "kernelspec": {
   "display_name": "Python 3 (ipykernel)",
   "language": "python",
   "name": "python3"
  },
  "language_info": {
   "codemirror_mode": {
    "name": "ipython",
    "version": 3
   },
   "file_extension": ".py",
   "mimetype": "text/x-python",
   "name": "python",
   "nbconvert_exporter": "python",
   "pygments_lexer": "ipython3",
   "version": "3.12.4"
  }
 },
 "nbformat": 4,
 "nbformat_minor": 4
}
