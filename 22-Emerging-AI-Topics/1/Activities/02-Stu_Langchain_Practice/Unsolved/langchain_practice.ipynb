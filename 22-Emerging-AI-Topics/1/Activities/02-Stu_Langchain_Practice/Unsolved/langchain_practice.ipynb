{
 "cells": [
  {
   "cell_type": "code",
   "execution_count": 1,
   "metadata": {},
   "outputs": [],
   "source": [
    "# Imports for loading environment variables.\n",
    "from dotenv import load_dotenv\n",
    "import os"
   ]
  },
  {
   "cell_type": "code",
   "execution_count": 2,
   "metadata": {},
   "outputs": [],
   "source": [
    "# Load environment variables.\n",
    "load_dotenv()\n",
    "\n",
    "# Set the model name for our LLMs.\n",
    "GEMINI_MODEL = \"gemini-1.5-flash\"\n",
    "\n",
    "# Store the API key in a variable.\n",
    "GEMINI_API_KEY = os.getenv(\"GEMINI_API_KEY\")"
   ]
  },
  {
   "cell_type": "code",
   "execution_count": 3,
   "metadata": {},
   "outputs": [],
   "source": [
    "# Additional imports for specific chains we'll use.\n",
    "from langchain_google_genai import ChatGoogleGenerativeAI\n",
    "from langchain.chains import LLMChain\n",
    "from langchain.chains.constitutional_ai.base import ConstitutionalChain\n",
    "from langchain.chains.constitutional_ai.models import ConstitutionalPrinciple\n",
    "from langchain.prompts import ChatPromptTemplate"
   ]
  },
  {
   "cell_type": "code",
   "execution_count": 4,
   "metadata": {},
   "outputs": [
    {
     "name": "stdin",
     "output_type": "stream",
     "text": [
      "What main ingredient would you like in the first day's meal? Beef\n",
      "What main ingredient would you like in the second day's meal? Chicken\n"
     ]
    }
   ],
   "source": [
    "# Ask the user for a main ingredient for each day.\n"
   ]
  },
  {
   "cell_type": "code",
   "execution_count": 5,
   "metadata": {},
   "outputs": [
    {
     "name": "stdin",
     "output_type": "stream",
     "text": [
      "Please name your dietary type (vegan, omnivorous, kosher, etc.)? kosher\n"
     ]
    }
   ],
   "source": [
    "# Ask the user for a dietary restriction.\n"
   ]
  },
  {
   "cell_type": "code",
   "execution_count": 6,
   "metadata": {},
   "outputs": [],
   "source": [
    "# Initialize the model.\n"
   ]
  },
  {
   "cell_type": "code",
   "execution_count": 7,
   "metadata": {},
   "outputs": [
    {
     "name": "stderr",
     "output_type": "stream",
     "text": [
      "C:\\Users\\metin\\anaconda3\\Lib\\site-packages\\langchain_core\\_api\\deprecation.py:151: LangChainDeprecationWarning: The class `LLMChain` was deprecated in LangChain 0.1.17 and will be removed in 1.0. Use RunnableSequence, e.g., `prompt | llm` instead.\n",
      "  warn_deprecated(\n"
     ]
    }
   ],
   "source": [
    "# Create a chat chain for creating the recipes.\n"
   ]
  },
  {
   "cell_type": "code",
   "execution_count": 8,
   "metadata": {},
   "outputs": [],
   "source": [
    "# Create the principle for our constitutional chain.\n"
   ]
  },
  {
   "cell_type": "code",
   "execution_count": 9,
   "metadata": {},
   "outputs": [],
   "source": [
    "# Create a constitutional chain for ensuring the requested type of recipes.\n"
   ]
  },
  {
   "cell_type": "code",
   "execution_count": 10,
   "metadata": {},
   "outputs": [],
   "source": [
    "# Set the input query for the first chain in the sequence.\n"
   ]
  },
  {
   "cell_type": "code",
   "execution_count": 11,
   "metadata": {},
   "outputs": [
    {
     "name": "stdout",
     "output_type": "stream",
     "text": [
      "## Beef Dinner:\n",
      "\n",
      "**Beef and Broccoli Stir-Fry**\n",
      "\n",
      "**Ingredients:**\n",
      "\n",
      "* 1 lb. beef sirloin, thinly sliced\n",
      "* 1 tbsp. cornstarch\n",
      "* 1 tbsp. soy sauce\n",
      "* 1 tbsp. sesame oil\n",
      "* 1 head broccoli, cut into florets\n",
      "* 1 red bell pepper, sliced\n",
      "* 1/2 cup beef broth (ensure it is certified kosher)\n",
      "* 1 tbsp. honey\n",
      "* 1 tbsp. rice vinegar\n",
      "* 1 clove garlic, minced\n",
      "* Salt and pepper to taste\n",
      "* Sesame seeds for garnish (optional)\n",
      "\n",
      "**Instructions:**\n",
      "\n",
      "1. In a bowl, combine beef, cornstarch, soy sauce, and sesame oil. Marinate for 15 minutes.\n",
      "2. Heat a large skillet or wok over high heat. Add beef and cook until browned. Remove from skillet and set aside.\n",
      "3. Add broccoli and bell pepper to the skillet and stir-fry for 3 minutes.\n",
      "4. Add garlic and cook for 30 seconds.\n",
      "5. Add beef broth, honey, and rice vinegar to the skillet. Bring to a boil, then reduce heat and simmer for 2 minutes.\n",
      "6. Return beef to the skillet and stir to combine.\n",
      "7. Season with salt and pepper to taste.\n",
      "8. Garnish with sesame seeds, if desired.\n",
      "9. Serve over rice or noodles (ensure they are certified kosher).\n",
      "\n",
      "## Chicken Dinner:\n",
      "\n",
      "**Chicken and Sweet Potato Curry**\n",
      "\n",
      "**Ingredients:**\n",
      "\n",
      "* 1 lb. boneless, skinless chicken thighs, cut into bite-sized pieces\n",
      "* 1 tbsp. olive oil\n",
      "* 1 onion, chopped\n",
      "* 2 cloves garlic, minced\n",
      "* 1 tbsp. curry powder\n",
      "* 1 tsp. ground cumin\n",
      "* 1/2 tsp. turmeric\n",
      "* 1 (14 oz) can diced tomatoes, undrained (ensure they are certified kosher)\n",
      "* 1 (14 oz) can coconut milk (ensure it is certified kosher)\n",
      "* 1 large sweet potato, peeled and diced\n",
      "* 1/2 cup frozen peas\n",
      "* Salt and pepper to taste\n",
      "* Cilantro for garnish (optional)\n",
      "\n",
      "**Instructions:**\n",
      "\n",
      "1. Heat olive oil in a large pot or Dutch oven over medium heat. Add chicken and cook until browned on all sides.\n",
      "2. Add onion and garlic to the pot and cook until softened, about 5 minutes.\n",
      "3. Stir in curry powder, cumin, and turmeric. Cook for 1 minute, stirring constantly.\n",
      "4. Add diced tomatoes, coconut milk, sweet potato, and peas. Bring to a boil, then reduce heat and simmer for 20 minutes, or until sweet potato is tender.\n",
      "5. Season with salt and pepper to taste.\n",
      "6. Garnish with cilantro, if desired.\n",
      "7. Serve with rice or naan bread (ensure they are certified kosher).\n"
     ]
    }
   ],
   "source": [
    "# Run the constitutional chain using the query as the first input.\n"
   ]
  },
  {
   "cell_type": "code",
   "execution_count": null,
   "metadata": {},
   "outputs": [],
   "source": []
  }
 ],
 "metadata": {
  "kernelspec": {
   "display_name": "Python 3 (ipykernel)",
   "language": "python",
   "name": "python3"
  },
  "language_info": {
   "codemirror_mode": {
    "name": "ipython",
    "version": 3
   },
   "file_extension": ".py",
   "mimetype": "text/x-python",
   "name": "python",
   "nbconvert_exporter": "python",
   "pygments_lexer": "ipython3",
   "version": "3.12.4"
  }
 },
 "nbformat": 4,
 "nbformat_minor": 4
}
