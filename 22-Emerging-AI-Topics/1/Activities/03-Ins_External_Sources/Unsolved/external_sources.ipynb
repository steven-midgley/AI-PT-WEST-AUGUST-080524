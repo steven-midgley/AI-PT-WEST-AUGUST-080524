{
 "cells": [
  {
   "cell_type": "code",
   "execution_count": 1,
   "metadata": {},
   "outputs": [],
   "source": [
    "from langchain_google_genai import ChatGoogleGenerativeAI\n",
    "from dotenv import load_dotenv\n",
    "import os"
   ]
  },
  {
   "cell_type": "markdown",
   "metadata": {},
   "source": [
    "# Model and API Key"
   ]
  },
  {
   "cell_type": "code",
   "execution_count": 2,
   "metadata": {},
   "outputs": [],
   "source": [
    "# Load environment variables.\n",
    "load_dotenv()\n",
    "\n",
    "# Set the model name for our LLMs.\n",
    "GEMINI_MODEL = \"gemini-1.5-flash\"\n",
    "# Store the API key in a variable.\n",
    "GEMINI_API_KEY = os.getenv(\"GEMINI_API_KEY\")"
   ]
  },
  {
   "cell_type": "markdown",
   "metadata": {},
   "source": [
    "# Documents"
   ]
  },
  {
   "cell_type": "code",
   "execution_count": 3,
   "metadata": {},
   "outputs": [],
   "source": [
    "# Additional imports for loading PDF documents and QA chain.\n"
   ]
  },
  {
   "cell_type": "code",
   "execution_count": 4,
   "metadata": {},
   "outputs": [
    {
     "name": "stderr",
     "output_type": "stream",
     "text": [
      "C:\\Users\\metin\\anaconda3\\Lib\\site-packages\\langchain_core\\_api\\deprecation.py:151: LangChainDeprecationWarning: This class is deprecated. See the following migration guides for replacements based on `chain_type`:\n",
      "stuff: https://python.langchain.com/v0.2/docs/versions/migrating_chains/stuff_docs_chain\n",
      "map_reduce: https://python.langchain.com/v0.2/docs/versions/migrating_chains/map_reduce_chain\n",
      "refine: https://python.langchain.com/v0.2/docs/versions/migrating_chains/refine_chain\n",
      "map_rerank: https://python.langchain.com/v0.2/docs/versions/migrating_chains/map_rerank_docs_chain\n",
      "\n",
      "See also guides on retrieval and question-answering here: https://python.langchain.com/v0.2/docs/how_to/#qa-with-rag\n",
      "  warn_deprecated(\n"
     ]
    },
    {
     "name": "stdout",
     "output_type": "stream",
     "text": [
      "Based on the provided information, Jane Doe lists **Spanish (Conversational)** as one of her languages. This means she likely understands spoken Spanish, but it's not clear how proficient she is in written Spanish. \n",
      "\n",
      "It's possible she could understand a simple message, but it's not guaranteed. If you need to communicate something important, it's best to use English. \n",
      "\n"
     ]
    }
   ],
   "source": [
    "# Create the PDF loader and load the document.\n",
    "\n",
    "\n",
    "# Initialize the model.\n",
    "\n",
    "# Create the QA chain using the LLM.\n",
    "\n",
    "\n",
    "# Define a query as a string.\n",
    "\n",
    "# Pass the documents and the query to the chain, and print the result.\n"
   ]
  },
  {
   "cell_type": "markdown",
   "metadata": {},
   "source": [
    "# Built-in Integrations"
   ]
  },
  {
   "cell_type": "code",
   "execution_count": 5,
   "metadata": {},
   "outputs": [],
   "source": [
    "# Additional imports for loading Wikipedia content and QA chain.\n"
   ]
  },
  {
   "cell_type": "code",
   "execution_count": 6,
   "metadata": {},
   "outputs": [
    {
     "name": "stdout",
     "output_type": "stream",
     "text": [
      "Leonard Cohen released **15 studio albums** in his lifetime. \n",
      "\n"
     ]
    }
   ],
   "source": [
    "# Initialize the model.\n",
    "\n",
    "# Define the wikipedia topic as a string.\n",
    "\n",
    "# Load the wikipedia results as documents, using a max of 2.\n",
    "\n",
    "# Create the QA chain using the LLM.\n",
    "\n",
    "# Define a query as a string.\n",
    "\n",
    "# Pass the documents and the query to the chain, and print the result.\n"
   ]
  },
  {
   "cell_type": "markdown",
   "metadata": {},
   "source": [
    "# External APIs"
   ]
  },
  {
   "cell_type": "code",
   "execution_count": 7,
   "metadata": {},
   "outputs": [],
   "source": [
    "# Additional imports for API chain.\n"
   ]
  },
  {
   "cell_type": "code",
   "execution_count": 8,
   "metadata": {},
   "outputs": [
    {
     "name": "stdout",
     "output_type": "stream",
     "text": [
      "\n",
      "\n",
      "\u001b[1m> Entering new APIChain chain...\u001b[0m\n",
      "\u001b[32;1m\u001b[1;3mhttps://opentdb.com/api.php?amount=1&category=18&difficulty=hard \n",
      "\u001b[0m\n",
      "\u001b[33;1m\u001b[1;3m{\"response_code\":0,\"results\":[{\"type\":\"multiple\",\"difficulty\":\"hard\",\"category\":\"Science: Computers\",\"question\":\"Which of the following computer components can be built using only NAND gates?\",\"correct_answer\":\"ALU\",\"incorrect_answers\":[\"CPU\",\"RAM\",\"Register\"]}]}\u001b[0m\n",
      "\n",
      "\u001b[1m> Finished chain.\u001b[0m\n",
      "A difficult trivia question about Computers is: \"Which of the following computer components can be built using only NAND gates?\". The answer is ALU. \n",
      "\n"
     ]
    }
   ],
   "source": [
    "# Text description of API spec.\n",
    "\n",
    "\n",
    "# Initialize the model.\n",
    "\n",
    "# Create the API chain from the spec, using the LLM.\n",
    "\n",
    "# Define a query as a dictionary.\n",
    "\n",
    "# Run the chain using the query, and print the response.\n"
   ]
  },
  {
   "cell_type": "code",
   "execution_count": 9,
   "metadata": {},
   "outputs": [],
   "source": [
    "# Additional imports for API chain and processing json.\n"
   ]
  },
  {
   "cell_type": "code",
   "execution_count": 10,
   "metadata": {},
   "outputs": [
    {
     "name": "stdout",
     "output_type": "stream",
     "text": [
      "Summary:\n",
      "\n",
      "The 3 strongest Geomagnetic Storms in 2024 were:\n",
      "\n",
      "1. **2024-05-10T15:00:00-GST-001**: Occurred on May 10th, 2024, with a peak KP Index of 9.0.\n",
      "2. **2024-08-12T00:00:00-GST-001**: Occurred on August 12th, 2024, with a peak KP Index of 8.0.\n",
      "3. **2024-03-24T12:00:00-GST-001**: Occurred on March 24th, 2024, with a peak KP Index of 8.0. \n",
      "\n"
     ]
    }
   ],
   "source": [
    "# Store the API key in a variable.\n",
    "\n",
    "# Text description of API spec.\n",
    "\n",
    "# Initialize the model.\n",
    "\n",
    "# Create the API chain from the spec, using the LLM.\n",
    "\n",
    "\n",
    "# Define a query as a string.\n",
    "\n",
    "# Run the chain using the query, and print the response.\n",
    "\n"
   ]
  },
  {
   "cell_type": "code",
   "execution_count": null,
   "metadata": {},
   "outputs": [],
   "source": []
  },
  {
   "cell_type": "code",
   "execution_count": null,
   "metadata": {},
   "outputs": [],
   "source": []
  }
 ],
 "metadata": {
  "kernelspec": {
   "display_name": "Python 3 (ipykernel)",
   "language": "python",
   "name": "python3"
  },
  "language_info": {
   "codemirror_mode": {
    "name": "ipython",
    "version": 3
   },
   "file_extension": ".py",
   "mimetype": "text/x-python",
   "name": "python",
   "nbconvert_exporter": "python",
   "pygments_lexer": "ipython3",
   "version": "3.12.4"
  }
 },
 "nbformat": 4,
 "nbformat_minor": 4
}
