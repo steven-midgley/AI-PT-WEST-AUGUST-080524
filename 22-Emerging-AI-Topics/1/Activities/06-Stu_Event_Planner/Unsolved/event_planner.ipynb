{
 "cells": [
  {
   "cell_type": "code",
   "execution_count": 1,
   "metadata": {},
   "outputs": [],
   "source": [
    "# Imports for loading environment variables.\n",
    "from dotenv import load_dotenv\n",
    "import os"
   ]
  },
  {
   "cell_type": "code",
   "execution_count": 2,
   "metadata": {},
   "outputs": [],
   "source": [
    "# Load environment variables.\n",
    "load_dotenv()\n",
    "\n",
    "# Set the model name for our LLMs.\n",
    "GEMINI_MODEL = \"gemini-1.5-flash\"\n",
    "\n",
    "# Store the API key in a variable.\n",
    "GEMINI_API_KEY = os.getenv(\"GEMINI_API_KEY\")"
   ]
  },
  {
   "cell_type": "code",
   "execution_count": 3,
   "metadata": {},
   "outputs": [],
   "source": [
    "# Additional imports for entity-based memory.\n",
    "from langchain_google_genai import ChatGoogleGenerativeAI\n",
    "from langchain.chains import ConversationChain\n",
    "from langchain.memory import ConversationEntityMemory\n",
    "from langchain.memory.prompt import ENTITY_MEMORY_CONVERSATION_TEMPLATE"
   ]
  },
  {
   "cell_type": "code",
   "execution_count": 4,
   "metadata": {},
   "outputs": [],
   "source": [
    "# Initialize the model.\n"
   ]
  },
  {
   "cell_type": "code",
   "execution_count": 5,
   "metadata": {},
   "outputs": [],
   "source": [
    "# Initialize an object for conversational memory.\n"
   ]
  },
  {
   "cell_type": "code",
   "execution_count": null,
   "metadata": {},
   "outputs": [],
   "source": [
    "# Create the chain for conversation, using a ConversationBufferMemory object.\n"
   ]
  },
  {
   "cell_type": "code",
   "execution_count": 7,
   "metadata": {},
   "outputs": [
    {
     "name": "stdin",
     "output_type": "stream",
     "text": [
      "What is your name? Kendra\n",
      "Please describe your likes and dislikes. History and Art.\n"
     ]
    }
   ],
   "source": [
    "# Prompt the user for their name.\n",
    "\n",
    "# Prompt the user for a description of their likes and dislikes.\n"
   ]
  },
  {
   "cell_type": "code",
   "execution_count": 8,
   "metadata": {},
   "outputs": [
    {
     "data": {
      "text/plain": [
       "{'input': 'My name is Kendra and I will be organizing an activity and attending. History and Art.',\n",
       " 'history': '',\n",
       " 'entities': {'Kendra': '', 'History': '', 'Art': ''},\n",
       " 'response': \"That's great to know, Kendra!  I'm excited to hear about the activity you're organizing.  Is there anything specific you'd like me to help you with regarding history or art?  For example, do you need help brainstorming ideas for the activity, finding resources, or anything else? \\n\"}"
      ]
     },
     "execution_count": 8,
     "metadata": {},
     "output_type": "execute_result"
    }
   ],
   "source": [
    "# Create the query and run the chain with it.\n"
   ]
  },
  {
   "cell_type": "code",
   "execution_count": 9,
   "metadata": {},
   "outputs": [
    {
     "name": "stdin",
     "output_type": "stream",
     "text": [
      "How many other people do you want to plan the activity for? 1\n"
     ]
    }
   ],
   "source": [
    "# Prompt the user for the number of other people.\n"
   ]
  },
  {
   "cell_type": "code",
   "execution_count": 10,
   "metadata": {},
   "outputs": [
    {
     "name": "stdin",
     "output_type": "stream",
     "text": [
      "What is this attendee's name? Erin.\n",
      "Please describe Erin.'s likes and dislikes. Sports and History.\n"
     ]
    },
    {
     "name": "stderr",
     "output_type": "stream",
     "text": [
      "C:\\Users\\metin\\anaconda3\\Lib\\site-packages\\langchain_core\\_api\\deprecation.py:151: LangChainDeprecationWarning: The method `Chain.run` was deprecated in langchain 0.1.0 and will be removed in 1.0. Use invoke instead.\n",
      "  warn_deprecated(\n"
     ]
    }
   ],
   "source": [
    "# Loop for each other person.\n",
    "\n",
    "    # Prompt the user for the attendee's name.\n",
    "    \n",
    "    # Prompt the user for the attendee's likes and dislikes.\n",
    "    \n",
    "\n",
    "    # Construct a query for this attendee and run the chain.\n",
    "    "
   ]
  },
  {
   "cell_type": "code",
   "execution_count": 11,
   "metadata": {},
   "outputs": [],
   "source": [
    "# Define a final query as a string.\n"
   ]
  },
  {
   "cell_type": "code",
   "execution_count": 12,
   "metadata": {},
   "outputs": [
    {
     "name": "stdout",
     "output_type": "stream",
     "text": [
      "That's a great question, Kendra!  Since you have people interested in history, art, sports, and potentially other interests, it's important to find an activity that can appeal to a wide range of people.  Here are a few ideas:\n",
      "\n",
      "**History & Art:**\n",
      "\n",
      "* **Museum Visit:**  Many museums have exhibits that combine history and art, or you could focus on a specific period or theme that interests everyone.\n",
      "* **Historical Walking Tour:**  This could be a great way to explore the history of your local area and see some interesting architecture and art.\n",
      "* **Historical Reenactment:**  This could be a fun and interactive way to learn about history.\n",
      "\n",
      "**Sports & History:**\n",
      "\n",
      "* **Sports Museum Visit:**  Many cities have sports museums that showcase the history of local teams and athletes.\n",
      "* **Historical Sports Documentary:**  There are many great documentaries about the history of sports, which could be a great way to learn about the evolution of different sports.\n",
      "* **Sports-Themed Trivia Night:**  This could be a fun way to test everyone's knowledge of sports history.\n",
      "\n",
      "**Combining Interests:**\n",
      "\n",
      "* **Historical Art Exhibition:**  Many museums have exhibitions that focus on the history of art, which could be a great way to combine both interests.\n",
      "* **Sports-Themed Art Project:**  This could be a fun and creative way to explore the intersection of sports and art.\n",
      "\n",
      "To help me narrow down the best activity for your group, could you tell me more about:\n",
      "\n",
      "* **The size of your group:**  This will help me determine if a large-scale activity or a smaller, more intimate one would be better.\n",
      "* **The location:**  This will help me suggest activities that are accessible to everyone.\n",
      "* **The time of year:**  This will help me suggest activities that are appropriate for the weather.\n",
      "* **The budget:**  This will help me suggest activities that are affordable for everyone.\n",
      "\n",
      "Once I have a better understanding of your needs, I can provide you with more specific recommendations. \n",
      "\n"
     ]
    }
   ],
   "source": [
    "\n",
    "# Pass the query to the predict method which will make a prediction based on the query, and print the result.\n"
   ]
  },
  {
   "cell_type": "code",
   "execution_count": null,
   "metadata": {},
   "outputs": [],
   "source": []
  }
 ],
 "metadata": {
  "kernelspec": {
   "display_name": "Python 3 (ipykernel)",
   "language": "python",
   "name": "python3"
  },
  "language_info": {
   "codemirror_mode": {
    "name": "ipython",
    "version": 3
   },
   "file_extension": ".py",
   "mimetype": "text/x-python",
   "name": "python",
   "nbconvert_exporter": "python",
   "pygments_lexer": "ipython3",
   "version": "3.12.4"
  }
 },
 "nbformat": 4,
 "nbformat_minor": 4
}
