{
 "cells": [
  {
   "cell_type": "markdown",
   "id": "e293dc1e",
   "metadata": {},
   "source": [
    "# Fetch  1min Crypto Price Data "
   ]
  },
  {
   "cell_type": "code",
   "execution_count": null,
   "metadata": {},
   "outputs": [],
   "source": [
    "__Author__ = 'Firas Obeid'"
   ]
  },
  {
   "cell_type": "code",
   "execution_count": 1,
   "id": "1edbf8e7",
   "metadata": {},
   "outputs": [],
   "source": [
    "# Import libraries and dependencies\n",
    "import pandas as pd\n",
    "import ccxt\n",
    "import csv\n",
    "import os\n",
    "from pathlib import Path\n",
    "from dotenv import load_dotenv\n",
    "import json\n",
    "from pytz import timezone\n",
    "from tqdm import tqdm\n",
    "from datetime import datetime\n",
    "from datetime import timedelta\n",
    "import warnings\n",
    "from pytz import timezone # set timezone\n",
    "from io import StringIO\n",
    "warnings.filterwarnings(\"ignore\")"
   ]
  },
  {
   "cell_type": "code",
   "execution_count": 4,
   "id": "cf5e527d",
   "metadata": {
    "tags": []
   },
   "outputs": [],
   "source": [
    "# !pip install python-dotenv\n",
    "# !pip install ccxt"
   ]
  },
  {
   "cell_type": "code",
   "execution_count": 5,
   "id": "1716ce52",
   "metadata": {},
   "outputs": [
    {
     "data": {
      "text/plain": [
       "True"
      ]
     },
     "execution_count": 5,
     "metadata": {},
     "output_type": "execute_result"
    }
   ],
   "source": [
    "load_dotenv()"
   ]
  },
  {
   "cell_type": "code",
   "execution_count": 6,
   "id": "645fc014",
   "metadata": {},
   "outputs": [],
   "source": [
    "# Read the Broker API key &  Secret Key\n",
    "binance_key = os.getenv('BINANCEUS_KEY')\n",
    "binance_secret = os.getenv('BINANCEUS_SECRET')\n",
    "\n",
    "krayken_key = os.getenv('KRAYKEN_KEY')\n",
    "krayken_secret = os.getenv('KRAKEN_SECRET')\n",
    "\n",
    "mexc_key = os.getenv('MEXC_KEY')\n",
    "mexc_secret = os.getenv('MEXC_SECRET')\n",
    "\n",
    "kucoin_key = os.getenv('KUCOIN_KEY')\n",
    "kucoin_secret = os.getenv('KUCOIN_SECRET ')\n",
    "\n",
    "ex1 = \"binanceus\"\n",
    "ex2 = \"kraken\"\n",
    "ex3 = \"mexc\"\n",
    "ex4 = \"kucoin\""
   ]
  },
  {
   "cell_type": "code",
   "execution_count": null,
   "id": "cc383d29-dfe3-4828-8a4a-fa5ab5b1a458",
   "metadata": {},
   "outputs": [],
   "source": [
    "ccxt."
   ]
  },
  {
   "cell_type": "markdown",
   "id": "4bcd16a1",
   "metadata": {},
   "source": [
    "#### BinanceUS"
   ]
  },
  {
   "cell_type": "code",
   "execution_count": 7,
   "id": "f063e78a",
   "metadata": {},
   "outputs": [],
   "source": [
    "exchange_class1 = getattr(ccxt,ex1)\n",
    "exchange = exchange_class1({'verbose': True})\n",
    "binanceus = exchange_class1({\n",
    "    'apiKey': binance_key,\n",
    "    'secret': binance_secret,\n",
    "})"
   ]
  },
  {
   "cell_type": "markdown",
   "id": "f216b5aa",
   "metadata": {},
   "source": [
    "#### Kraken"
   ]
  },
  {
   "cell_type": "code",
   "execution_count": 8,
   "id": "50542e10",
   "metadata": {},
   "outputs": [],
   "source": [
    "exchange_class2 = getattr(ccxt,ex2)\n",
    "kraken = exchange_class2({'verbose': True})\n",
    "kraken = exchange_class2({\n",
    "    'apiKey': krayken_key,\n",
    "    'secret': krayken_secret,\n",
    "})"
   ]
  },
  {
   "cell_type": "markdown",
   "id": "2cebeca6",
   "metadata": {},
   "source": [
    "##### MEXN"
   ]
  },
  {
   "cell_type": "code",
   "execution_count": 9,
   "id": "3595bf75",
   "metadata": {},
   "outputs": [],
   "source": [
    "exchange_class3 = getattr(ccxt,ex3)\n",
    "exchange = exchange_class3({'verbose': True})\n",
    "mexc = exchange_class3({\n",
    "    'apiKey': mexc_key,\n",
    "    'secret': mexc_secret,\n",
    "})"
   ]
  },
  {
   "cell_type": "markdown",
   "id": "4388b19a",
   "metadata": {},
   "source": [
    "#### Kucoin"
   ]
  },
  {
   "cell_type": "code",
   "execution_count": 10,
   "id": "044c8091",
   "metadata": {},
   "outputs": [],
   "source": [
    "exchange_class4 = getattr(ccxt,ex4)\n",
    "exchange = exchange_class4({'verbose': True})\n",
    "kucoin = exchange_class4({\n",
    "    'apiKey': kucoin_key,\n",
    "    'secret': kucoin_secret,\n",
    "})"
   ]
  },
  {
   "cell_type": "markdown",
   "id": "3e20bf37",
   "metadata": {},
   "source": [
    "#### Load Tickers & Fetching Code"
   ]
  },
  {
   "cell_type": "code",
   "execution_count": 11,
   "id": "e6f162d0",
   "metadata": {
    "tags": []
   },
   "outputs": [
    {
     "name": "stdout",
     "output_type": "stream",
     "text": [
      "Loaded 8175 tickers\n"
     ]
    }
   ],
   "source": [
    "with open('crypto_tickers.json',errors=\"ignore\") as f:\n",
    "    data = list(json.load(f))\n",
    "    print(f\"Loaded {len(data)} tickers\")"
   ]
  },
  {
   "cell_type": "code",
   "execution_count": 12,
   "id": "22c21921",
   "metadata": {},
   "outputs": [],
   "source": [
    "# #only call once per fetching session\n",
    "# def get_max_time(ex_name):\n",
    "#     global max_date\n",
    "#     # chunk = pd.read_csv(\"Firas_prices_v2.csv\", index_col=0, chunksize=1000000)\n",
    "#     # df =  pd.concat(chunk)\n",
    "#     df = pd.read_csv(\"Firas_prices_v2.1.csv\", index_col=0)[[\"timestamp\",\"exchange\"]]\n",
    "#     try:\n",
    "#         if len(df[df.exchange == ex_name]) > 0:\n",
    "#             max_date = df[df.exchange == ex_name].timestamp.max()\n",
    "#         else:\n",
    "#             max_date = df.timestamp.max()\n",
    "#     except:\n",
    "#         max_date = df.timestamp.max()\n",
    "#     max_date = pd.to_datetime(max_date).tz_convert('US/Eastern')\n",
    "#     print(\"Max time found in database\", max_date)\n",
    "#     max_date = int(int(max_date.asm8)/1e6) # match date length of apis parameters which is 13 digits long\n",
    "#     max_date = int(max_date + 1e3) #skip 1 minute past last max date + 1e3\n",
    "#only call once per fetching session\n",
    "def get_max_time(ex_name):\n",
    "    global max_date\n",
    "    with pd.HDFStore(\"crypto_prices.h5\", fletcher32 = True, complevel = 9) as store:\n",
    "        df = store[\"prices/max_minute\"]\n",
    "    try:\n",
    "        if isinstance(df, pd.DataFrame):\n",
    "            max_date = df.loc[ex_name,:][0]\n",
    "    except:\n",
    "        return(\"Please check dates\")\n",
    "    max_date = pd.to_datetime(max_date).tz_convert('US/Eastern')\n",
    "    print(\"Max time found in database\", max_date)\n",
    "    max_date = int(int(max_date.asm8)/1e6) # match date length of apis parameters which is 13 digits long\n",
    "    max_date = int(max_date + 1e4*6) #skip 1 minute past last max date + 1e4*6 (1e3 is one second)\n",
    "    \n",
    "def csv_logger(error):\n",
    "    try:\n",
    "        with open('error_logger_v2.1.csv', 'a', newline='') as f:\n",
    "            writer = csv.writer(f)\n",
    "            writer.writerow(error)\n",
    "    except:\n",
    "        pass\n",
    "def date_to_unix(date):\n",
    "    try:\n",
    "        return int(int(pd.to_datetime(str(date)).tz_localize('US/Eastern').asm8)/1e6)\n",
    "    except:\n",
    "        return int(int(pd.to_datetime(str(date)).tz_convert('US/Eastern').asm8)/1e6)\n",
    "    \n",
    "def unix_to_date(unix):\n",
    "    return pd.to_datetime(unix, unit = \"ms\").tz_localize('UTC').tz_convert('US/Eastern')\n",
    "\n",
    "def backdays_to_unix(back_days):\n",
    "    back_date = datetime.now() + timedelta(days = -back_days)\n",
    "    back_date = str(int((back_date - datetime(1970,1,1)).total_seconds() *1e3)) #1e3 for ms\n",
    "    return back_date"
   ]
  },
  {
   "cell_type": "code",
   "execution_count": 13,
   "id": "975840dd",
   "metadata": {
    "tags": []
   },
   "outputs": [],
   "source": [
    "def get_crypto_prices(data, exchange, limit, ex_name):\n",
    "    global not_found_ticker\n",
    "    # global all_prices\n",
    "    all_prices = pd.DataFrame()\n",
    "    not_found_ticker = []\n",
    "    csv_logger(str(pd.to_datetime(max_date, unit = \"ms\").tz_localize('UTC').tz_convert('US/Eastern')))\n",
    "    for i in tqdm(data):\n",
    "        try:\n",
    "            temp_df = pd.DataFrame(exchange.fetch_ohlcv(\"%s/USD\"%i, since = max_date, limit = limit, timeframe = \"1m\"), columns = [\"timestamp\", \"Open\",\"High\", \"Low\", \"Close\", \"Volume\"])\n",
    "            temp_df[\"ticker\"] = \"%s/USD\"%i\n",
    "        except Exception as err:\n",
    "            csv_logger(err.args)\n",
    "            try:\n",
    "                temp_df = pd.DataFrame(exchange.fetch_ohlcv(\"%s/USDC\"%i, since = max_date, limit = limit, timeframe = \"1m\"), columns = [\"timestamp\", \"Open\",\"High\", \"Low\", \"Close\", \"Volume\"])\n",
    "                temp_df[\"ticker\"] = \"%s/USDC\"%i\n",
    "            except Exception as err:\n",
    "                csv_logger(err.args)\n",
    "                try:\n",
    "                    temp_df = pd.DataFrame(exchange.fetch_ohlcv(\"%s/USDT\"%i, since = max_date, limit = limit, timeframe = \"1m\"), columns = [\"timestamp\", \"Open\",\"High\", \"Low\", \"Close\", \"Volume\"])\n",
    "                    temp_df[\"ticker\"] = \"%s/USDT\"%i\n",
    "                except Exception as err:\n",
    "                    csv_logger(err.args)\n",
    "                    temp_df = None\n",
    "                    pass\n",
    "\n",
    "            if (isinstance(temp_df,pd.DataFrame) == True):\n",
    "                if len(temp_df) > 0:\n",
    "                    all_prices = all_prices.append(temp_df,ignore_index=True)\n",
    "                else: not_found_ticker.append(i); continue;\n",
    "            else: not_found_ticker.append(i); continue;\n",
    "\n",
    "    ##############\n",
    "    #Final Result#\n",
    "    ##############\n",
    "    if len(all_prices) > 0 & (isinstance(all_prices,pd.DataFrame) == True):\n",
    "        try:\n",
    "            all_prices[\"timestamp\"] = pd.to_datetime(all_prices[\"timestamp\"], unit = \"ms\").apply(lambda x:x.tz_localize('UTC').tz_convert('US/Eastern'))\n",
    "            all_prices[\"exchange\"] = ex_name\n",
    "            all_prices.reset_index(drop = True, inplace = True)\n",
    "            if os.path.exists(\"crypto_prices.h5\") == True:\n",
    "                all_prices = all_prices.set_index(\"timestamp\")\n",
    "                with pd.HDFStore(\"crypto_prices.h5\", fletcher32 = True, complevel = 9) as store:\n",
    "                    max_date_df = store[\"prices/max_minute\"]\n",
    "                    max_date_df.loc[ex_name,:] = str(all_prices.index.max())\n",
    "                    store.put(\"prices/max_minute\", max_date_df, index = False, \n",
    "                              encoding = 'UTF-8',format = 'table') #append is FALSE/ replace the table\n",
    "                with pd.HDFStore(\"crypto_prices.h5\", fletcher32 = True, complevel = 9) as store:\n",
    "                    store.put(\"prices/minute\", all_prices, index = False, \n",
    "                              encoding = 'UTF-8',format = 'table',\n",
    "                              append = True, min_itemsize={'exchange':9}) #CHECK DATA_COLS = T AND MIN_ITEM\n",
    "            else:\n",
    "                if os.path.exists(\"output.csv\") == False: all_prices.head(0).to_csv(\"output.csv\", mode='w', header=True)\n",
    "                all_prices.to_csv(\"output.csv\", mode='a', header=False)\n",
    "                \n",
    "                \n",
    "            print(\"Tickers Found \", len(all_prices.ticker.unique()))\n",
    "            print(\"Ticker not Found \", len(not_found_ticker))\n",
    "        except Exception as err:\n",
    "            csv_logger(err.args)\n",
    "            print(\"The Exception raised is: \" ,err)\n",
    "    else:\n",
    "        print(\"No data found!\")\n",
    "    print(\"Done on :\",datetime.now())\n",
    "    #pd.to_datetime(all_prices[\"timestamp\"], unit = \"ms\").apply(lambda x:x.tz_localize('UTC').tz_convert('US/Eastern'))\n"
   ]
  },
  {
   "cell_type": "code",
   "execution_count": 14,
   "id": "368ba10e",
   "metadata": {
    "collapsed": true,
    "jupyter": {
     "outputs_hidden": true
    },
    "tags": []
   },
   "outputs": [
    {
     "name": "stdout",
     "output_type": "stream",
     "text": [
      "Max time found in database 2021-12-28 22:16:00-05:00\n",
      "kucoin\n"
     ]
    },
    {
     "name": "stderr",
     "output_type": "stream",
     "text": [
      "100%|██████████████████████████████████████████████████████████████████████████████| 8175/8175 [03:48<00:00, 35.79it/s]\n"
     ]
    },
    {
     "name": "stdout",
     "output_type": "stream",
     "text": [
      "Tickers Found  441\n",
      "Ticker not Found  7664\n",
      "Done on : 2022-10-16 12:40:32.260903\n",
      "Max time found in database 2021-12-28 22:20:00-05:00\n",
      "mexc\n"
     ]
    },
    {
     "name": "stderr",
     "output_type": "stream",
     "text": [
      "100%|██████████████████████████████████████████████████████████████████████████████| 7664/7664 [03:20<00:00, 38.16it/s]\n"
     ]
    },
    {
     "name": "stdout",
     "output_type": "stream",
     "text": [
      "No data found!\n",
      "Done on : 2022-10-16 12:43:53.190998\n",
      "Max time found in database 2021-11-02 08:00:00-04:00\n",
      "binanceus\n"
     ]
    },
    {
     "name": "stderr",
     "output_type": "stream",
     "text": [
      "100%|██████████████████████████████████████████████████████████████████████████████| 7664/7664 [25:38<00:00,  4.98it/s]\n"
     ]
    },
    {
     "name": "stdout",
     "output_type": "stream",
     "text": [
      "No data found!\n",
      "Done on : 2022-10-16 13:09:32.620874\n",
      "Max time found in database 2021-12-29 23:16:00-05:00\n",
      "kucoin\n"
     ]
    },
    {
     "name": "stderr",
     "output_type": "stream",
     "text": [
      "100%|██████████████████████████████████████████████████████████████████████████████| 8175/8175 [03:42<00:00, 36.73it/s]\n"
     ]
    },
    {
     "name": "stdout",
     "output_type": "stream",
     "text": [
      "The Exception raised is:  HDF5 error back trace\n",
      "\n",
      "  File \"C:\\ci\\hdf5_1611496732392\\work\\src\\H5Dio.c\", line 314, in H5Dwrite\n",
      "    can't write data\n",
      "  File \"C:\\ci\\hdf5_1611496732392\\work\\src\\H5VLcallback.c\", line 2186, in H5VL_dataset_write\n",
      "    dataset write failed\n",
      "  File \"C:\\ci\\hdf5_1611496732392\\work\\src\\H5VLcallback.c\", line 2152, in H5VL__dataset_write\n",
      "    dataset write failed\n",
      "  File \"C:\\ci\\hdf5_1611496732392\\work\\src\\H5VLnative_dataset.c\", line 207, in H5VL__native_dataset_write\n",
      "    can't write data\n",
      "  File \"C:\\ci\\hdf5_1611496732392\\work\\src\\H5Dio.c\", line 781, in H5D__write\n",
      "    can't write data\n",
      "  File \"C:\\ci\\hdf5_1611496732392\\work\\src\\H5Dchunk.c\", line 2699, in H5D__chunk_write\n",
      "    error looking up chunk address\n",
      "  File \"C:\\ci\\hdf5_1611496732392\\work\\src\\H5Dchunk.c\", line 3285, in H5D__chunk_lookup\n",
      "    can't query chunk address\n",
      "  File \"C:\\ci\\hdf5_1611496732392\\work\\src\\H5Dbtree.c\", line 1049, in H5D__btree_idx_get_addr\n",
      "    can't get chunk info\n",
      "  File \"C:\\ci\\hdf5_1611496732392\\work\\src\\H5B.c\", line 358, in H5B_find\n",
      "    can't lookup key in subtree\n",
      "  File \"C:\\ci\\hdf5_1611496732392\\work\\src\\H5B.c\", line 358, in H5B_find\n",
      "    can't lookup key in subtree\n",
      "  File \"C:\\ci\\hdf5_1611496732392\\work\\src\\H5B.c\", line 358, in H5B_find\n",
      "    can't lookup key in subtree\n",
      "  File \"C:\\ci\\hdf5_1611496732392\\work\\src\\H5B.c\", line 336, in H5B_find\n",
      "    unable to load B-tree node\n",
      "  File \"C:\\ci\\hdf5_1611496732392\\work\\src\\H5AC.c\", line 1312, in H5AC_protect\n",
      "    H5C_protect() failed\n",
      "  File \"C:\\ci\\hdf5_1611496732392\\work\\src\\H5C.c\", line 2346, in H5C_protect\n",
      "    can't load entry\n",
      "  File \"C:\\ci\\hdf5_1611496732392\\work\\src\\H5C.c\", line 6598, in H5C_load_entry\n",
      "    Can't read image*\n",
      "  File \"C:\\ci\\hdf5_1611496732392\\work\\src\\H5Fio.c\", line 161, in H5F_block_read\n",
      "    read through page buffer failed\n",
      "  File \"C:\\ci\\hdf5_1611496732392\\work\\src\\H5PB.c\", line 736, in H5PB_read\n",
      "    read through metadata accumulator failed\n",
      "  File \"C:\\ci\\hdf5_1611496732392\\work\\src\\H5Faccum.c\", line 212, in H5F__accum_read\n",
      "    driver read request failed\n",
      "  File \"C:\\ci\\hdf5_1611496732392\\work\\src\\H5FDint.c\", line 193, in H5FD_read\n",
      "    addr overflow, addr = 5309126673, size = 2096, eoa = 5295699977\n",
      "\n",
      "End of HDF5 error back trace\n",
      "\n",
      "Problems appending the records.\n",
      "Done on : 2022-10-16 13:13:29.895257\n",
      "Max time found in database 2021-12-28 22:20:00-05:00\n",
      "mexc\n"
     ]
    },
    {
     "name": "stderr",
     "output_type": "stream",
     "text": [
      "100%|██████████████████████████████████████████████████████████████████████████████| 7666/7666 [03:14<00:00, 39.36it/s]\n"
     ]
    },
    {
     "name": "stdout",
     "output_type": "stream",
     "text": [
      "No data found!\n",
      "Done on : 2022-10-16 13:16:44.676899\n",
      "Max time found in database 2021-11-02 08:00:00-04:00\n",
      "binanceus\n"
     ]
    },
    {
     "name": "stderr",
     "output_type": "stream",
     "text": [
      "100%|████████████████████████████████████████████████████████████████████████████| 7666/7666 [2:36:56<00:00,  1.23s/it]\n"
     ]
    },
    {
     "name": "stdout",
     "output_type": "stream",
     "text": [
      "No data found!\n",
      "Done on : 2022-10-16 15:53:41.376786\n",
      "Max time found in database 2021-12-31 00:16:00-05:00\n",
      "kucoin\n"
     ]
    },
    {
     "name": "stderr",
     "output_type": "stream",
     "text": [
      "100%|██████████████████████████████████████████████████████████████████████████████| 8175/8175 [03:46<00:00, 36.12it/s]\n"
     ]
    },
    {
     "name": "stdout",
     "output_type": "stream",
     "text": [
      "The Exception raised is:  HDF5 error back trace\n",
      "\n",
      "  File \"C:\\ci\\hdf5_1611496732392\\work\\src\\H5Dio.c\", line 314, in H5Dwrite\n",
      "    can't write data\n",
      "  File \"C:\\ci\\hdf5_1611496732392\\work\\src\\H5VLcallback.c\", line 2186, in H5VL_dataset_write\n",
      "    dataset write failed\n",
      "  File \"C:\\ci\\hdf5_1611496732392\\work\\src\\H5VLcallback.c\", line 2152, in H5VL__dataset_write\n",
      "    dataset write failed\n",
      "  File \"C:\\ci\\hdf5_1611496732392\\work\\src\\H5VLnative_dataset.c\", line 207, in H5VL__native_dataset_write\n",
      "    can't write data\n",
      "  File \"C:\\ci\\hdf5_1611496732392\\work\\src\\H5Dio.c\", line 781, in H5D__write\n",
      "    can't write data\n",
      "  File \"C:\\ci\\hdf5_1611496732392\\work\\src\\H5Dchunk.c\", line 2728, in H5D__chunk_write\n",
      "    unable to read raw data chunk\n",
      "  File \"C:\\ci\\hdf5_1611496732392\\work\\src\\H5Dchunk.c\", line 4034, in H5D__chunk_lock\n",
      "    unable to preempt chunk(s) from cache\n",
      "  File \"C:\\ci\\hdf5_1611496732392\\work\\src\\H5Dchunk.c\", line 3700, in H5D__chunk_cache_prune\n",
      "    unable to preempt one or more raw data cache entry\n",
      "  File \"C:\\ci\\hdf5_1611496732392\\work\\src\\H5Dchunk.c\", line 3551, in H5D__chunk_cache_evict\n",
      "    cannot flush indexed storage buffer\n",
      "  File \"C:\\ci\\hdf5_1611496732392\\work\\src\\H5Dchunk.c\", line 3477, in H5D__chunk_flush_entry\n",
      "    unable to insert chunk addr into index\n",
      "  File \"C:\\ci\\hdf5_1611496732392\\work\\src\\H5Dbtree.c\", line 1010, in H5D__btree_idx_insert\n",
      "    unable to allocate chunk\n",
      "  File \"C:\\ci\\hdf5_1611496732392\\work\\src\\H5B.c\", line 599, in H5B_insert\n",
      "    unable to insert key\n",
      "  File \"C:\\ci\\hdf5_1611496732392\\work\\src\\H5B.c\", line 947, in H5B__insert_helper\n",
      "    can't insert maximum subtree\n",
      "  File \"C:\\ci\\hdf5_1611496732392\\work\\src\\H5B.c\", line 947, in H5B__insert_helper\n",
      "    can't insert maximum subtree\n",
      "  File \"C:\\ci\\hdf5_1611496732392\\work\\src\\H5B.c\", line 941, in H5B__insert_helper\n",
      "    unable to load node\n",
      "  File \"C:\\ci\\hdf5_1611496732392\\work\\src\\H5AC.c\", line 1312, in H5AC_protect\n",
      "    H5C_protect() failed\n",
      "  File \"C:\\ci\\hdf5_1611496732392\\work\\src\\H5C.c\", line 2346, in H5C_protect\n",
      "    can't load entry\n",
      "  File \"C:\\ci\\hdf5_1611496732392\\work\\src\\H5C.c\", line 6598, in H5C_load_entry\n",
      "    Can't read image*\n",
      "  File \"C:\\ci\\hdf5_1611496732392\\work\\src\\H5Fio.c\", line 161, in H5F_block_read\n",
      "    read through page buffer failed\n",
      "  File \"C:\\ci\\hdf5_1611496732392\\work\\src\\H5PB.c\", line 736, in H5PB_read\n",
      "    read through metadata accumulator failed\n",
      "  File \"C:\\ci\\hdf5_1611496732392\\work\\src\\H5Faccum.c\", line 212, in H5F__accum_read\n",
      "    driver read request failed\n",
      "  File \"C:\\ci\\hdf5_1611496732392\\work\\src\\H5FDint.c\", line 193, in H5FD_read\n",
      "    addr overflow, addr = 5309126673, size = 2096, eoa = 5295712456\n",
      "\n",
      "End of HDF5 error back trace\n",
      "\n",
      "Problems appending the records.\n",
      "Done on : 2022-10-16 15:57:41.877155\n",
      "Max time found in database 2021-12-28 22:20:00-05:00\n",
      "mexc\n"
     ]
    },
    {
     "name": "stderr",
     "output_type": "stream",
     "text": [
      "100%|██████████████████████████████████████████████████████████████████████████████| 7662/7662 [03:47<00:00, 33.71it/s]\n"
     ]
    },
    {
     "name": "stdout",
     "output_type": "stream",
     "text": [
      "No data found!\n",
      "Done on : 2022-10-16 16:01:29.207433\n",
      "Max time found in database 2021-11-02 08:00:00-04:00\n",
      "binanceus\n"
     ]
    },
    {
     "name": "stderr",
     "output_type": "stream",
     "text": [
      "100%|██████████████████████████████████████████████████████████████████████████████| 7662/7662 [41:10<00:00,  3.10it/s]\n"
     ]
    },
    {
     "name": "stdout",
     "output_type": "stream",
     "text": [
      "No data found!\n",
      "Done on : 2022-10-16 16:42:39.946405\n",
      "Max time found in database 2022-01-01 01:16:00-05:00\n",
      "kucoin\n"
     ]
    },
    {
     "name": "stderr",
     "output_type": "stream",
     "text": [
      "100%|██████████████████████████████████████████████████████████████████████████████| 8175/8175 [03:23<00:00, 40.20it/s]\n"
     ]
    },
    {
     "name": "stdout",
     "output_type": "stream",
     "text": [
      "The Exception raised is:  HDF5 error back trace\n",
      "\n",
      "  File \"C:\\ci\\hdf5_1611496732392\\work\\src\\H5Dio.c\", line 314, in H5Dwrite\n",
      "    can't write data\n",
      "  File \"C:\\ci\\hdf5_1611496732392\\work\\src\\H5VLcallback.c\", line 2186, in H5VL_dataset_write\n",
      "    dataset write failed\n",
      "  File \"C:\\ci\\hdf5_1611496732392\\work\\src\\H5VLcallback.c\", line 2152, in H5VL__dataset_write\n",
      "    dataset write failed\n",
      "  File \"C:\\ci\\hdf5_1611496732392\\work\\src\\H5VLnative_dataset.c\", line 207, in H5VL__native_dataset_write\n",
      "    can't write data\n",
      "  File \"C:\\ci\\hdf5_1611496732392\\work\\src\\H5Dio.c\", line 781, in H5D__write\n",
      "    can't write data\n",
      "  File \"C:\\ci\\hdf5_1611496732392\\work\\src\\H5Dchunk.c\", line 2728, in H5D__chunk_write\n",
      "    unable to read raw data chunk\n",
      "  File \"C:\\ci\\hdf5_1611496732392\\work\\src\\H5Dchunk.c\", line 4034, in H5D__chunk_lock\n",
      "    unable to preempt chunk(s) from cache\n",
      "  File \"C:\\ci\\hdf5_1611496732392\\work\\src\\H5Dchunk.c\", line 3700, in H5D__chunk_cache_prune\n",
      "    unable to preempt one or more raw data cache entry\n",
      "  File \"C:\\ci\\hdf5_1611496732392\\work\\src\\H5Dchunk.c\", line 3551, in H5D__chunk_cache_evict\n",
      "    cannot flush indexed storage buffer\n",
      "  File \"C:\\ci\\hdf5_1611496732392\\work\\src\\H5Dchunk.c\", line 3477, in H5D__chunk_flush_entry\n",
      "    unable to insert chunk addr into index\n",
      "  File \"C:\\ci\\hdf5_1611496732392\\work\\src\\H5Dbtree.c\", line 1010, in H5D__btree_idx_insert\n",
      "    unable to allocate chunk\n",
      "  File \"C:\\ci\\hdf5_1611496732392\\work\\src\\H5B.c\", line 599, in H5B_insert\n",
      "    unable to insert key\n",
      "  File \"C:\\ci\\hdf5_1611496732392\\work\\src\\H5B.c\", line 947, in H5B__insert_helper\n",
      "    can't insert maximum subtree\n",
      "  File \"C:\\ci\\hdf5_1611496732392\\work\\src\\H5B.c\", line 947, in H5B__insert_helper\n",
      "    can't insert maximum subtree\n",
      "  File \"C:\\ci\\hdf5_1611496732392\\work\\src\\H5B.c\", line 941, in H5B__insert_helper\n",
      "    unable to load node\n",
      "  File \"C:\\ci\\hdf5_1611496732392\\work\\src\\H5AC.c\", line 1312, in H5AC_protect\n",
      "    H5C_protect() failed\n",
      "  File \"C:\\ci\\hdf5_1611496732392\\work\\src\\H5C.c\", line 2346, in H5C_protect\n",
      "    can't load entry\n",
      "  File \"C:\\ci\\hdf5_1611496732392\\work\\src\\H5C.c\", line 6598, in H5C_load_entry\n",
      "    Can't read image*\n",
      "  File \"C:\\ci\\hdf5_1611496732392\\work\\src\\H5Fio.c\", line 161, in H5F_block_read\n",
      "    read through page buffer failed\n",
      "  File \"C:\\ci\\hdf5_1611496732392\\work\\src\\H5PB.c\", line 736, in H5PB_read\n",
      "    read through metadata accumulator failed\n",
      "  File \"C:\\ci\\hdf5_1611496732392\\work\\src\\H5Faccum.c\", line 212, in H5F__accum_read\n",
      "    driver read request failed\n",
      "  File \"C:\\ci\\hdf5_1611496732392\\work\\src\\H5FDint.c\", line 193, in H5FD_read\n",
      "    addr overflow, addr = 5309126673, size = 2096, eoa = 5296476657\n",
      "\n",
      "End of HDF5 error back trace\n",
      "\n",
      "Problems appending the records.\n",
      "Done on : 2022-10-16 16:46:15.554955\n",
      "Max time found in database 2021-12-28 22:20:00-05:00\n",
      "mexc\n"
     ]
    },
    {
     "name": "stderr",
     "output_type": "stream",
     "text": [
      "100%|██████████████████████████████████████████████████████████████████████████████| 7670/7670 [03:47<00:00, 33.75it/s]\n"
     ]
    },
    {
     "name": "stdout",
     "output_type": "stream",
     "text": [
      "No data found!\n",
      "Done on : 2022-10-16 16:50:02.858306\n",
      "Max time found in database 2021-11-02 08:00:00-04:00\n",
      "binanceus\n"
     ]
    },
    {
     "name": "stderr",
     "output_type": "stream",
     "text": [
      "100%|██████████████████████████████████████████████████████████████████████████████| 7670/7670 [26:04<00:00,  4.90it/s]\n"
     ]
    },
    {
     "name": "stdout",
     "output_type": "stream",
     "text": [
      "No data found!\n",
      "Done on : 2022-10-16 17:16:07.201883\n",
      "Max time found in database 2022-01-02 02:16:00-05:00\n",
      "kucoin\n"
     ]
    },
    {
     "name": "stderr",
     "output_type": "stream",
     "text": [
      "100%|██████████████████████████████████████████████████████████████████████████████| 8175/8175 [03:24<00:00, 40.07it/s]\n"
     ]
    },
    {
     "name": "stdout",
     "output_type": "stream",
     "text": [
      "The Exception raised is:  HDF5 error back trace\n",
      "\n",
      "  File \"C:\\ci\\hdf5_1611496732392\\work\\src\\H5Dio.c\", line 314, in H5Dwrite\n",
      "    can't write data\n",
      "  File \"C:\\ci\\hdf5_1611496732392\\work\\src\\H5VLcallback.c\", line 2186, in H5VL_dataset_write\n",
      "    dataset write failed\n",
      "  File \"C:\\ci\\hdf5_1611496732392\\work\\src\\H5VLcallback.c\", line 2152, in H5VL__dataset_write\n",
      "    dataset write failed\n",
      "  File \"C:\\ci\\hdf5_1611496732392\\work\\src\\H5VLnative_dataset.c\", line 207, in H5VL__native_dataset_write\n",
      "    can't write data\n",
      "  File \"C:\\ci\\hdf5_1611496732392\\work\\src\\H5Dio.c\", line 781, in H5D__write\n",
      "    can't write data\n",
      "  File \"C:\\ci\\hdf5_1611496732392\\work\\src\\H5Dchunk.c\", line 2728, in H5D__chunk_write\n",
      "    unable to read raw data chunk\n",
      "  File \"C:\\ci\\hdf5_1611496732392\\work\\src\\H5Dchunk.c\", line 4034, in H5D__chunk_lock\n",
      "    unable to preempt chunk(s) from cache\n",
      "  File \"C:\\ci\\hdf5_1611496732392\\work\\src\\H5Dchunk.c\", line 3700, in H5D__chunk_cache_prune\n",
      "    unable to preempt one or more raw data cache entry\n",
      "  File \"C:\\ci\\hdf5_1611496732392\\work\\src\\H5Dchunk.c\", line 3551, in H5D__chunk_cache_evict\n",
      "    cannot flush indexed storage buffer\n",
      "  File \"C:\\ci\\hdf5_1611496732392\\work\\src\\H5Dchunk.c\", line 3477, in H5D__chunk_flush_entry\n",
      "    unable to insert chunk addr into index\n",
      "  File \"C:\\ci\\hdf5_1611496732392\\work\\src\\H5Dbtree.c\", line 1010, in H5D__btree_idx_insert\n",
      "    unable to allocate chunk\n",
      "  File \"C:\\ci\\hdf5_1611496732392\\work\\src\\H5B.c\", line 599, in H5B_insert\n",
      "    unable to insert key\n",
      "  File \"C:\\ci\\hdf5_1611496732392\\work\\src\\H5B.c\", line 947, in H5B__insert_helper\n",
      "    can't insert maximum subtree\n",
      "  File \"C:\\ci\\hdf5_1611496732392\\work\\src\\H5B.c\", line 947, in H5B__insert_helper\n",
      "    can't insert maximum subtree\n",
      "  File \"C:\\ci\\hdf5_1611496732392\\work\\src\\H5B.c\", line 941, in H5B__insert_helper\n",
      "    unable to load node\n",
      "  File \"C:\\ci\\hdf5_1611496732392\\work\\src\\H5AC.c\", line 1312, in H5AC_protect\n",
      "    H5C_protect() failed\n",
      "  File \"C:\\ci\\hdf5_1611496732392\\work\\src\\H5C.c\", line 2346, in H5C_protect\n",
      "    can't load entry\n",
      "  File \"C:\\ci\\hdf5_1611496732392\\work\\src\\H5C.c\", line 6598, in H5C_load_entry\n",
      "    Can't read image*\n",
      "  File \"C:\\ci\\hdf5_1611496732392\\work\\src\\H5Fio.c\", line 161, in H5F_block_read\n",
      "    read through page buffer failed\n",
      "  File \"C:\\ci\\hdf5_1611496732392\\work\\src\\H5PB.c\", line 736, in H5PB_read\n",
      "    read through metadata accumulator failed\n",
      "  File \"C:\\ci\\hdf5_1611496732392\\work\\src\\H5Faccum.c\", line 212, in H5F__accum_read\n",
      "    driver read request failed\n",
      "  File \"C:\\ci\\hdf5_1611496732392\\work\\src\\H5FDint.c\", line 193, in H5FD_read\n",
      "    addr overflow, addr = 5309126673, size = 2096, eoa = 5297211140\n",
      "\n",
      "End of HDF5 error back trace\n",
      "\n",
      "Problems appending the records.\n",
      "Done on : 2022-10-16 17:19:43.790755\n",
      "Max time found in database 2021-12-28 22:20:00-05:00\n",
      "mexc\n"
     ]
    },
    {
     "name": "stderr",
     "output_type": "stream",
     "text": [
      "100%|██████████████████████████████████████████████████████████████████████████████| 7663/7663 [03:45<00:00, 34.00it/s]\n"
     ]
    },
    {
     "name": "stdout",
     "output_type": "stream",
     "text": [
      "No data found!\n",
      "Done on : 2022-10-16 17:23:29.197970\n",
      "Max time found in database 2021-11-02 08:00:00-04:00\n",
      "binanceus\n"
     ]
    },
    {
     "name": "stderr",
     "output_type": "stream",
     "text": [
      "100%|██████████████████████████████████████████████████████████████████████████████| 7663/7663 [25:43<00:00,  4.96it/s]\n"
     ]
    },
    {
     "name": "stdout",
     "output_type": "stream",
     "text": [
      "No data found!\n",
      "Done on : 2022-10-16 17:49:12.963864\n",
      "Max time found in database 2022-01-03 03:16:00-05:00\n",
      "kucoin\n"
     ]
    },
    {
     "name": "stderr",
     "output_type": "stream",
     "text": [
      "100%|██████████████████████████████████████████████████████████████████████████████| 8175/8175 [03:29<00:00, 38.95it/s]\n"
     ]
    },
    {
     "name": "stdout",
     "output_type": "stream",
     "text": [
      "The Exception raised is:  HDF5 error back trace\n",
      "\n",
      "  File \"C:\\ci\\hdf5_1611496732392\\work\\src\\H5Dio.c\", line 314, in H5Dwrite\n",
      "    can't write data\n",
      "  File \"C:\\ci\\hdf5_1611496732392\\work\\src\\H5VLcallback.c\", line 2186, in H5VL_dataset_write\n",
      "    dataset write failed\n",
      "  File \"C:\\ci\\hdf5_1611496732392\\work\\src\\H5VLcallback.c\", line 2152, in H5VL__dataset_write\n",
      "    dataset write failed\n",
      "  File \"C:\\ci\\hdf5_1611496732392\\work\\src\\H5VLnative_dataset.c\", line 207, in H5VL__native_dataset_write\n",
      "    can't write data\n",
      "  File \"C:\\ci\\hdf5_1611496732392\\work\\src\\H5Dio.c\", line 781, in H5D__write\n",
      "    can't write data\n",
      "  File \"C:\\ci\\hdf5_1611496732392\\work\\src\\H5Dchunk.c\", line 2728, in H5D__chunk_write\n",
      "    unable to read raw data chunk\n",
      "  File \"C:\\ci\\hdf5_1611496732392\\work\\src\\H5Dchunk.c\", line 4034, in H5D__chunk_lock\n",
      "    unable to preempt chunk(s) from cache\n",
      "  File \"C:\\ci\\hdf5_1611496732392\\work\\src\\H5Dchunk.c\", line 3700, in H5D__chunk_cache_prune\n",
      "    unable to preempt one or more raw data cache entry\n",
      "  File \"C:\\ci\\hdf5_1611496732392\\work\\src\\H5Dchunk.c\", line 3551, in H5D__chunk_cache_evict\n",
      "    cannot flush indexed storage buffer\n",
      "  File \"C:\\ci\\hdf5_1611496732392\\work\\src\\H5Dchunk.c\", line 3477, in H5D__chunk_flush_entry\n",
      "    unable to insert chunk addr into index\n",
      "  File \"C:\\ci\\hdf5_1611496732392\\work\\src\\H5Dbtree.c\", line 1010, in H5D__btree_idx_insert\n",
      "    unable to allocate chunk\n",
      "  File \"C:\\ci\\hdf5_1611496732392\\work\\src\\H5B.c\", line 599, in H5B_insert\n",
      "    unable to insert key\n",
      "  File \"C:\\ci\\hdf5_1611496732392\\work\\src\\H5B.c\", line 947, in H5B__insert_helper\n",
      "    can't insert maximum subtree\n",
      "  File \"C:\\ci\\hdf5_1611496732392\\work\\src\\H5B.c\", line 947, in H5B__insert_helper\n",
      "    can't insert maximum subtree\n",
      "  File \"C:\\ci\\hdf5_1611496732392\\work\\src\\H5B.c\", line 941, in H5B__insert_helper\n",
      "    unable to load node\n",
      "  File \"C:\\ci\\hdf5_1611496732392\\work\\src\\H5AC.c\", line 1312, in H5AC_protect\n",
      "    H5C_protect() failed\n",
      "  File \"C:\\ci\\hdf5_1611496732392\\work\\src\\H5C.c\", line 2346, in H5C_protect\n",
      "    can't load entry\n",
      "  File \"C:\\ci\\hdf5_1611496732392\\work\\src\\H5C.c\", line 6598, in H5C_load_entry\n",
      "    Can't read image*\n",
      "  File \"C:\\ci\\hdf5_1611496732392\\work\\src\\H5Fio.c\", line 161, in H5F_block_read\n",
      "    read through page buffer failed\n",
      "  File \"C:\\ci\\hdf5_1611496732392\\work\\src\\H5PB.c\", line 736, in H5PB_read\n",
      "    read through metadata accumulator failed\n",
      "  File \"C:\\ci\\hdf5_1611496732392\\work\\src\\H5Faccum.c\", line 212, in H5F__accum_read\n",
      "    driver read request failed\n",
      "  File \"C:\\ci\\hdf5_1611496732392\\work\\src\\H5FDint.c\", line 193, in H5FD_read\n",
      "    addr overflow, addr = 5309126673, size = 2096, eoa = 5297968783\n",
      "\n",
      "End of HDF5 error back trace\n",
      "\n",
      "Problems appending the records.\n",
      "Done on : 2022-10-16 17:52:53.964857\n",
      "Max time found in database 2021-12-28 22:20:00-05:00\n",
      "mexc\n"
     ]
    },
    {
     "name": "stderr",
     "output_type": "stream",
     "text": [
      "100%|██████████████████████████████████████████████████████████████████████████████| 7668/7668 [03:44<00:00, 34.08it/s]\n"
     ]
    },
    {
     "name": "stdout",
     "output_type": "stream",
     "text": [
      "No data found!\n",
      "Done on : 2022-10-16 17:56:38.964062\n",
      "Max time found in database 2021-11-02 08:00:00-04:00\n",
      "binanceus\n"
     ]
    },
    {
     "name": "stderr",
     "output_type": "stream",
     "text": [
      "100%|██████████████████████████████████████████████████████████████████████████████| 7668/7668 [25:53<00:00,  4.93it/s]\n"
     ]
    },
    {
     "name": "stdout",
     "output_type": "stream",
     "text": [
      "No data found!\n",
      "Done on : 2022-10-16 18:22:32.862397\n",
      "Max time found in database 2022-01-04 04:16:00-05:00\n",
      "kucoin\n"
     ]
    },
    {
     "name": "stderr",
     "output_type": "stream",
     "text": [
      "100%|██████████████████████████████████████████████████████████████████████████████| 8175/8175 [03:31<00:00, 38.63it/s]\n"
     ]
    },
    {
     "name": "stdout",
     "output_type": "stream",
     "text": [
      "The Exception raised is:  HDF5 error back trace\n",
      "\n",
      "  File \"C:\\ci\\hdf5_1611496732392\\work\\src\\H5Dio.c\", line 314, in H5Dwrite\n",
      "    can't write data\n",
      "  File \"C:\\ci\\hdf5_1611496732392\\work\\src\\H5VLcallback.c\", line 2186, in H5VL_dataset_write\n",
      "    dataset write failed\n",
      "  File \"C:\\ci\\hdf5_1611496732392\\work\\src\\H5VLcallback.c\", line 2152, in H5VL__dataset_write\n",
      "    dataset write failed\n",
      "  File \"C:\\ci\\hdf5_1611496732392\\work\\src\\H5VLnative_dataset.c\", line 207, in H5VL__native_dataset_write\n",
      "    can't write data\n",
      "  File \"C:\\ci\\hdf5_1611496732392\\work\\src\\H5Dio.c\", line 781, in H5D__write\n",
      "    can't write data\n",
      "  File \"C:\\ci\\hdf5_1611496732392\\work\\src\\H5Dchunk.c\", line 2728, in H5D__chunk_write\n",
      "    unable to read raw data chunk\n",
      "  File \"C:\\ci\\hdf5_1611496732392\\work\\src\\H5Dchunk.c\", line 4034, in H5D__chunk_lock\n",
      "    unable to preempt chunk(s) from cache\n",
      "  File \"C:\\ci\\hdf5_1611496732392\\work\\src\\H5Dchunk.c\", line 3700, in H5D__chunk_cache_prune\n",
      "    unable to preempt one or more raw data cache entry\n",
      "  File \"C:\\ci\\hdf5_1611496732392\\work\\src\\H5Dchunk.c\", line 3551, in H5D__chunk_cache_evict\n",
      "    cannot flush indexed storage buffer\n",
      "  File \"C:\\ci\\hdf5_1611496732392\\work\\src\\H5Dchunk.c\", line 3477, in H5D__chunk_flush_entry\n",
      "    unable to insert chunk addr into index\n",
      "  File \"C:\\ci\\hdf5_1611496732392\\work\\src\\H5Dbtree.c\", line 1010, in H5D__btree_idx_insert\n",
      "    unable to allocate chunk\n",
      "  File \"C:\\ci\\hdf5_1611496732392\\work\\src\\H5B.c\", line 599, in H5B_insert\n",
      "    unable to insert key\n",
      "  File \"C:\\ci\\hdf5_1611496732392\\work\\src\\H5B.c\", line 947, in H5B__insert_helper\n",
      "    can't insert maximum subtree\n",
      "  File \"C:\\ci\\hdf5_1611496732392\\work\\src\\H5B.c\", line 947, in H5B__insert_helper\n",
      "    can't insert maximum subtree\n",
      "  File \"C:\\ci\\hdf5_1611496732392\\work\\src\\H5B.c\", line 941, in H5B__insert_helper\n",
      "    unable to load node\n",
      "  File \"C:\\ci\\hdf5_1611496732392\\work\\src\\H5AC.c\", line 1312, in H5AC_protect\n",
      "    H5C_protect() failed\n",
      "  File \"C:\\ci\\hdf5_1611496732392\\work\\src\\H5C.c\", line 2346, in H5C_protect\n",
      "    can't load entry\n",
      "  File \"C:\\ci\\hdf5_1611496732392\\work\\src\\H5C.c\", line 6598, in H5C_load_entry\n",
      "    Can't read image*\n",
      "  File \"C:\\ci\\hdf5_1611496732392\\work\\src\\H5Fio.c\", line 161, in H5F_block_read\n",
      "    read through page buffer failed\n",
      "  File \"C:\\ci\\hdf5_1611496732392\\work\\src\\H5PB.c\", line 736, in H5PB_read\n",
      "    read through metadata accumulator failed\n",
      "  File \"C:\\ci\\hdf5_1611496732392\\work\\src\\H5Faccum.c\", line 212, in H5F__accum_read\n",
      "    driver read request failed\n",
      "  File \"C:\\ci\\hdf5_1611496732392\\work\\src\\H5FDint.c\", line 193, in H5FD_read\n",
      "    addr overflow, addr = 5309126673, size = 2096, eoa = 5298729485\n",
      "\n",
      "End of HDF5 error back trace\n",
      "\n",
      "Problems appending the records.\n",
      "Done on : 2022-10-16 18:26:15.880569\n",
      "Max time found in database 2021-12-28 22:20:00-05:00\n",
      "mexc\n"
     ]
    },
    {
     "name": "stderr",
     "output_type": "stream",
     "text": [
      "100%|██████████████████████████████████████████████████████████████████████████████| 7658/7658 [03:43<00:00, 34.34it/s]\n"
     ]
    },
    {
     "name": "stdout",
     "output_type": "stream",
     "text": [
      "No data found!\n",
      "Done on : 2022-10-16 18:29:58.921293\n",
      "Max time found in database 2021-11-02 08:00:00-04:00\n",
      "binanceus\n"
     ]
    },
    {
     "name": "stderr",
     "output_type": "stream",
     "text": [
      "100%|██████████████████████████████████████████████████████████████████████████████| 7658/7658 [25:44<00:00,  4.96it/s]\n"
     ]
    },
    {
     "name": "stdout",
     "output_type": "stream",
     "text": [
      "No data found!\n",
      "Done on : 2022-10-16 18:55:43.621969\n",
      "Max time found in database 2022-01-05 05:16:00-05:00\n",
      "kucoin\n"
     ]
    },
    {
     "name": "stderr",
     "output_type": "stream",
     "text": [
      "100%|██████████████████████████████████████████████████████████████████████████████| 8175/8175 [03:31<00:00, 38.64it/s]\n"
     ]
    },
    {
     "name": "stdout",
     "output_type": "stream",
     "text": [
      "The Exception raised is:  HDF5 error back trace\n",
      "\n",
      "  File \"C:\\ci\\hdf5_1611496732392\\work\\src\\H5Dio.c\", line 314, in H5Dwrite\n",
      "    can't write data\n",
      "  File \"C:\\ci\\hdf5_1611496732392\\work\\src\\H5VLcallback.c\", line 2186, in H5VL_dataset_write\n",
      "    dataset write failed\n",
      "  File \"C:\\ci\\hdf5_1611496732392\\work\\src\\H5VLcallback.c\", line 2152, in H5VL__dataset_write\n",
      "    dataset write failed\n",
      "  File \"C:\\ci\\hdf5_1611496732392\\work\\src\\H5VLnative_dataset.c\", line 207, in H5VL__native_dataset_write\n",
      "    can't write data\n",
      "  File \"C:\\ci\\hdf5_1611496732392\\work\\src\\H5Dio.c\", line 781, in H5D__write\n",
      "    can't write data\n",
      "  File \"C:\\ci\\hdf5_1611496732392\\work\\src\\H5Dchunk.c\", line 2728, in H5D__chunk_write\n",
      "    unable to read raw data chunk\n",
      "  File \"C:\\ci\\hdf5_1611496732392\\work\\src\\H5Dchunk.c\", line 4034, in H5D__chunk_lock\n",
      "    unable to preempt chunk(s) from cache\n",
      "  File \"C:\\ci\\hdf5_1611496732392\\work\\src\\H5Dchunk.c\", line 3700, in H5D__chunk_cache_prune\n",
      "    unable to preempt one or more raw data cache entry\n",
      "  File \"C:\\ci\\hdf5_1611496732392\\work\\src\\H5Dchunk.c\", line 3551, in H5D__chunk_cache_evict\n",
      "    cannot flush indexed storage buffer\n",
      "  File \"C:\\ci\\hdf5_1611496732392\\work\\src\\H5Dchunk.c\", line 3477, in H5D__chunk_flush_entry\n",
      "    unable to insert chunk addr into index\n",
      "  File \"C:\\ci\\hdf5_1611496732392\\work\\src\\H5Dbtree.c\", line 1010, in H5D__btree_idx_insert\n",
      "    unable to allocate chunk\n",
      "  File \"C:\\ci\\hdf5_1611496732392\\work\\src\\H5B.c\", line 599, in H5B_insert\n",
      "    unable to insert key\n",
      "  File \"C:\\ci\\hdf5_1611496732392\\work\\src\\H5B.c\", line 947, in H5B__insert_helper\n",
      "    can't insert maximum subtree\n",
      "  File \"C:\\ci\\hdf5_1611496732392\\work\\src\\H5B.c\", line 947, in H5B__insert_helper\n",
      "    can't insert maximum subtree\n",
      "  File \"C:\\ci\\hdf5_1611496732392\\work\\src\\H5B.c\", line 941, in H5B__insert_helper\n",
      "    unable to load node\n",
      "  File \"C:\\ci\\hdf5_1611496732392\\work\\src\\H5AC.c\", line 1312, in H5AC_protect\n",
      "    H5C_protect() failed\n",
      "  File \"C:\\ci\\hdf5_1611496732392\\work\\src\\H5C.c\", line 2346, in H5C_protect\n",
      "    can't load entry\n",
      "  File \"C:\\ci\\hdf5_1611496732392\\work\\src\\H5C.c\", line 6598, in H5C_load_entry\n",
      "    Can't read image*\n",
      "  File \"C:\\ci\\hdf5_1611496732392\\work\\src\\H5Fio.c\", line 161, in H5F_block_read\n",
      "    read through page buffer failed\n",
      "  File \"C:\\ci\\hdf5_1611496732392\\work\\src\\H5PB.c\", line 736, in H5PB_read\n",
      "    read through metadata accumulator failed\n",
      "  File \"C:\\ci\\hdf5_1611496732392\\work\\src\\H5Faccum.c\", line 212, in H5F__accum_read\n",
      "    driver read request failed\n",
      "  File \"C:\\ci\\hdf5_1611496732392\\work\\src\\H5FDint.c\", line 193, in H5FD_read\n",
      "    addr overflow, addr = 5309126673, size = 2096, eoa = 5299533992\n",
      "\n",
      "End of HDF5 error back trace\n",
      "\n",
      "Problems appending the records.\n",
      "Done on : 2022-10-16 18:59:26.650961\n",
      "Max time found in database 2021-12-28 22:20:00-05:00\n",
      "mexc\n"
     ]
    },
    {
     "name": "stderr",
     "output_type": "stream",
     "text": [
      "100%|██████████████████████████████████████████████████████████████████████████████| 7654/7654 [03:43<00:00, 34.25it/s]\n"
     ]
    },
    {
     "name": "stdout",
     "output_type": "stream",
     "text": [
      "No data found!\n",
      "Done on : 2022-10-16 19:03:10.152096\n",
      "Max time found in database 2021-11-02 08:00:00-04:00\n",
      "binanceus\n"
     ]
    },
    {
     "name": "stderr",
     "output_type": "stream",
     "text": [
      "100%|██████████████████████████████████████████████████████████████████████████████| 7654/7654 [25:51<00:00,  4.93it/s]\n"
     ]
    },
    {
     "name": "stdout",
     "output_type": "stream",
     "text": [
      "No data found!\n",
      "Done on : 2022-10-16 19:29:02.162434\n",
      "Max time found in database 2022-01-06 06:16:00-05:00\n",
      "kucoin\n"
     ]
    },
    {
     "name": "stderr",
     "output_type": "stream",
     "text": [
      "100%|██████████████████████████████████████████████████████████████████████████████| 8175/8175 [03:25<00:00, 39.84it/s]\n"
     ]
    },
    {
     "name": "stdout",
     "output_type": "stream",
     "text": [
      "The Exception raised is:  HDF5 error back trace\n",
      "\n",
      "  File \"C:\\ci\\hdf5_1611496732392\\work\\src\\H5Dio.c\", line 314, in H5Dwrite\n",
      "    can't write data\n",
      "  File \"C:\\ci\\hdf5_1611496732392\\work\\src\\H5VLcallback.c\", line 2186, in H5VL_dataset_write\n",
      "    dataset write failed\n",
      "  File \"C:\\ci\\hdf5_1611496732392\\work\\src\\H5VLcallback.c\", line 2152, in H5VL__dataset_write\n",
      "    dataset write failed\n",
      "  File \"C:\\ci\\hdf5_1611496732392\\work\\src\\H5VLnative_dataset.c\", line 207, in H5VL__native_dataset_write\n",
      "    can't write data\n",
      "  File \"C:\\ci\\hdf5_1611496732392\\work\\src\\H5Dio.c\", line 781, in H5D__write\n",
      "    can't write data\n",
      "  File \"C:\\ci\\hdf5_1611496732392\\work\\src\\H5Dchunk.c\", line 2728, in H5D__chunk_write\n",
      "    unable to read raw data chunk\n",
      "  File \"C:\\ci\\hdf5_1611496732392\\work\\src\\H5Dchunk.c\", line 4034, in H5D__chunk_lock\n",
      "    unable to preempt chunk(s) from cache\n",
      "  File \"C:\\ci\\hdf5_1611496732392\\work\\src\\H5Dchunk.c\", line 3700, in H5D__chunk_cache_prune\n",
      "    unable to preempt one or more raw data cache entry\n",
      "  File \"C:\\ci\\hdf5_1611496732392\\work\\src\\H5Dchunk.c\", line 3551, in H5D__chunk_cache_evict\n",
      "    cannot flush indexed storage buffer\n",
      "  File \"C:\\ci\\hdf5_1611496732392\\work\\src\\H5Dchunk.c\", line 3477, in H5D__chunk_flush_entry\n",
      "    unable to insert chunk addr into index\n",
      "  File \"C:\\ci\\hdf5_1611496732392\\work\\src\\H5Dbtree.c\", line 1010, in H5D__btree_idx_insert\n",
      "    unable to allocate chunk\n",
      "  File \"C:\\ci\\hdf5_1611496732392\\work\\src\\H5B.c\", line 599, in H5B_insert\n",
      "    unable to insert key\n",
      "  File \"C:\\ci\\hdf5_1611496732392\\work\\src\\H5B.c\", line 947, in H5B__insert_helper\n",
      "    can't insert maximum subtree\n",
      "  File \"C:\\ci\\hdf5_1611496732392\\work\\src\\H5B.c\", line 947, in H5B__insert_helper\n",
      "    can't insert maximum subtree\n",
      "  File \"C:\\ci\\hdf5_1611496732392\\work\\src\\H5B.c\", line 941, in H5B__insert_helper\n",
      "    unable to load node\n",
      "  File \"C:\\ci\\hdf5_1611496732392\\work\\src\\H5AC.c\", line 1312, in H5AC_protect\n",
      "    H5C_protect() failed\n",
      "  File \"C:\\ci\\hdf5_1611496732392\\work\\src\\H5C.c\", line 2346, in H5C_protect\n",
      "    can't load entry\n",
      "  File \"C:\\ci\\hdf5_1611496732392\\work\\src\\H5C.c\", line 6598, in H5C_load_entry\n",
      "    Can't read image*\n",
      "  File \"C:\\ci\\hdf5_1611496732392\\work\\src\\H5Fio.c\", line 161, in H5F_block_read\n",
      "    read through page buffer failed\n",
      "  File \"C:\\ci\\hdf5_1611496732392\\work\\src\\H5PB.c\", line 736, in H5PB_read\n",
      "    read through metadata accumulator failed\n",
      "  File \"C:\\ci\\hdf5_1611496732392\\work\\src\\H5Faccum.c\", line 212, in H5F__accum_read\n",
      "    driver read request failed\n",
      "  File \"C:\\ci\\hdf5_1611496732392\\work\\src\\H5FDint.c\", line 193, in H5FD_read\n",
      "    addr overflow, addr = 5309126673, size = 2096, eoa = 5300350145\n",
      "\n",
      "End of HDF5 error back trace\n",
      "\n",
      "Problems appending the records.\n",
      "Done on : 2022-10-16 19:32:38.575414\n",
      "Max time found in database 2021-12-28 22:20:00-05:00\n",
      "mexc\n"
     ]
    },
    {
     "name": "stderr",
     "output_type": "stream",
     "text": [
      "100%|██████████████████████████████████████████████████████████████████████████████| 7675/7675 [03:43<00:00, 34.27it/s]\n"
     ]
    },
    {
     "name": "stdout",
     "output_type": "stream",
     "text": [
      "No data found!\n",
      "Done on : 2022-10-16 19:36:22.561736\n",
      "Max time found in database 2021-11-02 08:00:00-04:00\n",
      "binanceus\n"
     ]
    },
    {
     "name": "stderr",
     "output_type": "stream",
     "text": [
      "100%|██████████████████████████████████████████████████████████████████████████████| 7675/7675 [26:05<00:00,  4.90it/s]\n"
     ]
    },
    {
     "name": "stdout",
     "output_type": "stream",
     "text": [
      "No data found!\n",
      "Done on : 2022-10-16 20:02:28.006290\n",
      "Max time found in database 2022-01-07 07:16:00-05:00\n",
      "kucoin\n"
     ]
    },
    {
     "name": "stderr",
     "output_type": "stream",
     "text": [
      "100%|██████████████████████████████████████████████████████████████████████████████| 8175/8175 [03:29<00:00, 39.07it/s]\n"
     ]
    },
    {
     "name": "stdout",
     "output_type": "stream",
     "text": [
      "The Exception raised is:  HDF5 error back trace\n",
      "\n",
      "  File \"C:\\ci\\hdf5_1611496732392\\work\\src\\H5Dio.c\", line 314, in H5Dwrite\n",
      "    can't write data\n",
      "  File \"C:\\ci\\hdf5_1611496732392\\work\\src\\H5VLcallback.c\", line 2186, in H5VL_dataset_write\n",
      "    dataset write failed\n",
      "  File \"C:\\ci\\hdf5_1611496732392\\work\\src\\H5VLcallback.c\", line 2152, in H5VL__dataset_write\n",
      "    dataset write failed\n",
      "  File \"C:\\ci\\hdf5_1611496732392\\work\\src\\H5VLnative_dataset.c\", line 207, in H5VL__native_dataset_write\n",
      "    can't write data\n",
      "  File \"C:\\ci\\hdf5_1611496732392\\work\\src\\H5Dio.c\", line 781, in H5D__write\n",
      "    can't write data\n",
      "  File \"C:\\ci\\hdf5_1611496732392\\work\\src\\H5Dchunk.c\", line 2728, in H5D__chunk_write\n",
      "    unable to read raw data chunk\n",
      "  File \"C:\\ci\\hdf5_1611496732392\\work\\src\\H5Dchunk.c\", line 4034, in H5D__chunk_lock\n",
      "    unable to preempt chunk(s) from cache\n",
      "  File \"C:\\ci\\hdf5_1611496732392\\work\\src\\H5Dchunk.c\", line 3700, in H5D__chunk_cache_prune\n",
      "    unable to preempt one or more raw data cache entry\n",
      "  File \"C:\\ci\\hdf5_1611496732392\\work\\src\\H5Dchunk.c\", line 3551, in H5D__chunk_cache_evict\n",
      "    cannot flush indexed storage buffer\n",
      "  File \"C:\\ci\\hdf5_1611496732392\\work\\src\\H5Dchunk.c\", line 3477, in H5D__chunk_flush_entry\n",
      "    unable to insert chunk addr into index\n",
      "  File \"C:\\ci\\hdf5_1611496732392\\work\\src\\H5Dbtree.c\", line 1010, in H5D__btree_idx_insert\n",
      "    unable to allocate chunk\n",
      "  File \"C:\\ci\\hdf5_1611496732392\\work\\src\\H5B.c\", line 599, in H5B_insert\n",
      "    unable to insert key\n",
      "  File \"C:\\ci\\hdf5_1611496732392\\work\\src\\H5B.c\", line 947, in H5B__insert_helper\n",
      "    can't insert maximum subtree\n",
      "  File \"C:\\ci\\hdf5_1611496732392\\work\\src\\H5B.c\", line 947, in H5B__insert_helper\n",
      "    can't insert maximum subtree\n",
      "  File \"C:\\ci\\hdf5_1611496732392\\work\\src\\H5B.c\", line 941, in H5B__insert_helper\n",
      "    unable to load node\n",
      "  File \"C:\\ci\\hdf5_1611496732392\\work\\src\\H5AC.c\", line 1312, in H5AC_protect\n",
      "    H5C_protect() failed\n",
      "  File \"C:\\ci\\hdf5_1611496732392\\work\\src\\H5C.c\", line 2346, in H5C_protect\n",
      "    can't load entry\n",
      "  File \"C:\\ci\\hdf5_1611496732392\\work\\src\\H5C.c\", line 6598, in H5C_load_entry\n",
      "    Can't read image*\n",
      "  File \"C:\\ci\\hdf5_1611496732392\\work\\src\\H5Fio.c\", line 161, in H5F_block_read\n",
      "    read through page buffer failed\n",
      "  File \"C:\\ci\\hdf5_1611496732392\\work\\src\\H5PB.c\", line 736, in H5PB_read\n",
      "    read through metadata accumulator failed\n",
      "  File \"C:\\ci\\hdf5_1611496732392\\work\\src\\H5Faccum.c\", line 212, in H5F__accum_read\n",
      "    driver read request failed\n",
      "  File \"C:\\ci\\hdf5_1611496732392\\work\\src\\H5FDint.c\", line 193, in H5FD_read\n",
      "    addr overflow, addr = 5309126673, size = 2096, eoa = 5301155593\n",
      "\n",
      "End of HDF5 error back trace\n",
      "\n",
      "Problems appending the records.\n",
      "Done on : 2022-10-16 20:06:12.526719\n",
      "Max time found in database 2021-12-28 22:20:00-05:00\n",
      "mexc\n"
     ]
    },
    {
     "name": "stderr",
     "output_type": "stream",
     "text": [
      "100%|██████████████████████████████████████████████████████████████████████████████| 7674/7674 [03:50<00:00, 33.29it/s]\n"
     ]
    },
    {
     "name": "stdout",
     "output_type": "stream",
     "text": [
      "No data found!\n",
      "Done on : 2022-10-16 20:10:03.039503\n",
      "Max time found in database 2021-11-02 08:00:00-04:00\n",
      "binanceus\n"
     ]
    },
    {
     "name": "stderr",
     "output_type": "stream",
     "text": [
      "100%|██████████████████████████████████████████████████████████████████████████████| 7674/7674 [26:03<00:00,  4.91it/s]\n"
     ]
    },
    {
     "name": "stdout",
     "output_type": "stream",
     "text": [
      "No data found!\n",
      "Done on : 2022-10-16 20:36:06.795570\n",
      "Max time found in database 2022-01-08 08:16:00-05:00\n",
      "kucoin\n"
     ]
    },
    {
     "name": "stderr",
     "output_type": "stream",
     "text": [
      "100%|██████████████████████████████████████████████████████████████████████████████| 8175/8175 [03:30<00:00, 38.82it/s]\n"
     ]
    },
    {
     "name": "stdout",
     "output_type": "stream",
     "text": [
      "The Exception raised is:  HDF5 error back trace\n",
      "\n",
      "  File \"C:\\ci\\hdf5_1611496732392\\work\\src\\H5Dio.c\", line 314, in H5Dwrite\n",
      "    can't write data\n",
      "  File \"C:\\ci\\hdf5_1611496732392\\work\\src\\H5VLcallback.c\", line 2186, in H5VL_dataset_write\n",
      "    dataset write failed\n",
      "  File \"C:\\ci\\hdf5_1611496732392\\work\\src\\H5VLcallback.c\", line 2152, in H5VL__dataset_write\n",
      "    dataset write failed\n",
      "  File \"C:\\ci\\hdf5_1611496732392\\work\\src\\H5VLnative_dataset.c\", line 207, in H5VL__native_dataset_write\n",
      "    can't write data\n",
      "  File \"C:\\ci\\hdf5_1611496732392\\work\\src\\H5Dio.c\", line 781, in H5D__write\n",
      "    can't write data\n",
      "  File \"C:\\ci\\hdf5_1611496732392\\work\\src\\H5Dchunk.c\", line 2728, in H5D__chunk_write\n",
      "    unable to read raw data chunk\n",
      "  File \"C:\\ci\\hdf5_1611496732392\\work\\src\\H5Dchunk.c\", line 4034, in H5D__chunk_lock\n",
      "    unable to preempt chunk(s) from cache\n",
      "  File \"C:\\ci\\hdf5_1611496732392\\work\\src\\H5Dchunk.c\", line 3700, in H5D__chunk_cache_prune\n",
      "    unable to preempt one or more raw data cache entry\n",
      "  File \"C:\\ci\\hdf5_1611496732392\\work\\src\\H5Dchunk.c\", line 3551, in H5D__chunk_cache_evict\n",
      "    cannot flush indexed storage buffer\n",
      "  File \"C:\\ci\\hdf5_1611496732392\\work\\src\\H5Dchunk.c\", line 3477, in H5D__chunk_flush_entry\n",
      "    unable to insert chunk addr into index\n",
      "  File \"C:\\ci\\hdf5_1611496732392\\work\\src\\H5Dbtree.c\", line 1010, in H5D__btree_idx_insert\n",
      "    unable to allocate chunk\n",
      "  File \"C:\\ci\\hdf5_1611496732392\\work\\src\\H5B.c\", line 599, in H5B_insert\n",
      "    unable to insert key\n",
      "  File \"C:\\ci\\hdf5_1611496732392\\work\\src\\H5B.c\", line 947, in H5B__insert_helper\n",
      "    can't insert maximum subtree\n",
      "  File \"C:\\ci\\hdf5_1611496732392\\work\\src\\H5B.c\", line 947, in H5B__insert_helper\n",
      "    can't insert maximum subtree\n",
      "  File \"C:\\ci\\hdf5_1611496732392\\work\\src\\H5B.c\", line 941, in H5B__insert_helper\n",
      "    unable to load node\n",
      "  File \"C:\\ci\\hdf5_1611496732392\\work\\src\\H5AC.c\", line 1312, in H5AC_protect\n",
      "    H5C_protect() failed\n",
      "  File \"C:\\ci\\hdf5_1611496732392\\work\\src\\H5C.c\", line 2346, in H5C_protect\n",
      "    can't load entry\n",
      "  File \"C:\\ci\\hdf5_1611496732392\\work\\src\\H5C.c\", line 6598, in H5C_load_entry\n",
      "    Can't read image*\n",
      "  File \"C:\\ci\\hdf5_1611496732392\\work\\src\\H5Fio.c\", line 161, in H5F_block_read\n",
      "    read through page buffer failed\n",
      "  File \"C:\\ci\\hdf5_1611496732392\\work\\src\\H5PB.c\", line 736, in H5PB_read\n",
      "    read through metadata accumulator failed\n",
      "  File \"C:\\ci\\hdf5_1611496732392\\work\\src\\H5Faccum.c\", line 212, in H5F__accum_read\n",
      "    driver read request failed\n",
      "  File \"C:\\ci\\hdf5_1611496732392\\work\\src\\H5FDint.c\", line 193, in H5FD_read\n",
      "    addr overflow, addr = 5309126673, size = 2096, eoa = 5301941139\n",
      "\n",
      "End of HDF5 error back trace\n",
      "\n",
      "Problems appending the records.\n",
      "Done on : 2022-10-16 20:39:49.114863\n",
      "Max time found in database 2021-12-28 22:20:00-05:00\n",
      "mexc\n"
     ]
    },
    {
     "name": "stderr",
     "output_type": "stream",
     "text": [
      "100%|██████████████████████████████████████████████████████████████████████████████| 7644/7644 [03:43<00:00, 34.23it/s]\n"
     ]
    },
    {
     "name": "stdout",
     "output_type": "stream",
     "text": [
      "No data found!\n",
      "Done on : 2022-10-16 20:43:32.460743\n",
      "Max time found in database 2021-11-02 08:00:00-04:00\n",
      "binanceus\n"
     ]
    },
    {
     "name": "stderr",
     "output_type": "stream",
     "text": [
      "100%|██████████████████████████████████████████████████████████████████████████████| 7644/7644 [25:54<00:00,  4.92it/s]\n"
     ]
    },
    {
     "name": "stdout",
     "output_type": "stream",
     "text": [
      "No data found!\n",
      "Done on : 2022-10-16 21:09:26.962912\n",
      "Max time found in database 2022-01-09 09:16:00-05:00\n",
      "kucoin\n"
     ]
    },
    {
     "name": "stderr",
     "output_type": "stream",
     "text": [
      "100%|██████████████████████████████████████████████████████████████████████████████| 8175/8175 [03:26<00:00, 39.63it/s]\n"
     ]
    },
    {
     "name": "stdout",
     "output_type": "stream",
     "text": [
      "The Exception raised is:  HDF5 error back trace\n",
      "\n",
      "  File \"C:\\ci\\hdf5_1611496732392\\work\\src\\H5Dio.c\", line 314, in H5Dwrite\n",
      "    can't write data\n",
      "  File \"C:\\ci\\hdf5_1611496732392\\work\\src\\H5VLcallback.c\", line 2186, in H5VL_dataset_write\n",
      "    dataset write failed\n",
      "  File \"C:\\ci\\hdf5_1611496732392\\work\\src\\H5VLcallback.c\", line 2152, in H5VL__dataset_write\n",
      "    dataset write failed\n",
      "  File \"C:\\ci\\hdf5_1611496732392\\work\\src\\H5VLnative_dataset.c\", line 207, in H5VL__native_dataset_write\n",
      "    can't write data\n",
      "  File \"C:\\ci\\hdf5_1611496732392\\work\\src\\H5Dio.c\", line 781, in H5D__write\n",
      "    can't write data\n",
      "  File \"C:\\ci\\hdf5_1611496732392\\work\\src\\H5Dchunk.c\", line 2728, in H5D__chunk_write\n",
      "    unable to read raw data chunk\n",
      "  File \"C:\\ci\\hdf5_1611496732392\\work\\src\\H5Dchunk.c\", line 4034, in H5D__chunk_lock\n",
      "    unable to preempt chunk(s) from cache\n",
      "  File \"C:\\ci\\hdf5_1611496732392\\work\\src\\H5Dchunk.c\", line 3700, in H5D__chunk_cache_prune\n",
      "    unable to preempt one or more raw data cache entry\n",
      "  File \"C:\\ci\\hdf5_1611496732392\\work\\src\\H5Dchunk.c\", line 3551, in H5D__chunk_cache_evict\n",
      "    cannot flush indexed storage buffer\n",
      "  File \"C:\\ci\\hdf5_1611496732392\\work\\src\\H5Dchunk.c\", line 3477, in H5D__chunk_flush_entry\n",
      "    unable to insert chunk addr into index\n",
      "  File \"C:\\ci\\hdf5_1611496732392\\work\\src\\H5Dbtree.c\", line 1010, in H5D__btree_idx_insert\n",
      "    unable to allocate chunk\n",
      "  File \"C:\\ci\\hdf5_1611496732392\\work\\src\\H5B.c\", line 599, in H5B_insert\n",
      "    unable to insert key\n",
      "  File \"C:\\ci\\hdf5_1611496732392\\work\\src\\H5B.c\", line 947, in H5B__insert_helper\n",
      "    can't insert maximum subtree\n",
      "  File \"C:\\ci\\hdf5_1611496732392\\work\\src\\H5B.c\", line 947, in H5B__insert_helper\n",
      "    can't insert maximum subtree\n",
      "  File \"C:\\ci\\hdf5_1611496732392\\work\\src\\H5B.c\", line 941, in H5B__insert_helper\n",
      "    unable to load node\n",
      "  File \"C:\\ci\\hdf5_1611496732392\\work\\src\\H5AC.c\", line 1312, in H5AC_protect\n",
      "    H5C_protect() failed\n",
      "  File \"C:\\ci\\hdf5_1611496732392\\work\\src\\H5C.c\", line 2346, in H5C_protect\n",
      "    can't load entry\n",
      "  File \"C:\\ci\\hdf5_1611496732392\\work\\src\\H5C.c\", line 6598, in H5C_load_entry\n",
      "    Can't read image*\n",
      "  File \"C:\\ci\\hdf5_1611496732392\\work\\src\\H5Fio.c\", line 161, in H5F_block_read\n",
      "    read through page buffer failed\n",
      "  File \"C:\\ci\\hdf5_1611496732392\\work\\src\\H5PB.c\", line 736, in H5PB_read\n",
      "    read through metadata accumulator failed\n",
      "  File \"C:\\ci\\hdf5_1611496732392\\work\\src\\H5Faccum.c\", line 212, in H5F__accum_read\n",
      "    driver read request failed\n",
      "  File \"C:\\ci\\hdf5_1611496732392\\work\\src\\H5FDint.c\", line 193, in H5FD_read\n",
      "    addr overflow, addr = 5309126673, size = 2096, eoa = 5302718553\n",
      "\n",
      "End of HDF5 error back trace\n",
      "\n",
      "Problems appending the records.\n",
      "Done on : 2022-10-16 21:13:04.628001\n",
      "Max time found in database 2021-12-28 22:20:00-05:00\n",
      "mexc\n"
     ]
    },
    {
     "name": "stderr",
     "output_type": "stream",
     "text": [
      "100%|██████████████████████████████████████████████████████████████████████████████| 7660/7660 [03:47<00:00, 33.73it/s]\n"
     ]
    },
    {
     "name": "stdout",
     "output_type": "stream",
     "text": [
      "No data found!\n",
      "Done on : 2022-10-16 21:16:51.738189\n",
      "Max time found in database 2021-11-02 08:00:00-04:00\n",
      "binanceus\n"
     ]
    },
    {
     "name": "stderr",
     "output_type": "stream",
     "text": [
      " 81%|███████████████████████████████████████████████████████████████▍              | 6226/7660 [21:20<04:55,  4.86it/s]\n"
     ]
    },
    {
     "ename": "KeyboardInterrupt",
     "evalue": "",
     "output_type": "error",
     "traceback": [
      "\u001b[1;31m---------------------------------------------------------------------------\u001b[0m",
      "\u001b[1;31mKeyboardInterrupt\u001b[0m                         Traceback (most recent call last)",
      "\u001b[1;32mC:\\Users\\FERAS~1.FIR\\AppData\\Local\\Temp/ipykernel_10904/732406629.py\u001b[0m in \u001b[0;36m<module>\u001b[1;34m\u001b[0m\n\u001b[0;32m     17\u001b[0m     \u001b[0mget_max_time\u001b[0m\u001b[1;33m(\u001b[0m\u001b[0mex1\u001b[0m\u001b[1;33m)\u001b[0m\u001b[1;33m\u001b[0m\u001b[1;33m\u001b[0m\u001b[0m\n\u001b[0;32m     18\u001b[0m     \u001b[0mprint\u001b[0m\u001b[1;33m(\u001b[0m\u001b[0mex1\u001b[0m\u001b[1;33m)\u001b[0m\u001b[1;33m\u001b[0m\u001b[1;33m\u001b[0m\u001b[0m\n\u001b[1;32m---> 19\u001b[1;33m     \u001b[0mget_crypto_prices\u001b[0m\u001b[1;33m(\u001b[0m\u001b[0mnot_found_ticker\u001b[0m\u001b[1;33m,\u001b[0m \u001b[0mbinanceus\u001b[0m\u001b[1;33m,\u001b[0m \u001b[0mlimit\u001b[0m \u001b[1;33m=\u001b[0m \u001b[1;36m1500\u001b[0m\u001b[1;33m,\u001b[0m \u001b[0mex_name\u001b[0m\u001b[1;33m=\u001b[0m\u001b[0mex1\u001b[0m\u001b[1;33m)\u001b[0m\u001b[1;33m\u001b[0m\u001b[1;33m\u001b[0m\u001b[0m\n\u001b[0m\u001b[0;32m     20\u001b[0m \u001b[1;33m\u001b[0m\u001b[0m\n\u001b[0;32m     21\u001b[0m     \u001b[1;31m# get_max_time(ex2)\u001b[0m\u001b[1;33m\u001b[0m\u001b[1;33m\u001b[0m\u001b[1;33m\u001b[0m\u001b[0m\n",
      "\u001b[1;32mC:\\Users\\FERAS~1.FIR\\AppData\\Local\\Temp/ipykernel_10904/4248002981.py\u001b[0m in \u001b[0;36mget_crypto_prices\u001b[1;34m(data, exchange, limit, ex_name)\u001b[0m\n\u001b[0;32m     17\u001b[0m                 \u001b[0mcsv_logger\u001b[0m\u001b[1;33m(\u001b[0m\u001b[0merr\u001b[0m\u001b[1;33m.\u001b[0m\u001b[0margs\u001b[0m\u001b[1;33m)\u001b[0m\u001b[1;33m\u001b[0m\u001b[1;33m\u001b[0m\u001b[0m\n\u001b[0;32m     18\u001b[0m                 \u001b[1;32mtry\u001b[0m\u001b[1;33m:\u001b[0m\u001b[1;33m\u001b[0m\u001b[1;33m\u001b[0m\u001b[0m\n\u001b[1;32m---> 19\u001b[1;33m                     \u001b[0mtemp_df\u001b[0m \u001b[1;33m=\u001b[0m \u001b[0mpd\u001b[0m\u001b[1;33m.\u001b[0m\u001b[0mDataFrame\u001b[0m\u001b[1;33m(\u001b[0m\u001b[0mexchange\u001b[0m\u001b[1;33m.\u001b[0m\u001b[0mfetch_ohlcv\u001b[0m\u001b[1;33m(\u001b[0m\u001b[1;34m\"%s/USDT\"\u001b[0m\u001b[1;33m%\u001b[0m\u001b[0mi\u001b[0m\u001b[1;33m,\u001b[0m \u001b[0msince\u001b[0m \u001b[1;33m=\u001b[0m \u001b[0mmax_date\u001b[0m\u001b[1;33m,\u001b[0m \u001b[0mlimit\u001b[0m \u001b[1;33m=\u001b[0m \u001b[0mlimit\u001b[0m\u001b[1;33m,\u001b[0m \u001b[0mtimeframe\u001b[0m \u001b[1;33m=\u001b[0m \u001b[1;34m\"1m\"\u001b[0m\u001b[1;33m)\u001b[0m\u001b[1;33m,\u001b[0m \u001b[0mcolumns\u001b[0m \u001b[1;33m=\u001b[0m \u001b[1;33m[\u001b[0m\u001b[1;34m\"timestamp\"\u001b[0m\u001b[1;33m,\u001b[0m \u001b[1;34m\"Open\"\u001b[0m\u001b[1;33m,\u001b[0m\u001b[1;34m\"High\"\u001b[0m\u001b[1;33m,\u001b[0m \u001b[1;34m\"Low\"\u001b[0m\u001b[1;33m,\u001b[0m \u001b[1;34m\"Close\"\u001b[0m\u001b[1;33m,\u001b[0m \u001b[1;34m\"Volume\"\u001b[0m\u001b[1;33m]\u001b[0m\u001b[1;33m)\u001b[0m\u001b[1;33m\u001b[0m\u001b[1;33m\u001b[0m\u001b[0m\n\u001b[0m\u001b[0;32m     20\u001b[0m                     \u001b[0mtemp_df\u001b[0m\u001b[1;33m[\u001b[0m\u001b[1;34m\"ticker\"\u001b[0m\u001b[1;33m]\u001b[0m \u001b[1;33m=\u001b[0m \u001b[1;34m\"%s/USDT\"\u001b[0m\u001b[1;33m%\u001b[0m\u001b[0mi\u001b[0m\u001b[1;33m\u001b[0m\u001b[1;33m\u001b[0m\u001b[0m\n\u001b[0;32m     21\u001b[0m                 \u001b[1;32mexcept\u001b[0m \u001b[0mException\u001b[0m \u001b[1;32mas\u001b[0m \u001b[0merr\u001b[0m\u001b[1;33m:\u001b[0m\u001b[1;33m\u001b[0m\u001b[1;33m\u001b[0m\u001b[0m\n",
      "\u001b[1;32m~\\miniconda3\\envs\\projects_3.7\\lib\\site-packages\\ccxt\\binance.py\u001b[0m in \u001b[0;36mfetch_ohlcv\u001b[1;34m(self, symbol, timeframe, since, limit, params)\u001b[0m\n\u001b[0;32m   2354\u001b[0m         \u001b[1;33m:\u001b[0m\u001b[0mreturns\u001b[0m \u001b[1;33m[\u001b[0m\u001b[1;33m[\u001b[0m\u001b[0mint\u001b[0m\u001b[1;33m]\u001b[0m\u001b[1;33m]\u001b[0m\u001b[1;33m:\u001b[0m \u001b[0mA\u001b[0m \u001b[0mlist\u001b[0m \u001b[0mof\u001b[0m \u001b[0mcandles\u001b[0m \u001b[0mordered\u001b[0m \u001b[1;32mas\u001b[0m \u001b[0mtimestamp\u001b[0m\u001b[1;33m,\u001b[0m \u001b[0mopen\u001b[0m\u001b[1;33m,\u001b[0m \u001b[0mhigh\u001b[0m\u001b[1;33m,\u001b[0m \u001b[0mlow\u001b[0m\u001b[1;33m,\u001b[0m \u001b[0mclose\u001b[0m\u001b[1;33m,\u001b[0m \u001b[0mvolume\u001b[0m\u001b[1;33m\u001b[0m\u001b[1;33m\u001b[0m\u001b[0m\n\u001b[0;32m   2355\u001b[0m         \"\"\"\n\u001b[1;32m-> 2356\u001b[1;33m         \u001b[0mself\u001b[0m\u001b[1;33m.\u001b[0m\u001b[0mload_markets\u001b[0m\u001b[1;33m(\u001b[0m\u001b[1;33m)\u001b[0m\u001b[1;33m\u001b[0m\u001b[1;33m\u001b[0m\u001b[0m\n\u001b[0m\u001b[0;32m   2357\u001b[0m         \u001b[0mmarket\u001b[0m \u001b[1;33m=\u001b[0m \u001b[0mself\u001b[0m\u001b[1;33m.\u001b[0m\u001b[0mmarket\u001b[0m\u001b[1;33m(\u001b[0m\u001b[0msymbol\u001b[0m\u001b[1;33m)\u001b[0m\u001b[1;33m\u001b[0m\u001b[1;33m\u001b[0m\u001b[0m\n\u001b[0;32m   2358\u001b[0m         \u001b[1;31m# binance docs say that the default limit 500, max 1500 for futures, max 1000 for spot markets\u001b[0m\u001b[1;33m\u001b[0m\u001b[1;33m\u001b[0m\u001b[1;33m\u001b[0m\u001b[0m\n",
      "\u001b[1;32m~\\miniconda3\\envs\\projects_3.7\\lib\\site-packages\\ccxt\\base\\exchange.py\u001b[0m in \u001b[0;36mload_markets\u001b[1;34m(self, reload, params)\u001b[0m\n\u001b[0;32m   1428\u001b[0m         \u001b[0mcurrencies\u001b[0m \u001b[1;33m=\u001b[0m \u001b[1;32mNone\u001b[0m\u001b[1;33m\u001b[0m\u001b[1;33m\u001b[0m\u001b[0m\n\u001b[0;32m   1429\u001b[0m         \u001b[1;32mif\u001b[0m \u001b[0mself\u001b[0m\u001b[1;33m.\u001b[0m\u001b[0mhas\u001b[0m\u001b[1;33m[\u001b[0m\u001b[1;34m'fetchCurrencies'\u001b[0m\u001b[1;33m]\u001b[0m \u001b[1;32mis\u001b[0m \u001b[1;32mTrue\u001b[0m\u001b[1;33m:\u001b[0m\u001b[1;33m\u001b[0m\u001b[1;33m\u001b[0m\u001b[0m\n\u001b[1;32m-> 1430\u001b[1;33m             \u001b[0mcurrencies\u001b[0m \u001b[1;33m=\u001b[0m \u001b[0mself\u001b[0m\u001b[1;33m.\u001b[0m\u001b[0mfetch_currencies\u001b[0m\u001b[1;33m(\u001b[0m\u001b[1;33m)\u001b[0m\u001b[1;33m\u001b[0m\u001b[1;33m\u001b[0m\u001b[0m\n\u001b[0m\u001b[0;32m   1431\u001b[0m         \u001b[0mmarkets\u001b[0m \u001b[1;33m=\u001b[0m \u001b[0mself\u001b[0m\u001b[1;33m.\u001b[0m\u001b[0mfetch_markets\u001b[0m\u001b[1;33m(\u001b[0m\u001b[0mparams\u001b[0m\u001b[1;33m)\u001b[0m\u001b[1;33m\u001b[0m\u001b[1;33m\u001b[0m\u001b[0m\n\u001b[0;32m   1432\u001b[0m         \u001b[1;32mreturn\u001b[0m \u001b[0mself\u001b[0m\u001b[1;33m.\u001b[0m\u001b[0mset_markets\u001b[0m\u001b[1;33m(\u001b[0m\u001b[0mmarkets\u001b[0m\u001b[1;33m,\u001b[0m \u001b[0mcurrencies\u001b[0m\u001b[1;33m)\u001b[0m\u001b[1;33m\u001b[0m\u001b[1;33m\u001b[0m\u001b[0m\n",
      "\u001b[1;32m~\\miniconda3\\envs\\projects_3.7\\lib\\site-packages\\ccxt\\binance.py\u001b[0m in \u001b[0;36mfetch_currencies\u001b[1;34m(self, params)\u001b[0m\n\u001b[0;32m   1311\u001b[0m         \u001b[1;32mif\u001b[0m \u001b[0mapiBackup\u001b[0m \u001b[1;32mis\u001b[0m \u001b[1;32mnot\u001b[0m \u001b[1;32mNone\u001b[0m\u001b[1;33m:\u001b[0m\u001b[1;33m\u001b[0m\u001b[1;33m\u001b[0m\u001b[0m\n\u001b[0;32m   1312\u001b[0m             \u001b[1;32mreturn\u001b[0m \u001b[1;32mNone\u001b[0m\u001b[1;33m\u001b[0m\u001b[1;33m\u001b[0m\u001b[0m\n\u001b[1;32m-> 1313\u001b[1;33m         \u001b[0mresponse\u001b[0m \u001b[1;33m=\u001b[0m \u001b[0mself\u001b[0m\u001b[1;33m.\u001b[0m\u001b[0msapiGetCapitalConfigGetall\u001b[0m\u001b[1;33m(\u001b[0m\u001b[0mparams\u001b[0m\u001b[1;33m)\u001b[0m\u001b[1;33m\u001b[0m\u001b[1;33m\u001b[0m\u001b[0m\n\u001b[0m\u001b[0;32m   1314\u001b[0m         \u001b[0mresult\u001b[0m \u001b[1;33m=\u001b[0m \u001b[1;33m{\u001b[0m\u001b[1;33m}\u001b[0m\u001b[1;33m\u001b[0m\u001b[1;33m\u001b[0m\u001b[0m\n\u001b[0;32m   1315\u001b[0m         \u001b[1;32mfor\u001b[0m \u001b[0mi\u001b[0m \u001b[1;32min\u001b[0m \u001b[0mrange\u001b[0m\u001b[1;33m(\u001b[0m\u001b[1;36m0\u001b[0m\u001b[1;33m,\u001b[0m \u001b[0mlen\u001b[0m\u001b[1;33m(\u001b[0m\u001b[0mresponse\u001b[0m\u001b[1;33m)\u001b[0m\u001b[1;33m)\u001b[0m\u001b[1;33m:\u001b[0m\u001b[1;33m\u001b[0m\u001b[1;33m\u001b[0m\u001b[0m\n",
      "\u001b[1;32m~\\miniconda3\\envs\\projects_3.7\\lib\\site-packages\\ccxt\\base\\exchange.py\u001b[0m in \u001b[0;36minner\u001b[1;34m(_self, params, context)\u001b[0m\n\u001b[0;32m    498\u001b[0m                 \u001b[1;32mif\u001b[0m \u001b[0mcontext\u001b[0m \u001b[1;32mis\u001b[0m \u001b[1;32mnot\u001b[0m \u001b[1;32mNone\u001b[0m\u001b[1;33m:\u001b[0m\u001b[1;33m\u001b[0m\u001b[1;33m\u001b[0m\u001b[0m\n\u001b[0;32m    499\u001b[0m                     \u001b[0minner_kwargs\u001b[0m\u001b[1;33m[\u001b[0m\u001b[1;34m'context'\u001b[0m\u001b[1;33m]\u001b[0m \u001b[1;33m=\u001b[0m \u001b[0mparams\u001b[0m\u001b[1;33m\u001b[0m\u001b[1;33m\u001b[0m\u001b[0m\n\u001b[1;32m--> 500\u001b[1;33m                 \u001b[1;32mreturn\u001b[0m \u001b[0mentry\u001b[0m\u001b[1;33m(\u001b[0m\u001b[0m_self\u001b[0m\u001b[1;33m,\u001b[0m \u001b[1;33m**\u001b[0m\u001b[0minner_kwargs\u001b[0m\u001b[1;33m)\u001b[0m\u001b[1;33m\u001b[0m\u001b[1;33m\u001b[0m\u001b[0m\n\u001b[0m\u001b[0;32m    501\u001b[0m             \u001b[1;32mreturn\u001b[0m \u001b[0minner\u001b[0m\u001b[1;33m\u001b[0m\u001b[1;33m\u001b[0m\u001b[0m\n\u001b[0;32m    502\u001b[0m         \u001b[0mto_bind\u001b[0m \u001b[1;33m=\u001b[0m \u001b[0mpartialer\u001b[0m\u001b[1;33m(\u001b[0m\u001b[1;33m)\u001b[0m\u001b[1;33m\u001b[0m\u001b[1;33m\u001b[0m\u001b[0m\n",
      "\u001b[1;32m~\\miniconda3\\envs\\projects_3.7\\lib\\site-packages\\ccxt\\binance.py\u001b[0m in \u001b[0;36mrequest\u001b[1;34m(self, path, api, method, params, headers, body, config, context)\u001b[0m\n\u001b[0;32m   5568\u001b[0m \u001b[1;33m\u001b[0m\u001b[0m\n\u001b[0;32m   5569\u001b[0m     \u001b[1;32mdef\u001b[0m \u001b[0mrequest\u001b[0m\u001b[1;33m(\u001b[0m\u001b[0mself\u001b[0m\u001b[1;33m,\u001b[0m \u001b[0mpath\u001b[0m\u001b[1;33m,\u001b[0m \u001b[0mapi\u001b[0m\u001b[1;33m=\u001b[0m\u001b[1;34m'public'\u001b[0m\u001b[1;33m,\u001b[0m \u001b[0mmethod\u001b[0m\u001b[1;33m=\u001b[0m\u001b[1;34m'GET'\u001b[0m\u001b[1;33m,\u001b[0m \u001b[0mparams\u001b[0m\u001b[1;33m=\u001b[0m\u001b[1;33m{\u001b[0m\u001b[1;33m}\u001b[0m\u001b[1;33m,\u001b[0m \u001b[0mheaders\u001b[0m\u001b[1;33m=\u001b[0m\u001b[1;32mNone\u001b[0m\u001b[1;33m,\u001b[0m \u001b[0mbody\u001b[0m\u001b[1;33m=\u001b[0m\u001b[1;32mNone\u001b[0m\u001b[1;33m,\u001b[0m \u001b[0mconfig\u001b[0m\u001b[1;33m=\u001b[0m\u001b[1;33m{\u001b[0m\u001b[1;33m}\u001b[0m\u001b[1;33m,\u001b[0m \u001b[0mcontext\u001b[0m\u001b[1;33m=\u001b[0m\u001b[1;33m{\u001b[0m\u001b[1;33m}\u001b[0m\u001b[1;33m)\u001b[0m\u001b[1;33m:\u001b[0m\u001b[1;33m\u001b[0m\u001b[1;33m\u001b[0m\u001b[0m\n\u001b[1;32m-> 5570\u001b[1;33m         \u001b[0mresponse\u001b[0m \u001b[1;33m=\u001b[0m \u001b[0mself\u001b[0m\u001b[1;33m.\u001b[0m\u001b[0mfetch2\u001b[0m\u001b[1;33m(\u001b[0m\u001b[0mpath\u001b[0m\u001b[1;33m,\u001b[0m \u001b[0mapi\u001b[0m\u001b[1;33m,\u001b[0m \u001b[0mmethod\u001b[0m\u001b[1;33m,\u001b[0m \u001b[0mparams\u001b[0m\u001b[1;33m,\u001b[0m \u001b[0mheaders\u001b[0m\u001b[1;33m,\u001b[0m \u001b[0mbody\u001b[0m\u001b[1;33m,\u001b[0m \u001b[0mconfig\u001b[0m\u001b[1;33m,\u001b[0m \u001b[0mcontext\u001b[0m\u001b[1;33m)\u001b[0m\u001b[1;33m\u001b[0m\u001b[1;33m\u001b[0m\u001b[0m\n\u001b[0m\u001b[0;32m   5571\u001b[0m         \u001b[1;31m# a workaround for {\"code\":-2015,\"msg\":\"Invalid API-key, IP, or permissions for action.\"}\u001b[0m\u001b[1;33m\u001b[0m\u001b[1;33m\u001b[0m\u001b[1;33m\u001b[0m\u001b[0m\n\u001b[0;32m   5572\u001b[0m         \u001b[1;32mif\u001b[0m \u001b[1;33m(\u001b[0m\u001b[0mapi\u001b[0m \u001b[1;33m==\u001b[0m \u001b[1;34m'private'\u001b[0m\u001b[1;33m)\u001b[0m \u001b[1;32mor\u001b[0m \u001b[1;33m(\u001b[0m\u001b[0mapi\u001b[0m \u001b[1;33m==\u001b[0m \u001b[1;34m'wapi'\u001b[0m\u001b[1;33m)\u001b[0m\u001b[1;33m:\u001b[0m\u001b[1;33m\u001b[0m\u001b[1;33m\u001b[0m\u001b[0m\n",
      "\u001b[1;32m~\\miniconda3\\envs\\projects_3.7\\lib\\site-packages\\ccxt\\base\\exchange.py\u001b[0m in \u001b[0;36mfetch2\u001b[1;34m(self, path, api, method, params, headers, body, config, context)\u001b[0m\n\u001b[0;32m   2607\u001b[0m         \u001b[0mself\u001b[0m\u001b[1;33m.\u001b[0m\u001b[0mlastRestRequestTimestamp\u001b[0m \u001b[1;33m=\u001b[0m \u001b[0mself\u001b[0m\u001b[1;33m.\u001b[0m\u001b[0mmilliseconds\u001b[0m\u001b[1;33m(\u001b[0m\u001b[1;33m)\u001b[0m\u001b[1;33m\u001b[0m\u001b[1;33m\u001b[0m\u001b[0m\n\u001b[0;32m   2608\u001b[0m         \u001b[0mrequest\u001b[0m \u001b[1;33m=\u001b[0m \u001b[0mself\u001b[0m\u001b[1;33m.\u001b[0m\u001b[0msign\u001b[0m\u001b[1;33m(\u001b[0m\u001b[0mpath\u001b[0m\u001b[1;33m,\u001b[0m \u001b[0mapi\u001b[0m\u001b[1;33m,\u001b[0m \u001b[0mmethod\u001b[0m\u001b[1;33m,\u001b[0m \u001b[0mparams\u001b[0m\u001b[1;33m,\u001b[0m \u001b[0mheaders\u001b[0m\u001b[1;33m,\u001b[0m \u001b[0mbody\u001b[0m\u001b[1;33m)\u001b[0m\u001b[1;33m\u001b[0m\u001b[1;33m\u001b[0m\u001b[0m\n\u001b[1;32m-> 2609\u001b[1;33m         \u001b[1;32mreturn\u001b[0m \u001b[0mself\u001b[0m\u001b[1;33m.\u001b[0m\u001b[0mfetch\u001b[0m\u001b[1;33m(\u001b[0m\u001b[0mrequest\u001b[0m\u001b[1;33m[\u001b[0m\u001b[1;34m'url'\u001b[0m\u001b[1;33m]\u001b[0m\u001b[1;33m,\u001b[0m \u001b[0mrequest\u001b[0m\u001b[1;33m[\u001b[0m\u001b[1;34m'method'\u001b[0m\u001b[1;33m]\u001b[0m\u001b[1;33m,\u001b[0m \u001b[0mrequest\u001b[0m\u001b[1;33m[\u001b[0m\u001b[1;34m'headers'\u001b[0m\u001b[1;33m]\u001b[0m\u001b[1;33m,\u001b[0m \u001b[0mrequest\u001b[0m\u001b[1;33m[\u001b[0m\u001b[1;34m'body'\u001b[0m\u001b[1;33m]\u001b[0m\u001b[1;33m)\u001b[0m\u001b[1;33m\u001b[0m\u001b[1;33m\u001b[0m\u001b[0m\n\u001b[0m\u001b[0;32m   2610\u001b[0m \u001b[1;33m\u001b[0m\u001b[0m\n\u001b[0;32m   2611\u001b[0m     \u001b[1;32mdef\u001b[0m \u001b[0mrequest\u001b[0m\u001b[1;33m(\u001b[0m\u001b[0mself\u001b[0m\u001b[1;33m,\u001b[0m \u001b[0mpath\u001b[0m\u001b[1;33m,\u001b[0m \u001b[0mapi\u001b[0m\u001b[1;33m=\u001b[0m\u001b[1;34m'public'\u001b[0m\u001b[1;33m,\u001b[0m \u001b[0mmethod\u001b[0m\u001b[1;33m=\u001b[0m\u001b[1;34m'GET'\u001b[0m\u001b[1;33m,\u001b[0m \u001b[0mparams\u001b[0m\u001b[1;33m=\u001b[0m\u001b[1;33m{\u001b[0m\u001b[1;33m}\u001b[0m\u001b[1;33m,\u001b[0m \u001b[0mheaders\u001b[0m\u001b[1;33m=\u001b[0m\u001b[1;32mNone\u001b[0m\u001b[1;33m,\u001b[0m \u001b[0mbody\u001b[0m\u001b[1;33m=\u001b[0m\u001b[1;32mNone\u001b[0m\u001b[1;33m,\u001b[0m \u001b[0mconfig\u001b[0m\u001b[1;33m=\u001b[0m\u001b[1;33m{\u001b[0m\u001b[1;33m}\u001b[0m\u001b[1;33m,\u001b[0m \u001b[0mcontext\u001b[0m\u001b[1;33m=\u001b[0m\u001b[1;33m{\u001b[0m\u001b[1;33m}\u001b[0m\u001b[1;33m)\u001b[0m\u001b[1;33m:\u001b[0m\u001b[1;33m\u001b[0m\u001b[1;33m\u001b[0m\u001b[0m\n",
      "\u001b[1;32m~\\miniconda3\\envs\\projects_3.7\\lib\\site-packages\\ccxt\\base\\exchange.py\u001b[0m in \u001b[0;36mfetch\u001b[1;34m(self, url, method, headers, body)\u001b[0m\n\u001b[0;32m    599\u001b[0m                 \u001b[0mtimeout\u001b[0m\u001b[1;33m=\u001b[0m\u001b[0mint\u001b[0m\u001b[1;33m(\u001b[0m\u001b[0mself\u001b[0m\u001b[1;33m.\u001b[0m\u001b[0mtimeout\u001b[0m \u001b[1;33m/\u001b[0m \u001b[1;36m1000\u001b[0m\u001b[1;33m)\u001b[0m\u001b[1;33m,\u001b[0m\u001b[1;33m\u001b[0m\u001b[1;33m\u001b[0m\u001b[0m\n\u001b[0;32m    600\u001b[0m                 \u001b[0mproxies\u001b[0m\u001b[1;33m=\u001b[0m\u001b[0mself\u001b[0m\u001b[1;33m.\u001b[0m\u001b[0mproxies\u001b[0m\u001b[1;33m,\u001b[0m\u001b[1;33m\u001b[0m\u001b[1;33m\u001b[0m\u001b[0m\n\u001b[1;32m--> 601\u001b[1;33m                 \u001b[0mverify\u001b[0m\u001b[1;33m=\u001b[0m\u001b[0mself\u001b[0m\u001b[1;33m.\u001b[0m\u001b[0mverify\u001b[0m \u001b[1;32mand\u001b[0m \u001b[0mself\u001b[0m\u001b[1;33m.\u001b[0m\u001b[0mvalidateServerSsl\u001b[0m\u001b[1;33m\u001b[0m\u001b[1;33m\u001b[0m\u001b[0m\n\u001b[0m\u001b[0;32m    602\u001b[0m             )\n\u001b[0;32m    603\u001b[0m             \u001b[1;31m# does not try to detect encoding\u001b[0m\u001b[1;33m\u001b[0m\u001b[1;33m\u001b[0m\u001b[1;33m\u001b[0m\u001b[0m\n",
      "\u001b[1;32m~\\miniconda3\\envs\\projects_3.7\\lib\\site-packages\\requests\\sessions.py\u001b[0m in \u001b[0;36mrequest\u001b[1;34m(self, method, url, params, data, headers, cookies, files, auth, timeout, allow_redirects, proxies, hooks, stream, verify, cert, json)\u001b[0m\n\u001b[0;32m    527\u001b[0m         }\n\u001b[0;32m    528\u001b[0m         \u001b[0msend_kwargs\u001b[0m\u001b[1;33m.\u001b[0m\u001b[0mupdate\u001b[0m\u001b[1;33m(\u001b[0m\u001b[0msettings\u001b[0m\u001b[1;33m)\u001b[0m\u001b[1;33m\u001b[0m\u001b[1;33m\u001b[0m\u001b[0m\n\u001b[1;32m--> 529\u001b[1;33m         \u001b[0mresp\u001b[0m \u001b[1;33m=\u001b[0m \u001b[0mself\u001b[0m\u001b[1;33m.\u001b[0m\u001b[0msend\u001b[0m\u001b[1;33m(\u001b[0m\u001b[0mprep\u001b[0m\u001b[1;33m,\u001b[0m \u001b[1;33m**\u001b[0m\u001b[0msend_kwargs\u001b[0m\u001b[1;33m)\u001b[0m\u001b[1;33m\u001b[0m\u001b[1;33m\u001b[0m\u001b[0m\n\u001b[0m\u001b[0;32m    530\u001b[0m \u001b[1;33m\u001b[0m\u001b[0m\n\u001b[0;32m    531\u001b[0m         \u001b[1;32mreturn\u001b[0m \u001b[0mresp\u001b[0m\u001b[1;33m\u001b[0m\u001b[1;33m\u001b[0m\u001b[0m\n",
      "\u001b[1;32m~\\miniconda3\\envs\\projects_3.7\\lib\\site-packages\\requests\\sessions.py\u001b[0m in \u001b[0;36msend\u001b[1;34m(self, request, **kwargs)\u001b[0m\n\u001b[0;32m    643\u001b[0m \u001b[1;33m\u001b[0m\u001b[0m\n\u001b[0;32m    644\u001b[0m         \u001b[1;31m# Send the request\u001b[0m\u001b[1;33m\u001b[0m\u001b[1;33m\u001b[0m\u001b[1;33m\u001b[0m\u001b[0m\n\u001b[1;32m--> 645\u001b[1;33m         \u001b[0mr\u001b[0m \u001b[1;33m=\u001b[0m \u001b[0madapter\u001b[0m\u001b[1;33m.\u001b[0m\u001b[0msend\u001b[0m\u001b[1;33m(\u001b[0m\u001b[0mrequest\u001b[0m\u001b[1;33m,\u001b[0m \u001b[1;33m**\u001b[0m\u001b[0mkwargs\u001b[0m\u001b[1;33m)\u001b[0m\u001b[1;33m\u001b[0m\u001b[1;33m\u001b[0m\u001b[0m\n\u001b[0m\u001b[0;32m    646\u001b[0m \u001b[1;33m\u001b[0m\u001b[0m\n\u001b[0;32m    647\u001b[0m         \u001b[1;31m# Total elapsed time of the request (approximately)\u001b[0m\u001b[1;33m\u001b[0m\u001b[1;33m\u001b[0m\u001b[1;33m\u001b[0m\u001b[0m\n",
      "\u001b[1;32m~\\miniconda3\\envs\\projects_3.7\\lib\\site-packages\\requests\\adapters.py\u001b[0m in \u001b[0;36msend\u001b[1;34m(self, request, stream, timeout, verify, cert, proxies)\u001b[0m\n\u001b[0;32m    448\u001b[0m                     \u001b[0mdecode_content\u001b[0m\u001b[1;33m=\u001b[0m\u001b[1;32mFalse\u001b[0m\u001b[1;33m,\u001b[0m\u001b[1;33m\u001b[0m\u001b[1;33m\u001b[0m\u001b[0m\n\u001b[0;32m    449\u001b[0m                     \u001b[0mretries\u001b[0m\u001b[1;33m=\u001b[0m\u001b[0mself\u001b[0m\u001b[1;33m.\u001b[0m\u001b[0mmax_retries\u001b[0m\u001b[1;33m,\u001b[0m\u001b[1;33m\u001b[0m\u001b[1;33m\u001b[0m\u001b[0m\n\u001b[1;32m--> 450\u001b[1;33m                     \u001b[0mtimeout\u001b[0m\u001b[1;33m=\u001b[0m\u001b[0mtimeout\u001b[0m\u001b[1;33m\u001b[0m\u001b[1;33m\u001b[0m\u001b[0m\n\u001b[0m\u001b[0;32m    451\u001b[0m                 )\n\u001b[0;32m    452\u001b[0m \u001b[1;33m\u001b[0m\u001b[0m\n",
      "\u001b[1;32m~\\miniconda3\\envs\\projects_3.7\\lib\\site-packages\\urllib3\\connectionpool.py\u001b[0m in \u001b[0;36murlopen\u001b[1;34m(self, method, url, body, headers, retries, redirect, assert_same_host, timeout, pool_timeout, release_conn, chunked, body_pos, **response_kw)\u001b[0m\n\u001b[0;32m    708\u001b[0m                 \u001b[0mbody\u001b[0m\u001b[1;33m=\u001b[0m\u001b[0mbody\u001b[0m\u001b[1;33m,\u001b[0m\u001b[1;33m\u001b[0m\u001b[1;33m\u001b[0m\u001b[0m\n\u001b[0;32m    709\u001b[0m                 \u001b[0mheaders\u001b[0m\u001b[1;33m=\u001b[0m\u001b[0mheaders\u001b[0m\u001b[1;33m,\u001b[0m\u001b[1;33m\u001b[0m\u001b[1;33m\u001b[0m\u001b[0m\n\u001b[1;32m--> 710\u001b[1;33m                 \u001b[0mchunked\u001b[0m\u001b[1;33m=\u001b[0m\u001b[0mchunked\u001b[0m\u001b[1;33m,\u001b[0m\u001b[1;33m\u001b[0m\u001b[1;33m\u001b[0m\u001b[0m\n\u001b[0m\u001b[0;32m    711\u001b[0m             )\n\u001b[0;32m    712\u001b[0m \u001b[1;33m\u001b[0m\u001b[0m\n",
      "\u001b[1;32m~\\miniconda3\\envs\\projects_3.7\\lib\\site-packages\\urllib3\\connectionpool.py\u001b[0m in \u001b[0;36m_make_request\u001b[1;34m(self, conn, method, url, timeout, chunked, **httplib_request_kw)\u001b[0m\n\u001b[0;32m    447\u001b[0m                     \u001b[1;31m# Python 3 (including for exceptions like SystemExit).\u001b[0m\u001b[1;33m\u001b[0m\u001b[1;33m\u001b[0m\u001b[1;33m\u001b[0m\u001b[0m\n\u001b[0;32m    448\u001b[0m                     \u001b[1;31m# Otherwise it looks like a bug in the code.\u001b[0m\u001b[1;33m\u001b[0m\u001b[1;33m\u001b[0m\u001b[1;33m\u001b[0m\u001b[0m\n\u001b[1;32m--> 449\u001b[1;33m                     \u001b[0msix\u001b[0m\u001b[1;33m.\u001b[0m\u001b[0mraise_from\u001b[0m\u001b[1;33m(\u001b[0m\u001b[0me\u001b[0m\u001b[1;33m,\u001b[0m \u001b[1;32mNone\u001b[0m\u001b[1;33m)\u001b[0m\u001b[1;33m\u001b[0m\u001b[1;33m\u001b[0m\u001b[0m\n\u001b[0m\u001b[0;32m    450\u001b[0m         \u001b[1;32mexcept\u001b[0m \u001b[1;33m(\u001b[0m\u001b[0mSocketTimeout\u001b[0m\u001b[1;33m,\u001b[0m \u001b[0mBaseSSLError\u001b[0m\u001b[1;33m,\u001b[0m \u001b[0mSocketError\u001b[0m\u001b[1;33m)\u001b[0m \u001b[1;32mas\u001b[0m \u001b[0me\u001b[0m\u001b[1;33m:\u001b[0m\u001b[1;33m\u001b[0m\u001b[1;33m\u001b[0m\u001b[0m\n\u001b[0;32m    451\u001b[0m             \u001b[0mself\u001b[0m\u001b[1;33m.\u001b[0m\u001b[0m_raise_timeout\u001b[0m\u001b[1;33m(\u001b[0m\u001b[0merr\u001b[0m\u001b[1;33m=\u001b[0m\u001b[0me\u001b[0m\u001b[1;33m,\u001b[0m \u001b[0murl\u001b[0m\u001b[1;33m=\u001b[0m\u001b[0murl\u001b[0m\u001b[1;33m,\u001b[0m \u001b[0mtimeout_value\u001b[0m\u001b[1;33m=\u001b[0m\u001b[0mread_timeout\u001b[0m\u001b[1;33m)\u001b[0m\u001b[1;33m\u001b[0m\u001b[1;33m\u001b[0m\u001b[0m\n",
      "\u001b[1;32m~\\miniconda3\\envs\\projects_3.7\\lib\\site-packages\\urllib3\\packages\\six.py\u001b[0m in \u001b[0;36mraise_from\u001b[1;34m(value, from_value)\u001b[0m\n",
      "\u001b[1;32m~\\miniconda3\\envs\\projects_3.7\\lib\\site-packages\\urllib3\\connectionpool.py\u001b[0m in \u001b[0;36m_make_request\u001b[1;34m(self, conn, method, url, timeout, chunked, **httplib_request_kw)\u001b[0m\n\u001b[0;32m    442\u001b[0m                 \u001b[1;31m# Python 3\u001b[0m\u001b[1;33m\u001b[0m\u001b[1;33m\u001b[0m\u001b[1;33m\u001b[0m\u001b[0m\n\u001b[0;32m    443\u001b[0m                 \u001b[1;32mtry\u001b[0m\u001b[1;33m:\u001b[0m\u001b[1;33m\u001b[0m\u001b[1;33m\u001b[0m\u001b[0m\n\u001b[1;32m--> 444\u001b[1;33m                     \u001b[0mhttplib_response\u001b[0m \u001b[1;33m=\u001b[0m \u001b[0mconn\u001b[0m\u001b[1;33m.\u001b[0m\u001b[0mgetresponse\u001b[0m\u001b[1;33m(\u001b[0m\u001b[1;33m)\u001b[0m\u001b[1;33m\u001b[0m\u001b[1;33m\u001b[0m\u001b[0m\n\u001b[0m\u001b[0;32m    445\u001b[0m                 \u001b[1;32mexcept\u001b[0m \u001b[0mBaseException\u001b[0m \u001b[1;32mas\u001b[0m \u001b[0me\u001b[0m\u001b[1;33m:\u001b[0m\u001b[1;33m\u001b[0m\u001b[1;33m\u001b[0m\u001b[0m\n\u001b[0;32m    446\u001b[0m                     \u001b[1;31m# Remove the TypeError from the exception chain in\u001b[0m\u001b[1;33m\u001b[0m\u001b[1;33m\u001b[0m\u001b[1;33m\u001b[0m\u001b[0m\n",
      "\u001b[1;32m~\\miniconda3\\envs\\projects_3.7\\lib\\http\\client.py\u001b[0m in \u001b[0;36mgetresponse\u001b[1;34m(self)\u001b[0m\n\u001b[0;32m   1371\u001b[0m         \u001b[1;32mtry\u001b[0m\u001b[1;33m:\u001b[0m\u001b[1;33m\u001b[0m\u001b[1;33m\u001b[0m\u001b[0m\n\u001b[0;32m   1372\u001b[0m             \u001b[1;32mtry\u001b[0m\u001b[1;33m:\u001b[0m\u001b[1;33m\u001b[0m\u001b[1;33m\u001b[0m\u001b[0m\n\u001b[1;32m-> 1373\u001b[1;33m                 \u001b[0mresponse\u001b[0m\u001b[1;33m.\u001b[0m\u001b[0mbegin\u001b[0m\u001b[1;33m(\u001b[0m\u001b[1;33m)\u001b[0m\u001b[1;33m\u001b[0m\u001b[1;33m\u001b[0m\u001b[0m\n\u001b[0m\u001b[0;32m   1374\u001b[0m             \u001b[1;32mexcept\u001b[0m \u001b[0mConnectionError\u001b[0m\u001b[1;33m:\u001b[0m\u001b[1;33m\u001b[0m\u001b[1;33m\u001b[0m\u001b[0m\n\u001b[0;32m   1375\u001b[0m                 \u001b[0mself\u001b[0m\u001b[1;33m.\u001b[0m\u001b[0mclose\u001b[0m\u001b[1;33m(\u001b[0m\u001b[1;33m)\u001b[0m\u001b[1;33m\u001b[0m\u001b[1;33m\u001b[0m\u001b[0m\n",
      "\u001b[1;32m~\\miniconda3\\envs\\projects_3.7\\lib\\http\\client.py\u001b[0m in \u001b[0;36mbegin\u001b[1;34m(self)\u001b[0m\n\u001b[0;32m    317\u001b[0m         \u001b[1;31m# read until we get a non-100 response\u001b[0m\u001b[1;33m\u001b[0m\u001b[1;33m\u001b[0m\u001b[1;33m\u001b[0m\u001b[0m\n\u001b[0;32m    318\u001b[0m         \u001b[1;32mwhile\u001b[0m \u001b[1;32mTrue\u001b[0m\u001b[1;33m:\u001b[0m\u001b[1;33m\u001b[0m\u001b[1;33m\u001b[0m\u001b[0m\n\u001b[1;32m--> 319\u001b[1;33m             \u001b[0mversion\u001b[0m\u001b[1;33m,\u001b[0m \u001b[0mstatus\u001b[0m\u001b[1;33m,\u001b[0m \u001b[0mreason\u001b[0m \u001b[1;33m=\u001b[0m \u001b[0mself\u001b[0m\u001b[1;33m.\u001b[0m\u001b[0m_read_status\u001b[0m\u001b[1;33m(\u001b[0m\u001b[1;33m)\u001b[0m\u001b[1;33m\u001b[0m\u001b[1;33m\u001b[0m\u001b[0m\n\u001b[0m\u001b[0;32m    320\u001b[0m             \u001b[1;32mif\u001b[0m \u001b[0mstatus\u001b[0m \u001b[1;33m!=\u001b[0m \u001b[0mCONTINUE\u001b[0m\u001b[1;33m:\u001b[0m\u001b[1;33m\u001b[0m\u001b[1;33m\u001b[0m\u001b[0m\n\u001b[0;32m    321\u001b[0m                 \u001b[1;32mbreak\u001b[0m\u001b[1;33m\u001b[0m\u001b[1;33m\u001b[0m\u001b[0m\n",
      "\u001b[1;32m~\\miniconda3\\envs\\projects_3.7\\lib\\http\\client.py\u001b[0m in \u001b[0;36m_read_status\u001b[1;34m(self)\u001b[0m\n\u001b[0;32m    278\u001b[0m \u001b[1;33m\u001b[0m\u001b[0m\n\u001b[0;32m    279\u001b[0m     \u001b[1;32mdef\u001b[0m \u001b[0m_read_status\u001b[0m\u001b[1;33m(\u001b[0m\u001b[0mself\u001b[0m\u001b[1;33m)\u001b[0m\u001b[1;33m:\u001b[0m\u001b[1;33m\u001b[0m\u001b[1;33m\u001b[0m\u001b[0m\n\u001b[1;32m--> 280\u001b[1;33m         \u001b[0mline\u001b[0m \u001b[1;33m=\u001b[0m \u001b[0mstr\u001b[0m\u001b[1;33m(\u001b[0m\u001b[0mself\u001b[0m\u001b[1;33m.\u001b[0m\u001b[0mfp\u001b[0m\u001b[1;33m.\u001b[0m\u001b[0mreadline\u001b[0m\u001b[1;33m(\u001b[0m\u001b[0m_MAXLINE\u001b[0m \u001b[1;33m+\u001b[0m \u001b[1;36m1\u001b[0m\u001b[1;33m)\u001b[0m\u001b[1;33m,\u001b[0m \u001b[1;34m\"iso-8859-1\"\u001b[0m\u001b[1;33m)\u001b[0m\u001b[1;33m\u001b[0m\u001b[1;33m\u001b[0m\u001b[0m\n\u001b[0m\u001b[0;32m    281\u001b[0m         \u001b[1;32mif\u001b[0m \u001b[0mlen\u001b[0m\u001b[1;33m(\u001b[0m\u001b[0mline\u001b[0m\u001b[1;33m)\u001b[0m \u001b[1;33m>\u001b[0m \u001b[0m_MAXLINE\u001b[0m\u001b[1;33m:\u001b[0m\u001b[1;33m\u001b[0m\u001b[1;33m\u001b[0m\u001b[0m\n\u001b[0;32m    282\u001b[0m             \u001b[1;32mraise\u001b[0m \u001b[0mLineTooLong\u001b[0m\u001b[1;33m(\u001b[0m\u001b[1;34m\"status line\"\u001b[0m\u001b[1;33m)\u001b[0m\u001b[1;33m\u001b[0m\u001b[1;33m\u001b[0m\u001b[0m\n",
      "\u001b[1;32m~\\miniconda3\\envs\\projects_3.7\\lib\\socket.py\u001b[0m in \u001b[0;36mreadinto\u001b[1;34m(self, b)\u001b[0m\n\u001b[0;32m    587\u001b[0m         \u001b[1;32mwhile\u001b[0m \u001b[1;32mTrue\u001b[0m\u001b[1;33m:\u001b[0m\u001b[1;33m\u001b[0m\u001b[1;33m\u001b[0m\u001b[0m\n\u001b[0;32m    588\u001b[0m             \u001b[1;32mtry\u001b[0m\u001b[1;33m:\u001b[0m\u001b[1;33m\u001b[0m\u001b[1;33m\u001b[0m\u001b[0m\n\u001b[1;32m--> 589\u001b[1;33m                 \u001b[1;32mreturn\u001b[0m \u001b[0mself\u001b[0m\u001b[1;33m.\u001b[0m\u001b[0m_sock\u001b[0m\u001b[1;33m.\u001b[0m\u001b[0mrecv_into\u001b[0m\u001b[1;33m(\u001b[0m\u001b[0mb\u001b[0m\u001b[1;33m)\u001b[0m\u001b[1;33m\u001b[0m\u001b[1;33m\u001b[0m\u001b[0m\n\u001b[0m\u001b[0;32m    590\u001b[0m             \u001b[1;32mexcept\u001b[0m \u001b[0mtimeout\u001b[0m\u001b[1;33m:\u001b[0m\u001b[1;33m\u001b[0m\u001b[1;33m\u001b[0m\u001b[0m\n\u001b[0;32m    591\u001b[0m                 \u001b[0mself\u001b[0m\u001b[1;33m.\u001b[0m\u001b[0m_timeout_occurred\u001b[0m \u001b[1;33m=\u001b[0m \u001b[1;32mTrue\u001b[0m\u001b[1;33m\u001b[0m\u001b[1;33m\u001b[0m\u001b[0m\n",
      "\u001b[1;32m~\\miniconda3\\envs\\projects_3.7\\lib\\ssl.py\u001b[0m in \u001b[0;36mrecv_into\u001b[1;34m(self, buffer, nbytes, flags)\u001b[0m\n\u001b[0;32m   1069\u001b[0m                   \u001b[1;34m\"non-zero flags not allowed in calls to recv_into() on %s\"\u001b[0m \u001b[1;33m%\u001b[0m\u001b[1;33m\u001b[0m\u001b[1;33m\u001b[0m\u001b[0m\n\u001b[0;32m   1070\u001b[0m                   self.__class__)\n\u001b[1;32m-> 1071\u001b[1;33m             \u001b[1;32mreturn\u001b[0m \u001b[0mself\u001b[0m\u001b[1;33m.\u001b[0m\u001b[0mread\u001b[0m\u001b[1;33m(\u001b[0m\u001b[0mnbytes\u001b[0m\u001b[1;33m,\u001b[0m \u001b[0mbuffer\u001b[0m\u001b[1;33m)\u001b[0m\u001b[1;33m\u001b[0m\u001b[1;33m\u001b[0m\u001b[0m\n\u001b[0m\u001b[0;32m   1072\u001b[0m         \u001b[1;32melse\u001b[0m\u001b[1;33m:\u001b[0m\u001b[1;33m\u001b[0m\u001b[1;33m\u001b[0m\u001b[0m\n\u001b[0;32m   1073\u001b[0m             \u001b[1;32mreturn\u001b[0m \u001b[0msuper\u001b[0m\u001b[1;33m(\u001b[0m\u001b[1;33m)\u001b[0m\u001b[1;33m.\u001b[0m\u001b[0mrecv_into\u001b[0m\u001b[1;33m(\u001b[0m\u001b[0mbuffer\u001b[0m\u001b[1;33m,\u001b[0m \u001b[0mnbytes\u001b[0m\u001b[1;33m,\u001b[0m \u001b[0mflags\u001b[0m\u001b[1;33m)\u001b[0m\u001b[1;33m\u001b[0m\u001b[1;33m\u001b[0m\u001b[0m\n",
      "\u001b[1;32m~\\miniconda3\\envs\\projects_3.7\\lib\\ssl.py\u001b[0m in \u001b[0;36mread\u001b[1;34m(self, len, buffer)\u001b[0m\n\u001b[0;32m    927\u001b[0m         \u001b[1;32mtry\u001b[0m\u001b[1;33m:\u001b[0m\u001b[1;33m\u001b[0m\u001b[1;33m\u001b[0m\u001b[0m\n\u001b[0;32m    928\u001b[0m             \u001b[1;32mif\u001b[0m \u001b[0mbuffer\u001b[0m \u001b[1;32mis\u001b[0m \u001b[1;32mnot\u001b[0m \u001b[1;32mNone\u001b[0m\u001b[1;33m:\u001b[0m\u001b[1;33m\u001b[0m\u001b[1;33m\u001b[0m\u001b[0m\n\u001b[1;32m--> 929\u001b[1;33m                 \u001b[1;32mreturn\u001b[0m \u001b[0mself\u001b[0m\u001b[1;33m.\u001b[0m\u001b[0m_sslobj\u001b[0m\u001b[1;33m.\u001b[0m\u001b[0mread\u001b[0m\u001b[1;33m(\u001b[0m\u001b[0mlen\u001b[0m\u001b[1;33m,\u001b[0m \u001b[0mbuffer\u001b[0m\u001b[1;33m)\u001b[0m\u001b[1;33m\u001b[0m\u001b[1;33m\u001b[0m\u001b[0m\n\u001b[0m\u001b[0;32m    930\u001b[0m             \u001b[1;32melse\u001b[0m\u001b[1;33m:\u001b[0m\u001b[1;33m\u001b[0m\u001b[1;33m\u001b[0m\u001b[0m\n\u001b[0;32m    931\u001b[0m                 \u001b[1;32mreturn\u001b[0m \u001b[0mself\u001b[0m\u001b[1;33m.\u001b[0m\u001b[0m_sslobj\u001b[0m\u001b[1;33m.\u001b[0m\u001b[0mread\u001b[0m\u001b[1;33m(\u001b[0m\u001b[0mlen\u001b[0m\u001b[1;33m)\u001b[0m\u001b[1;33m\u001b[0m\u001b[1;33m\u001b[0m\u001b[0m\n",
      "\u001b[1;31mKeyboardInterrupt\u001b[0m: "
     ]
    }
   ],
   "source": [
    "########################\n",
    "#if running first time:#\n",
    "########################\n",
    "# max_date = date_to_unix(\"2021-01-01 00:00:00-05:00\")\n",
    "#if just updating db use always:\n",
    "get_max_time(ex4) \n",
    "\n",
    "while max_date < date_to_unix(datetime.now(timezone('US/Eastern')).strftime(\"%Y-%m-%d %H:%M:%S\")):\n",
    "    # get_max_time(ex4)\n",
    "    print(ex4)\n",
    "    get_crypto_prices(data, kucoin, limit = 1500, ex_name=ex4)# all tickers first, pass data\n",
    "    \n",
    "    get_max_time(ex3)\n",
    "    print(ex3)\n",
    "    get_crypto_prices(not_found_ticker, mexc, limit = 1000, ex_name=ex3)\n",
    "\n",
    "    get_max_time(ex1)\n",
    "    print(ex1)\n",
    "    get_crypto_prices(not_found_ticker, binanceus, limit = 1500, ex_name=ex1)\n",
    "\n",
    "    # get_max_time(ex2)\n",
    "    # print(ex2)\n",
    "    # get_crypto_prices(not_found_ticker, kraken, limit = 1500, ex_name=ex2)\n",
    "    \n",
    "    \n",
    "    get_max_time(ex4) #kucoin\n",
    "    # break\n",
    "    \n"
   ]
  },
  {
   "cell_type": "markdown",
   "id": "a7727932",
   "metadata": {},
   "source": [
    "#### Workspace for Checking "
   ]
  },
  {
   "cell_type": "code",
   "execution_count": 13,
   "id": "a5898d6e",
   "metadata": {},
   "outputs": [],
   "source": [
    "# kucoin.fetch_ohlcvc(\"LTC/USDT\",limit =100000, since = 1638334800000)\n",
    "# pd.to_datetime(1639273800000, unit = \"ms\").tz_localize('UTC').tz_convert('US/Eastern')\n",
    "# tickers = list(mexc.currencies.keys())pd.to_datetime(1639273800000, unit = \"ms\").tz_localize('UTC').tz_convert('US/Eastern')"
   ]
  },
  {
   "cell_type": "code",
   "execution_count": 151,
   "id": "4e31b069",
   "metadata": {},
   "outputs": [],
   "source": [
    "# max_date = pd.read_csv(\"Firas_prices.csv\", index_col=0).timestamp.max()\n",
    "# max_date = pd.to_datetime(max_date).tz_convert('US/Eastern')\n",
    "# print(max_date)\n",
    "# max_date = int(int(max_date.asm8)/1e6)\n",
    "# max_date = int(max_date + 1e3)"
   ]
  },
  {
   "cell_type": "code",
   "execution_count": 45,
   "id": "b1f30f83",
   "metadata": {},
   "outputs": [
    {
     "data": {
      "text/plain": [
       "1625115600000"
      ]
     },
     "execution_count": 45,
     "metadata": {},
     "output_type": "execute_result"
    }
   ],
   "source": [
    "date_to_unix(\"2021-07-01 00:00:00-05:00\")"
   ]
  },
  {
   "cell_type": "code",
   "execution_count": 54,
   "id": "6c2c09fc",
   "metadata": {},
   "outputs": [
    {
     "name": "stdout",
     "output_type": "stream",
     "text": [
      "2021-12-26 00:36:00-05:00 2021-12-26 17:15:00-05:00 1000\n"
     ]
    }
   ],
   "source": [
    "import numpy as np\n",
    "# df = pd.DataFrame(binanceus.fetch_ohlcv(\"BTC/USDT\",since = int(max_date-1e3+6*1e4), limit= 1000, timeframe = \"1m\"), columns = [\"timestamp\", \"Open\",\"High\", \"Low\", \"Close\", \"Volume\"])\n",
    "# df[\"timestamp\"] = pd.to_datetime(df[\"timestamp\"], unit = \"ms\").apply(lambda x:x.tz_localize('UTC').tz_convert('US/Eastern'))\n",
    "# df[\"ticker\"] = \"BTC/USDT\"\n",
    "df[\"exchange\"] = np.nan\n",
    "# x = df[\"timestamp\"].max()\n",
    "\n",
    "# x = pd.to_datetime(x.value, unit=\"ns\")\n",
    "# str(int((end - datetime.datetime(1970,1,1)).total_seconds()))\n",
    "\n",
    "print(df[\"timestamp\"].min(), df[\"timestamp\"].max(), len(df))"
   ]
  },
  {
   "cell_type": "code",
   "execution_count": 35,
   "id": "bd2a74ee",
   "metadata": {},
   "outputs": [
    {
     "data": {
      "text/plain": [
       "1609567140000"
      ]
     },
     "execution_count": 35,
     "metadata": {},
     "output_type": "execute_result"
    }
   ],
   "source": [
    "int(int(pd.to_datetime(str(df[\"timestamp\"].max())).tz_convert('US/Eastern').asm8)/1e6)"
   ]
  },
  {
   "cell_type": "code",
   "execution_count": 105,
   "id": "5b7a3256",
   "metadata": {},
   "outputs": [],
   "source": [
    "# df.head(0).to_csv(\"Firas_prices_v2.csv\", mode='w', header=True)"
   ]
  }
 ],
 "metadata": {
  "kernelspec": {
   "display_name": "dev",
   "language": "python",
   "name": "dev"
  },
  "language_info": {
   "codemirror_mode": {
    "name": "ipython",
    "version": 3
   },
   "file_extension": ".py",
   "mimetype": "text/x-python",
   "name": "python",
   "nbconvert_exporter": "python",
   "pygments_lexer": "ipython3",
   "version": "3.7.13"
  }
 },
 "nbformat": 4,
 "nbformat_minor": 5
}
