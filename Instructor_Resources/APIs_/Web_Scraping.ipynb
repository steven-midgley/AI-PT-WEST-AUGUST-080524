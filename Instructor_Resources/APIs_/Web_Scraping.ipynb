{
 "cells": [
  {
   "cell_type": "markdown",
   "metadata": {},
   "source": [
    "# Scrape Crypto Tickers\n",
    "`Firas Obeid`\n",
    "\n",
    "https://coinmarketcap.com/"
   ]
  },
  {
   "cell_type": "code",
   "execution_count": null,
   "metadata": {},
   "outputs": [],
   "source": [
    "__Author__ = 'Firas Obeid'"
   ]
  },
  {
   "cell_type": "code",
   "execution_count": 2,
   "metadata": {},
   "outputs": [],
   "source": [
    "from bs4 import BeautifulSoup\n",
    "from splinter import Browser\n",
    "from time import sleep\n",
    "from webdriver_manager.chrome import ChromeDriverManager\n",
    "from pathlib import Path\n",
    "from tqdm import tqdm\n",
    "import json"
   ]
  },
  {
   "cell_type": "code",
   "execution_count": 4,
   "metadata": {},
   "outputs": [
    {
     "name": "stderr",
     "output_type": "stream",
     "text": [
      "\n",
      "\n",
      "====== WebDriver manager ======\n",
      "Current google-chrome version is 101.0.4951\n",
      "Get LATEST chromedriver version for 101.0.4951 google-chrome\n",
      "Driver [C:\\Users\\feras.FIROMEGAPC\\.wdm\\drivers\\chromedriver\\win32\\101.0.4951.41\\chromedriver.exe] found in cache\n"
     ]
    }
   ],
   "source": [
    "executable_path = {'executable_path': ChromeDriverManager().install()}\n",
    "browser = Browser('chrome', **executable_path, headless=False)\n"
   ]
  },
  {
   "cell_type": "code",
   "execution_count": 5,
   "metadata": {},
   "outputs": [],
   "source": [
    "url = \"https://coinmarketcap.com/\"\n",
    "browser.visit(url)"
   ]
  },
  {
   "cell_type": "code",
   "execution_count": 7,
   "metadata": {},
   "outputs": [],
   "source": [
    "html = browser.html\n",
    "soup = BeautifulSoup(html, 'html.parser')\n",
    "\n",
    "#warmup getting tickers on first page before looping over other pages\n",
    "crypto_tickers = [i.text for i in soup.find_all('span', class_='crypto-symbol') if i.text != \"\"]\n",
    "crypto_tickers.extend([i.text for i in soup.find_all('p', class_='sc-1eb5slv-0 gGIpIK coin-item-symbol') if i.text != \"\"])"
   ]
  },
  {
   "cell_type": "code",
   "execution_count": 6,
   "metadata": {},
   "outputs": [],
   "source": [
    "# TAG and ELEMENTS that I found to have all of the Tickers attached too:\n",
    "# <p color=\"text3\" class=\"sc-1eb5slv-0 gGIpIK coin-item-symbol\" font-size=\"1\">BTC</p>\n",
    "# <a href=\"/currencies/bitcoin/\" class=\"cmc-link\"><div class=\"sc-16r8icm-0 sc-1teo54s-0 dBKWCw\"><img class=\"coin-logo\" src=\"https://s2.coinmarketcap.com/static/img/coins/64x64/1.png\" loading=\"lazy\" alt=\"BTC logo\"><div class=\"sc-16r8icm-0 sc-1teo54s-1 dNOTPP\"><p font-weight=\"semibold\" color=\"text\" font-size=\"1\" class=\"sc-1eb5slv-0 iworPT\">Bitcoin</p><div class=\"sc-1teo54s-2 fZIJcI\"><div class=\"sc-1teo54s-3 etWhyV\">1</div><p color=\"text3\" class=\"sc-1eb5slv-0 gGIpIK coin-item-symbol\" font-size=\"1\">BTC</p></div></div></div></a>\n",
    "\n",
    "crypto_tickers = [i.text for i in soup.find_all('span', class_='crypto-symbol') if i.text != \"\"]\n",
    "crypto_tickers.extend([i.text for i in soup.find_all('p', class_='sc-1eb5slv-0 gGIpIK coin-item-symbol') if i.text != \"\"])\n",
    "\n",
    "page_number = [i.text for i in soup.find_all('a', role='button')if i.text != \"\"]\n",
    "last_page = page_number[-1]"
   ]
  },
  {
   "cell_type": "code",
   "execution_count": 8,
   "metadata": {},
   "outputs": [],
   "source": [
    "page_number = [i.text for i in soup.find_all('a', role='button')if i.text != \"\"]\n",
    "last_page = int(page_number[-1]) #get max page number"
   ]
  },
  {
   "cell_type": "code",
   "execution_count": 8,
   "metadata": {},
   "outputs": [
    {
     "name": "stderr",
     "output_type": "stream",
     "text": [
      "100%|██████████████████████████████████████████████████████████████████████████████████| 81/81 [07:39<00:00,  5.67s/it]\n"
     ]
    }
   ],
   "source": [
    "for i in tqdm(range(2 , int(last_page + 1))): #loop over pages to scrape each ricker on each page\n",
    "    url = 'https://coinmarketcap.com/?page=%d/'% i\n",
    "    browser.visit(url)\n",
    "    html = browser.html\n",
    "    soup = BeautifulSoup(html, 'html.parser')\n",
    "    crypto_tickers.extend([i.text for i in soup.find_all('span', class_='crypto-symbol') if i.text != \"\"])\n",
    "    crypto_tickers.extend([i.text for i in soup.find_all('p', class_='sc-1eb5slv-0 gGIpIK coin-item-symbol') if i.text != \"\"])\n",
    "    sleep(2)\n",
    "with open('crypto_tickers.json', 'w', encoding='utf-8') as f:\n",
    "        json.dump(crypto_tickers, f, ensure_ascii=False, indent=4)    "
   ]
  },
  {
   "cell_type": "code",
   "execution_count": null,
   "metadata": {},
   "outputs": [],
   "source": []
  },
  {
   "cell_type": "code",
   "execution_count": 9,
   "metadata": {},
   "outputs": [],
   "source": [
    "#https://alternative.me/crypto/api/"
   ]
  },
  {
   "cell_type": "code",
   "execution_count": 10,
   "metadata": {},
   "outputs": [],
   "source": [
    "with open('crypto_tickers.json') as f:\n",
    "        data = json.load(f) "
   ]
  },
  {
   "cell_type": "code",
   "execution_count": 16,
   "metadata": {},
   "outputs": [
    {
     "data": {
      "text/html": [
       "<div>\n",
       "<style scoped>\n",
       "    .dataframe tbody tr th:only-of-type {\n",
       "        vertical-align: middle;\n",
       "    }\n",
       "\n",
       "    .dataframe tbody tr th {\n",
       "        vertical-align: top;\n",
       "    }\n",
       "\n",
       "    .dataframe thead th {\n",
       "        text-align: right;\n",
       "    }\n",
       "</style>\n",
       "<table border=\"1\" class=\"dataframe\">\n",
       "  <thead>\n",
       "    <tr style=\"text-align: right;\">\n",
       "      <th></th>\n",
       "      <th>tickers</th>\n",
       "    </tr>\n",
       "  </thead>\n",
       "  <tbody>\n",
       "    <tr>\n",
       "      <th>0</th>\n",
       "      <td>AVAX</td>\n",
       "    </tr>\n",
       "    <tr>\n",
       "      <th>1</th>\n",
       "      <td>SHIB</td>\n",
       "    </tr>\n",
       "    <tr>\n",
       "      <th>2</th>\n",
       "      <td>MATIC</td>\n",
       "    </tr>\n",
       "    <tr>\n",
       "      <th>3</th>\n",
       "      <td>CRO</td>\n",
       "    </tr>\n",
       "    <tr>\n",
       "      <th>4</th>\n",
       "      <td>BUSD</td>\n",
       "    </tr>\n",
       "    <tr>\n",
       "      <th>...</th>\n",
       "      <td>...</td>\n",
       "    </tr>\n",
       "    <tr>\n",
       "      <th>8170</th>\n",
       "      <td>ODAO</td>\n",
       "    </tr>\n",
       "    <tr>\n",
       "      <th>8171</th>\n",
       "      <td>Psyduck</td>\n",
       "    </tr>\n",
       "    <tr>\n",
       "      <th>8172</th>\n",
       "      <td>UDOG</td>\n",
       "    </tr>\n",
       "    <tr>\n",
       "      <th>8173</th>\n",
       "      <td>NWORDPASS</td>\n",
       "    </tr>\n",
       "    <tr>\n",
       "      <th>8174</th>\n",
       "      <td>BATMAN</td>\n",
       "    </tr>\n",
       "  </tbody>\n",
       "</table>\n",
       "<p>8175 rows × 1 columns</p>\n",
       "</div>"
      ],
      "text/plain": [
       "        tickers\n",
       "0          AVAX\n",
       "1          SHIB\n",
       "2         MATIC\n",
       "3           CRO\n",
       "4          BUSD\n",
       "...         ...\n",
       "8170       ODAO\n",
       "8171    Psyduck\n",
       "8172       UDOG\n",
       "8173  NWORDPASS\n",
       "8174     BATMAN\n",
       "\n",
       "[8175 rows x 1 columns]"
      ]
     },
     "execution_count": 16,
     "metadata": {},
     "output_type": "execute_result"
    }
   ],
   "source": [
    "import pandas as pd\n",
    "pd.DataFrame(data,columns=[\"tickers\"])"
   ]
  },
  {
   "cell_type": "code",
   "execution_count": 17,
   "metadata": {},
   "outputs": [],
   "source": [
    "# from splinter.browser import Browser\n",
    "# b = Browser('firefox')\n",
    "# b.visit('http://www.baidu.com')\n",
    "# b.fill('wd', 'test')\n",
    "# b.execute_script('document.getElementsByName(\"f\")[0].submit()')"
   ]
  },
  {
   "cell_type": "code",
   "execution_count": null,
   "metadata": {},
   "outputs": [],
   "source": []
  }
 ],
 "metadata": {
  "kernelspec": {
   "display_name": "Python 3 (ipykernel)",
   "language": "python",
   "name": "python3"
  },
  "language_info": {
   "codemirror_mode": {
    "name": "ipython",
    "version": 3
   },
   "file_extension": ".py",
   "mimetype": "text/x-python",
   "name": "python",
   "nbconvert_exporter": "python",
   "pygments_lexer": "ipython3",
   "version": "3.7.13"
  }
 },
 "nbformat": 4,
 "nbformat_minor": 4
}
