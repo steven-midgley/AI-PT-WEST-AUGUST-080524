{
 "cells": [
  {
   "cell_type": "markdown",
   "metadata": {},
   "source": [
    "### Execute the Trivia API for the the Computers category (18)"
   ]
  },
  {
   "cell_type": "code",
   "execution_count": 1,
   "metadata": {},
   "outputs": [
    {
     "name": "stdout",
     "output_type": "stream",
     "text": [
      "{\n",
      "    \"response_code\": 0,\n",
      "    \"results\": [\n",
      "        {\n",
      "            \"type\": \"multiple\",\n",
      "            \"difficulty\": \"medium\",\n",
      "            \"category\": \"Science: Computers\",\n",
      "            \"question\": \"All of the following programs are classified as raster graphics editors EXCEPT:\",\n",
      "            \"correct_answer\": \"Inkscape\",\n",
      "            \"incorrect_answers\": [\n",
      "                \"Paint.NET\",\n",
      "                \"GIMP\",\n",
      "                \"Adobe Photoshop\"\n",
      "            ]\n",
      "        }\n",
      "    ]\n",
      "}\n"
     ]
    }
   ],
   "source": [
    "import requests\n",
    "import json\n",
    "\n",
    "# Create parameterized url\n",
    "request_url = \"https://opentdb.com/api.php?amount=1&category=18\"\n",
    "\n",
    "# Submit request and format output\n",
    "response_data = requests.get(request_url).json()\n",
    "print(json.dumps(response_data, indent=4))"
   ]
  },
  {
   "cell_type": "code",
   "execution_count": 2,
   "metadata": {},
   "outputs": [
    {
     "data": {
      "text/plain": [
       "'What does the computer software acronym JVM stand for?'"
      ]
     },
     "execution_count": 2,
     "metadata": {},
     "output_type": "execute_result"
    }
   ],
   "source": [
    "# Select question \n",
    "response_data['results'][0]['question']"
   ]
  },
  {
   "cell_type": "markdown",
   "metadata": {},
   "source": [
    "### Execute the Trivia API for the the Mathematics category (19)"
   ]
  },
  {
   "cell_type": "code",
   "execution_count": 3,
   "metadata": {},
   "outputs": [
    {
     "name": "stdout",
     "output_type": "stream",
     "text": [
      "{\n",
      "    \"response_code\": 0,\n",
      "    \"results\": [\n",
      "        {\n",
      "            \"type\": \"boolean\",\n",
      "            \"difficulty\": \"medium\",\n",
      "            \"category\": \"Science: Mathematics\",\n",
      "            \"question\": \"The proof for the Chinese Remainder Theorem used in Number Theory was NOT developed by its first publisher, Sun Tzu.\",\n",
      "            \"correct_answer\": \"True\",\n",
      "            \"incorrect_answers\": [\n",
      "                \"False\"\n",
      "            ]\n",
      "        }\n",
      "    ]\n",
      "}\n"
     ]
    }
   ],
   "source": [
    "# Create parameterized url\n",
    "request_url = \"https://opentdb.com/api.php?amount=1&category=19\"\n",
    "\n",
    "# Submit request and format output\n",
    "response_data = requests.get(request_url).json()\n",
    "print(json.dumps(response_data, indent=4))"
   ]
  },
  {
   "cell_type": "code",
   "execution_count": 4,
   "metadata": {},
   "outputs": [
    {
     "data": {
      "text/plain": [
       "'The proof for the Chinese Remainder Theorem used in Number Theory was NOT developed by its first publisher, Sun Tzu.'"
      ]
     },
     "execution_count": 4,
     "metadata": {},
     "output_type": "execute_result"
    }
   ],
   "source": [
    "# Select question \n",
    "response_data['results'][0]['question']"
   ]
  }
 ],
 "metadata": {
  "kernelspec": {
   "display_name": "Python 3 (ipykernel)",
   "language": "python",
   "name": "python3"
  },
  "language_info": {
   "codemirror_mode": {
    "name": "ipython",
    "version": 3
   },
   "file_extension": ".py",
   "mimetype": "text/x-python",
   "name": "python",
   "nbconvert_exporter": "python",
   "pygments_lexer": "ipython3",
   "version": "3.7.13"
  }
 },
 "nbformat": 4,
 "nbformat_minor": 4
}
