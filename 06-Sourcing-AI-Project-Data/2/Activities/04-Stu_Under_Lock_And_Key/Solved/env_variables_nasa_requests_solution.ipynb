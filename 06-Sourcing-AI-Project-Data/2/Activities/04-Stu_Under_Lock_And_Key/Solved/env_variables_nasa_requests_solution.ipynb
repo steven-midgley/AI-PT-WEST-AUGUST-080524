{
 "cells": [
  {
   "cell_type": "code",
   "execution_count": 1,
   "metadata": {},
   "outputs": [],
   "source": [
    "# Initial imports\n",
    "import requests\n",
    "from dotenv import load_dotenv\n",
    "import os\n",
    "import json\n",
    "import pandas as pd"
   ]
  },
  {
   "cell_type": "markdown",
   "metadata": {},
   "source": [
    "### Use the `load_dotenv()` method from the `dotenv` package to load and export the environment variables"
   ]
  },
  {
   "cell_type": "code",
   "execution_count": 2,
   "metadata": {},
   "outputs": [
    {
     "data": {
      "text/plain": [
       "True"
      ]
     },
     "execution_count": 2,
     "metadata": {},
     "output_type": "execute_result"
    }
   ],
   "source": [
    "load_dotenv()"
   ]
  },
  {
   "cell_type": "markdown",
   "metadata": {},
   "source": [
    "### Use the `os.getenv` function to retrieve the environment variable named `NASA_API_KEY`. Store as a Python variable named `api_key`"
   ]
  },
  {
   "cell_type": "code",
   "execution_count": 3,
   "metadata": {},
   "outputs": [],
   "source": [
    "api_key = os.getenv(\"NASA_API_KEY\")"
   ]
  },
  {
   "cell_type": "markdown",
   "metadata": {},
   "source": [
    "### Use the `type` function to confirm the retrieval of the API key."
   ]
  },
  {
   "cell_type": "code",
   "execution_count": 4,
   "metadata": {},
   "outputs": [
    {
     "data": {
      "text/plain": [
       "str"
      ]
     },
     "execution_count": 4,
     "metadata": {},
     "output_type": "execute_result"
    }
   ],
   "source": [
    "type(api_key)\n"
   ]
  },
  {
   "cell_type": "markdown",
   "metadata": {},
   "source": [
    "### Concatenate `request_url` with the `api_key` variable"
   ]
  },
  {
   "cell_type": "code",
   "execution_count": 5,
   "metadata": {},
   "outputs": [],
   "source": [
    "# Search NASA API URL for Geomagnetic Storms over North America for a certain month\n",
    "base_url = \"https://api.nasa.gov/DONKI/GST\"\n",
    "\n",
    "# Search for Geomagnetic Storms over a certain time range\n",
    "start_date = \"2024-04-01\"\n",
    "end_date   = \"2024-05-05\"\n",
    "\n",
    "# Define latitude and longitude for North America\n",
    "latitude   = 37.0902  \n",
    "longitude  = -95.7129 \n",
    "\n",
    "# Build query URL\n",
    "query_url = f\"{base_url}?location={latitude},{longitude}&startDate={start_date}&endDate={end_date}&api_key={api_key}\""
   ]
  },
  {
   "cell_type": "markdown",
   "metadata": {},
   "source": [
    "### Execute GET request with API key"
   ]
  },
  {
   "cell_type": "code",
   "execution_count": 6,
   "metadata": {},
   "outputs": [],
   "source": [
    "# Execute get request\n",
    "response_data = requests.get(query_url) "
   ]
  },
  {
   "cell_type": "markdown",
   "metadata": {},
   "source": [
    "### Display JSON to screen using `json.dumps()`"
   ]
  },
  {
   "cell_type": "code",
   "execution_count": 7,
   "metadata": {
    "scrolled": true
   },
   "outputs": [
    {
     "name": "stdout",
     "output_type": "stream",
     "text": [
      "[\n",
      "    {\n",
      "        \"gstID\": \"2024-04-19T18:00:00-GST-001\",\n",
      "        \"startTime\": \"2024-04-19T18:00Z\",\n",
      "        \"allKpIndex\": [\n",
      "            {\n",
      "                \"observedTime\": \"2024-04-19T21:00Z\",\n",
      "                \"kpIndex\": 7.0,\n",
      "                \"source\": \"NOAA\"\n",
      "            }\n",
      "        ],\n",
      "        \"linkedEvents\": [\n",
      "            {\n",
      "                \"activityID\": \"2024-04-15T06:48:00-CME-001\"\n",
      "            },\n",
      "            {\n",
      "                \"activityID\": \"2024-04-19T04:53:00-IPS-001\"\n",
      "            }\n",
      "        ],\n",
      "        \"link\": \"https://webtools.ccmc.gsfc.nasa.gov/DONKI/view/GST/30153/-1\",\n",
      "        \"submissionTime\": \"2024-04-19T21:40Z\"\n",
      "    },\n",
      "    {\n",
      "        \"gstID\": \"2024-05-02T15:00:00-GST-001\",\n",
      "        \"startTime\": \"2024-05-02T15:00Z\",\n",
      "        \"allKpIndex\": [\n",
      "            {\n",
      "                \"observedTime\": \"2024-05-02T18:00Z\",\n",
      "                \"kpIndex\": 6.67,\n",
      "                \"source\": \"NOAA\"\n",
      "            },\n",
      "            {\n",
      "                \"observedTime\": \"2024-05-02T21:00Z\",\n",
      "                \"kpIndex\": 6.67,\n",
      "                \"source\": \"NOAA\"\n",
      "            }\n",
      "        ],\n",
      "        \"linkedEvents\": [\n",
      "            {\n",
      "                \"activityID\": \"2024-05-02T07:46:00-IPS-001\"\n",
      "            },\n",
      "            {\n",
      "                \"activityID\": \"2024-05-02T15:49:00-MPC-001\"\n",
      "            }\n",
      "        ],\n",
      "        \"link\": \"https://webtools.ccmc.gsfc.nasa.gov/DONKI/view/GST/30399/-1\",\n",
      "        \"submissionTime\": \"2024-05-02T18:44Z\"\n",
      "    }\n",
      "]\n"
     ]
    }
   ],
   "source": [
    "# Format data as JSON\n",
    "data = response_data.json()\n",
    "\n",
    "# Use json.dumps with argument indent=4 to format data\n",
    "print(json.dumps(data, indent=4))"
   ]
  },
  {
   "cell_type": "code",
   "execution_count": 8,
   "metadata": {},
   "outputs": [
    {
     "data": {
      "text/html": [
       "<div>\n",
       "<style scoped>\n",
       "    .dataframe tbody tr th:only-of-type {\n",
       "        vertical-align: middle;\n",
       "    }\n",
       "\n",
       "    .dataframe tbody tr th {\n",
       "        vertical-align: top;\n",
       "    }\n",
       "\n",
       "    .dataframe thead th {\n",
       "        text-align: right;\n",
       "    }\n",
       "</style>\n",
       "<table border=\"1\" class=\"dataframe\">\n",
       "  <thead>\n",
       "    <tr style=\"text-align: right;\">\n",
       "      <th></th>\n",
       "      <th>gstID</th>\n",
       "      <th>startTime</th>\n",
       "      <th>linkedEvents</th>\n",
       "    </tr>\n",
       "  </thead>\n",
       "  <tbody>\n",
       "    <tr>\n",
       "      <th>0</th>\n",
       "      <td>2024-04-19T18:00:00-GST-001</td>\n",
       "      <td>2024-04-19T18:00Z</td>\n",
       "      <td>[{'activityID': '2024-04-15T06:48:00-CME-001'}...</td>\n",
       "    </tr>\n",
       "    <tr>\n",
       "      <th>1</th>\n",
       "      <td>2024-05-02T15:00:00-GST-001</td>\n",
       "      <td>2024-05-02T15:00Z</td>\n",
       "      <td>[{'activityID': '2024-05-02T07:46:00-IPS-001'}...</td>\n",
       "    </tr>\n",
       "  </tbody>\n",
       "</table>\n",
       "</div>"
      ],
      "text/plain": [
       "                         gstID          startTime  \\\n",
       "0  2024-04-19T18:00:00-GST-001  2024-04-19T18:00Z   \n",
       "1  2024-05-02T15:00:00-GST-001  2024-05-02T15:00Z   \n",
       "\n",
       "                                        linkedEvents  \n",
       "0  [{'activityID': '2024-04-15T06:48:00-CME-001'}...  \n",
       "1  [{'activityID': '2024-05-02T07:46:00-IPS-001'}...  "
      ]
     },
     "execution_count": 8,
     "metadata": {},
     "output_type": "execute_result"
    }
   ],
   "source": [
    "# Convert geomagnetic_storms json file to a Pandas DataFrame \n",
    "df = pd.DataFrame(data)\n",
    "# Keep only the columns: activityID, startTime, linkedEvents\n",
    "df = df[['gstID', 'startTime', 'linkedEvents']]\n",
    "df.head()"
   ]
  },
  {
   "cell_type": "markdown",
   "metadata": {},
   "source": [
    "## Bonus: extract activityID from dict"
   ]
  },
  {
   "cell_type": "code",
   "execution_count": 9,
   "metadata": {},
   "outputs": [
    {
     "data": {
      "text/plain": [
       "'2024-04-15T06:48:00-CME-001'"
      ]
     },
     "execution_count": 9,
     "metadata": {},
     "output_type": "execute_result"
    }
   ],
   "source": [
    "# Create a function called extract_activityID_from_dict that takes a dict as input such as in linkedEvents and extracts the value of that dict\n",
    "def extract_activityID_from_dict(input_dict):\n",
    "    try:\n",
    "        activityID = input_dict.get('activityID', None)\n",
    "        return activityID\n",
    "    except (ValueError, TypeError) as e:\n",
    "        # Log the error or print it for debugging\n",
    "        print(f\"Error processing input dictionary: {input_dict}. Error: {e}\")\n",
    "        return None\n",
    "\n",
    "extract_activityID_from_dict(df.loc[0,'linkedEvents'][0])"
   ]
  }
 ],
 "metadata": {
  "kernelspec": {
   "display_name": "Python 3 (ipykernel)",
   "language": "python",
   "name": "python3"
  },
  "language_info": {
   "codemirror_mode": {
    "name": "ipython",
    "version": 3
   },
   "file_extension": ".py",
   "mimetype": "text/x-python",
   "name": "python",
   "nbconvert_exporter": "python",
   "pygments_lexer": "ipython3",
   "version": "3.11.7"
  },
  "nteract": {
   "version": "0.28.0"
  }
 },
 "nbformat": 4,
 "nbformat_minor": 4
}
