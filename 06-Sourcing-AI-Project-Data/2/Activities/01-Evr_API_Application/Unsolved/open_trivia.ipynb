{
 "cells": [
  {
   "cell_type": "code",
   "execution_count": 1,
   "metadata": {},
   "outputs": [],
   "source": [
    "# Dependencies\n",
    "import requests\n",
    "import json"
   ]
  },
  {
   "cell_type": "code",
   "execution_count": 2,
   "metadata": {},
   "outputs": [],
   "source": [
    "# Base URL for GET requests to retrieve trivia facts\n"
   ]
  },
  {
   "cell_type": "code",
   "execution_count": 3,
   "metadata": {},
   "outputs": [],
   "source": [
    "# Create a dictionary of the search choice options\n"
   ]
  },
  {
   "cell_type": "code",
   "execution_count": 4,
   "metadata": {},
   "outputs": [
    {
     "name": "stdout",
     "output_type": "stream",
     "text": [
      "{\n",
      "    \"response_code\": 0,\n",
      "    \"results\": [\n",
      "        {\n",
      "            \"type\": \"multiple\",\n",
      "            \"difficulty\": \"hard\",\n",
      "            \"category\": \"Science: Mathematics\",\n",
      "            \"question\": \"What is the smallest number that can be expressed as the sum of two positive cubes in two different ways?\",\n",
      "            \"correct_answer\": \"1729\",\n",
      "            \"incorrect_answers\": [\n",
      "                \"91\",\n",
      "                \"561\",\n",
      "                \"4104\"\n",
      "            ]\n",
      "        }\n",
      "    ]\n",
      "}\n"
     ]
    }
   ],
   "source": [
    "# Make a test request to check the JSON format\n",
    "\n",
    "# Use json.dumps with argument indent=4 to format data\n"
   ]
  },
  {
   "cell_type": "code",
   "execution_count": 5,
   "metadata": {},
   "outputs": [],
   "source": []
  },
  {
   "cell_type": "code",
   "execution_count": 6,
   "metadata": {},
   "outputs": [
    {
     "name": "stdin",
     "output_type": "stream",
     "text": [
      "What topic would you like to get trivia for: 'Computers', 'Mathematics', 'Mythology', 'Sports'?\n",
      " Computers\n"
     ]
    }
   ],
   "source": [
    "# Ask the user what kind of data they would like to search for\n"
   ]
  },
  {
   "cell_type": "code",
   "execution_count": 7,
   "metadata": {},
   "outputs": [],
   "source": [
    "# Create a list of difficulty levels\n"
   ]
  },
  {
   "cell_type": "code",
   "execution_count": 8,
   "metadata": {},
   "outputs": [
    {
     "name": "stdin",
     "output_type": "stream",
     "text": [
      "What difficulty should the trivia question be: 'easy', 'medium', 'hard'?\n",
      " medium\n"
     ]
    }
   ],
   "source": [
    "# Ask the user what kind of difficulty they would like to look for\n"
   ]
  },
  {
   "cell_type": "code",
   "execution_count": 9,
   "metadata": {},
   "outputs": [
    {
     "name": "stdin",
     "output_type": "stream",
     "text": [
      "What topic would you like to get trivia for: 'Computers', 'Mathematics', 'Mythology', 'Sports'?\n",
      " Computers\n",
      "What difficulty should the trivia question be: 'easy', 'medium', 'hard'?\n",
      " medium\n"
     ]
    },
    {
     "name": "stdout",
     "output_type": "stream",
     "text": [
      "{\n",
      "    \"response_code\": 0,\n",
      "    \"results\": [\n",
      "        {\n",
      "            \"type\": \"multiple\",\n",
      "            \"difficulty\": \"medium\",\n",
      "            \"category\": \"Science: Computers\",\n",
      "            \"question\": \"Approximately how many Apple I personal computers were created?\",\n",
      "            \"correct_answer\": \"200\",\n",
      "            \"incorrect_answers\": [\n",
      "                \"100\",\n",
      "                \"500\",\n",
      "                \"1000\"\n",
      "            ]\n",
      "        }\n",
      "    ]\n",
      "}\n"
     ]
    }
   ],
   "source": [
    "# Check that the user selection is in the search options\n",
    "# Create a continuous loop that exits when category and difficulty are valid\n",
    "while True:\n",
    "    # Ask the user what kind of data they would like to search for\n",
    "\n",
    "    # Use title() to ensure that the first character is capitalized\n",
    "    \n",
    "    # Category must one of the choices  'Computers', 'Mathematics', 'Mythology', 'Sports' \n",
    "    if kind_of_search.title() not in search_options:\n",
    "        # Print error  \n",
    "        \n",
    "    else:     \n",
    "        \n",
    "        while True:\n",
    "            # Collect the difficulty to search for\n",
    "            \n",
    "            # \"Difficulty must one of the choices 'easy', 'medium', 'hard'\n",
    "            if difficulty.lower() not in difficulty_options:\n",
    "                # Print error  \n",
    "                \n",
    "            else:\n",
    "                # Break from inner loop\n",
    "                break\n",
    "        # Break from outer loop\n",
    "        break\n",
    "\n",
    "# Make an API call to the \"date\" API and convert response object to JSON\n",
    "\n",
    "# Use json.dumps with argument indent=4 to format data\n"
   ]
  }
 ],
 "metadata": {
  "kernelspec": {
   "display_name": "Python 3 (ipykernel)",
   "language": "python",
   "name": "python3"
  },
  "language_info": {
   "codemirror_mode": {
    "name": "ipython",
    "version": 3
   },
   "file_extension": ".py",
   "mimetype": "text/x-python",
   "name": "python",
   "nbconvert_exporter": "python",
   "pygments_lexer": "ipython3",
   "version": "3.11.7"
  },
  "varInspector": {
   "cols": {
    "lenName": 16,
    "lenType": 16,
    "lenVar": 40
   },
   "kernels_config": {
    "python": {
     "delete_cmd_postfix": "",
     "delete_cmd_prefix": "del ",
     "library": "var_list.py",
     "varRefreshCmd": "print(var_dic_list())"
    },
    "r": {
     "delete_cmd_postfix": ") ",
     "delete_cmd_prefix": "rm(",
     "library": "var_list.r",
     "varRefreshCmd": "cat(var_dic_list()) "
    }
   },
   "types_to_exclude": [
    "module",
    "function",
    "builtin_function_or_method",
    "instance",
    "_Feature"
   ],
   "window_display": false
  }
 },
 "nbformat": 4,
 "nbformat_minor": 4
}
