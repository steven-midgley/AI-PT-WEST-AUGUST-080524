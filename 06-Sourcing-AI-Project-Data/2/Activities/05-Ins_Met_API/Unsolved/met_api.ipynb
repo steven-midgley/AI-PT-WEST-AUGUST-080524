{
 "cells": [
  {
   "cell_type": "code",
   "execution_count": 1,
   "metadata": {},
   "outputs": [],
   "source": [
    "# Import dependencies\n",
    "import requests\n",
    "import json"
   ]
  },
  {
   "cell_type": "code",
   "execution_count": 2,
   "metadata": {},
   "outputs": [],
   "source": [
    "# Met API URL\n",
    "   \n",
    "# Search for art that contains 'Picasso'\n"
   ]
  },
  {
   "cell_type": "code",
   "execution_count": 3,
   "metadata": {},
   "outputs": [],
   "source": [
    "# Build query URL\n"
   ]
  },
  {
   "cell_type": "code",
   "execution_count": 4,
   "metadata": {},
   "outputs": [],
   "source": [
    "# Request art\n"
   ]
  },
  {
   "cell_type": "code",
   "execution_count": 7,
   "metadata": {},
   "outputs": [
    {
     "name": "stdout",
     "output_type": "stream",
     "text": [
      "[486753, 486842, 488596, 488711, 500194, 752607, 490037, 489124, 490013]\n"
     ]
    }
   ],
   "source": [
    "# Extract the objectIDs list from the response\n",
    "\n",
    "# Print the first 10 Object IDs\n"
   ]
  },
  {
   "cell_type": "code",
   "execution_count": 6,
   "metadata": {},
   "outputs": [
    {
     "name": "stdout",
     "output_type": "stream",
     "text": [
      "Title: The Actor\n",
      "Artist: Pablo Picasso\n",
      "Image URL: \n",
      "---------------------------\n",
      "Title: Guitar and Clarinet on a Mantelpiece\n",
      "Artist: Pablo Picasso\n",
      "Image URL: \n",
      "---------------------------\n",
      "Title: The Dreamer\n",
      "Artist: Pablo Picasso\n",
      "Image URL: \n",
      "---------------------------\n",
      "Title: The Blind Man's Meal\n",
      "Artist: Pablo Picasso\n",
      "Image URL: \n",
      "---------------------------\n",
      "Title: Woman in White\n",
      "Artist: Pablo Picasso\n",
      "Image URL: \n",
      "---------------------------\n",
      "Title: Woman in a Chemise in an Armchair\n",
      "Artist: Pablo Picasso\n",
      "Image URL: \n",
      "---------------------------\n",
      "Title: Documents concerning Parade: [Letter from Picasso to Cocteau]\n",
      "Artist: Pablo Picasso\n",
      "Image URL: \n",
      "---------------------------\n",
      "Title: Head of a Woman\n",
      "Artist: Pablo Picasso\n",
      "Image URL: \n",
      "---------------------------\n",
      "Title: Seated Harlequin\n",
      "Artist: Pablo Picasso\n",
      "Image URL: \n",
      "---------------------------\n",
      "Title: Woman in Profile\n",
      "Artist: Pablo Picasso\n",
      "Image URL: \n",
      "---------------------------\n"
     ]
    }
   ],
   "source": [
    "# Iterate through the first 10 pieces of art in this list to retrieve the details of each object ID:\n",
    "for object_id in art_list[0:10]:\n",
    "    # Retrieve details of the artwork using its ID\n",
    "\n",
    "    if artwork_response.status_code == 200:\n",
    "\n",
    "        # Extract relevant information\n",
    "\n",
    "    \n",
    "        # Display information\n",
    "\n",
    "    # Add a one second interval between queries to stay within API query limits\n"
   ]
  },
  {
   "cell_type": "code",
   "execution_count": null,
   "metadata": {},
   "outputs": [],
   "source": []
  }
 ],
 "metadata": {
  "kernelspec": {
   "display_name": "Python 3 (ipykernel)",
   "language": "python",
   "name": "python3"
  },
  "language_info": {
   "codemirror_mode": {
    "name": "ipython",
    "version": 3
   },
   "file_extension": ".py",
   "mimetype": "text/x-python",
   "name": "python",
   "nbconvert_exporter": "python",
   "pygments_lexer": "ipython3",
   "version": "3.11.7"
  },
  "latex_envs": {
   "LaTeX_envs_menu_present": true,
   "autoclose": false,
   "autocomplete": true,
   "bibliofile": "biblio.bib",
   "cite_by": "apalike",
   "current_citInitial": 1,
   "eqLabelWithNumbers": true,
   "eqNumInitial": 1,
   "hotkeys": {
    "equation": "Ctrl-E",
    "itemize": "Ctrl-I"
   },
   "labels_anchors": false,
   "latex_user_defs": false,
   "report_style_numbering": false,
   "user_envs_cfg": false
  },
  "varInspector": {
   "cols": {
    "lenName": 16,
    "lenType": 16,
    "lenVar": 40
   },
   "kernels_config": {
    "python": {
     "delete_cmd_postfix": "",
     "delete_cmd_prefix": "del ",
     "library": "var_list.py",
     "varRefreshCmd": "print(var_dic_list())"
    },
    "r": {
     "delete_cmd_postfix": ") ",
     "delete_cmd_prefix": "rm(",
     "library": "var_list.r",
     "varRefreshCmd": "cat(var_dic_list()) "
    }
   },
   "types_to_exclude": [
    "module",
    "function",
    "builtin_function_or_method",
    "instance",
    "_Feature"
   ],
   "window_display": false
  }
 },
 "nbformat": 4,
 "nbformat_minor": 4
}
