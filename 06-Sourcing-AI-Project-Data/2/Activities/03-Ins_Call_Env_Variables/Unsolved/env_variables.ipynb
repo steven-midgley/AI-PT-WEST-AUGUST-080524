{
 "cells": [
  {
   "cell_type": "markdown",
   "metadata": {},
   "source": [
    "### Instructor Demo: Environment Variables"
   ]
  },
  {
   "cell_type": "code",
   "execution_count": 1,
   "metadata": {},
   "outputs": [],
   "source": [
    "# Import dotenv package for setting environment variables \n",
    "from dotenv import load_dotenv\n",
    "\n",
    "# Import os package\n",
    "import os"
   ]
  },
  {
   "cell_type": "code",
   "execution_count": 2,
   "metadata": {},
   "outputs": [],
   "source": [
    "# Set environment variables from the .env in the local environment\n"
   ]
  },
  {
   "cell_type": "code",
   "execution_count": 3,
   "metadata": {},
   "outputs": [
    {
     "data": {
      "text/plain": [
       "str"
      ]
     },
     "execution_count": 3,
     "metadata": {},
     "output_type": "execute_result"
    }
   ],
   "source": [
    "# Retrieve API key and store as Python variable\n"
   ]
  },
  {
   "cell_type": "code",
   "execution_count": 4,
   "metadata": {},
   "outputs": [],
   "source": [
    "# Test the API key with a request\n",
    "import requests\n",
    "import json\n",
    "import pandas as pd"
   ]
  },
  {
   "cell_type": "code",
   "execution_count": 5,
   "metadata": {},
   "outputs": [],
   "source": [
    "# Search NASA API URL for Geomagnetic Storms over North America for a certain month\n",
    "\n",
    "# Search for Geomagnetic Storms over a certain time range\n",
    "start_date = \"2024-04-01\"\n",
    "end_date   = \"2024-05-05\"\n",
    "\n",
    "# Define latitude and longitude for North America\n",
    "latitude   = 37.0902  \n",
    "longitude  = -95.7129 \n",
    "\n",
    "# Build query URL\n",
    "\n",
    "# Execute \"GET\" request with query_url\n"
   ]
  },
  {
   "cell_type": "code",
   "execution_count": 6,
   "metadata": {},
   "outputs": [
    {
     "name": "stdout",
     "output_type": "stream",
     "text": [
      "[\n",
      "    {\n",
      "        \"gstID\": \"2024-04-19T18:00:00-GST-001\",\n",
      "        \"startTime\": \"2024-04-19T18:00Z\",\n",
      "        \"allKpIndex\": [\n",
      "            {\n",
      "                \"observedTime\": \"2024-04-19T21:00Z\",\n",
      "                \"kpIndex\": 7.0,\n",
      "                \"source\": \"NOAA\"\n",
      "            }\n",
      "        ],\n",
      "        \"linkedEvents\": [\n",
      "            {\n",
      "                \"activityID\": \"2024-04-15T06:48:00-CME-001\"\n",
      "            },\n",
      "            {\n",
      "                \"activityID\": \"2024-04-19T04:53:00-IPS-001\"\n",
      "            }\n",
      "        ],\n",
      "        \"link\": \"https://webtools.ccmc.gsfc.nasa.gov/DONKI/view/GST/30153/-1\",\n",
      "        \"submissionTime\": \"2024-04-19T21:40Z\"\n",
      "    },\n",
      "    {\n",
      "        \"gstID\": \"2024-05-02T15:00:00-GST-001\",\n",
      "        \"startTime\": \"2024-05-02T15:00Z\",\n",
      "        \"allKpIndex\": [\n",
      "            {\n",
      "                \"observedTime\": \"2024-05-02T18:00Z\",\n",
      "                \"kpIndex\": 6.67,\n",
      "                \"source\": \"NOAA\"\n",
      "            },\n",
      "            {\n",
      "                \"observedTime\": \"2024-05-02T21:00Z\",\n",
      "                \"kpIndex\": 6.67,\n",
      "                \"source\": \"NOAA\"\n",
      "            }\n",
      "        ],\n",
      "        \"linkedEvents\": [\n",
      "            {\n",
      "                \"activityID\": \"2024-05-02T07:46:00-IPS-001\"\n",
      "            },\n",
      "            {\n",
      "                \"activityID\": \"2024-05-02T15:49:00-MPC-001\"\n",
      "            }\n",
      "        ],\n",
      "        \"link\": \"https://webtools.ccmc.gsfc.nasa.gov/DONKI/view/GST/30399/-1\",\n",
      "        \"submissionTime\": \"2024-05-02T18:44Z\"\n",
      "    }\n",
      "]\n"
     ]
    }
   ],
   "source": [
    "# Format data as JSON\n",
    "\n",
    "\n",
    "# Use json.dumps with argument indent=4 to format data\n"
   ]
  },
  {
   "cell_type": "code",
   "execution_count": 7,
   "metadata": {},
   "outputs": [
    {
     "data": {
      "text/plain": [
       "{'activityID': '2024-05-02T15:49:00-MPC-001'}"
      ]
     },
     "execution_count": 7,
     "metadata": {},
     "output_type": "execute_result"
    }
   ],
   "source": [
    "# Access the 2nd activity in the linkedEvents for the 2nd Geomagnetic Storm\n"
   ]
  },
  {
   "cell_type": "code",
   "execution_count": 8,
   "metadata": {},
   "outputs": [
    {
     "data": {
      "text/html": [
       "<div>\n",
       "<style scoped>\n",
       "    .dataframe tbody tr th:only-of-type {\n",
       "        vertical-align: middle;\n",
       "    }\n",
       "\n",
       "    .dataframe tbody tr th {\n",
       "        vertical-align: top;\n",
       "    }\n",
       "\n",
       "    .dataframe thead th {\n",
       "        text-align: right;\n",
       "    }\n",
       "</style>\n",
       "<table border=\"1\" class=\"dataframe\">\n",
       "  <thead>\n",
       "    <tr style=\"text-align: right;\">\n",
       "      <th></th>\n",
       "      <th>gstID</th>\n",
       "      <th>startTime</th>\n",
       "      <th>linkedEvents</th>\n",
       "    </tr>\n",
       "  </thead>\n",
       "  <tbody>\n",
       "    <tr>\n",
       "      <th>0</th>\n",
       "      <td>2024-04-19T18:00:00-GST-001</td>\n",
       "      <td>2024-04-19T18:00Z</td>\n",
       "      <td>[{'activityID': '2024-04-15T06:48:00-CME-001'}...</td>\n",
       "    </tr>\n",
       "    <tr>\n",
       "      <th>1</th>\n",
       "      <td>2024-05-02T15:00:00-GST-001</td>\n",
       "      <td>2024-05-02T15:00Z</td>\n",
       "      <td>[{'activityID': '2024-05-02T07:46:00-IPS-001'}...</td>\n",
       "    </tr>\n",
       "  </tbody>\n",
       "</table>\n",
       "</div>"
      ],
      "text/plain": [
       "                         gstID          startTime  \\\n",
       "0  2024-04-19T18:00:00-GST-001  2024-04-19T18:00Z   \n",
       "1  2024-05-02T15:00:00-GST-001  2024-05-02T15:00Z   \n",
       "\n",
       "                                        linkedEvents  \n",
       "0  [{'activityID': '2024-04-15T06:48:00-CME-001'}...  \n",
       "1  [{'activityID': '2024-05-02T07:46:00-IPS-001'}...  "
      ]
     },
     "execution_count": 8,
     "metadata": {},
     "output_type": "execute_result"
    }
   ],
   "source": [
    "# Convert geomagnetic_storms json file to a Pandas DataFrame using json_normalize()\n",
    "\n",
    "# Keep only the columns: activityID, startTime, linkedEvents\n"
   ]
  },
  {
   "cell_type": "markdown",
   "metadata": {},
   "source": [
    "### `for loop` and explode() function\n",
    "\n",
    "Because the linkedEvents sometimes contains multiple events per row we want to spread these to individual rows. We will compare 2 approaches:\n",
    "\n",
    "1) `for loop`\n",
    "2) explode()\n"
   ]
  },
  {
   "cell_type": "code",
   "execution_count": 9,
   "metadata": {},
   "outputs": [
    {
     "data": {
      "text/html": [
       "<div>\n",
       "<style scoped>\n",
       "    .dataframe tbody tr th:only-of-type {\n",
       "        vertical-align: middle;\n",
       "    }\n",
       "\n",
       "    .dataframe tbody tr th {\n",
       "        vertical-align: top;\n",
       "    }\n",
       "\n",
       "    .dataframe thead th {\n",
       "        text-align: right;\n",
       "    }\n",
       "</style>\n",
       "<table border=\"1\" class=\"dataframe\">\n",
       "  <thead>\n",
       "    <tr style=\"text-align: right;\">\n",
       "      <th></th>\n",
       "      <th>gstID</th>\n",
       "      <th>startTime</th>\n",
       "      <th>linkedEvents</th>\n",
       "    </tr>\n",
       "  </thead>\n",
       "  <tbody>\n",
       "    <tr>\n",
       "      <th>0</th>\n",
       "      <td>2024-04-19T18:00:00-GST-001</td>\n",
       "      <td>2024-04-19T18:00Z</td>\n",
       "      <td>{'activityID': '2024-04-15T06:48:00-CME-001'}</td>\n",
       "    </tr>\n",
       "    <tr>\n",
       "      <th>1</th>\n",
       "      <td>2024-04-19T18:00:00-GST-001</td>\n",
       "      <td>2024-04-19T18:00Z</td>\n",
       "      <td>{'activityID': '2024-04-19T04:53:00-IPS-001'}</td>\n",
       "    </tr>\n",
       "    <tr>\n",
       "      <th>2</th>\n",
       "      <td>2024-05-02T15:00:00-GST-001</td>\n",
       "      <td>2024-05-02T15:00Z</td>\n",
       "      <td>{'activityID': '2024-05-02T07:46:00-IPS-001'}</td>\n",
       "    </tr>\n",
       "    <tr>\n",
       "      <th>3</th>\n",
       "      <td>2024-05-02T15:00:00-GST-001</td>\n",
       "      <td>2024-05-02T15:00Z</td>\n",
       "      <td>{'activityID': '2024-05-02T15:49:00-MPC-001'}</td>\n",
       "    </tr>\n",
       "  </tbody>\n",
       "</table>\n",
       "</div>"
      ],
      "text/plain": [
       "                         gstID          startTime  \\\n",
       "0  2024-04-19T18:00:00-GST-001  2024-04-19T18:00Z   \n",
       "1  2024-04-19T18:00:00-GST-001  2024-04-19T18:00Z   \n",
       "2  2024-05-02T15:00:00-GST-001  2024-05-02T15:00Z   \n",
       "3  2024-05-02T15:00:00-GST-001  2024-05-02T15:00Z   \n",
       "\n",
       "                                    linkedEvents  \n",
       "0  {'activityID': '2024-04-15T06:48:00-CME-001'}  \n",
       "1  {'activityID': '2024-04-19T04:53:00-IPS-001'}  \n",
       "2  {'activityID': '2024-05-02T07:46:00-IPS-001'}  \n",
       "3  {'activityID': '2024-05-02T15:49:00-MPC-001'}  "
      ]
     },
     "execution_count": 9,
     "metadata": {},
     "output_type": "execute_result"
    }
   ],
   "source": [
    "\n",
    "# Initialize an empty list to store the expanded rows\n",
    "\n",
    "\n",
    "# Iterate over each index in the DataFrame\n",
    "\n",
    "    # Iterate over each dictionary in the list\n",
    "\n",
    "        # Create a new row with the dictionary and corresponding 'activityID' and 'startTime' value\n",
    "\n",
    "# Create a new DataFrame from the expanded rows\n",
    "\n",
    "# Use the head function to show the dataframe\n"
   ]
  },
  {
   "cell_type": "code",
   "execution_count": 10,
   "metadata": {},
   "outputs": [
    {
     "data": {
      "text/html": [
       "<div>\n",
       "<style scoped>\n",
       "    .dataframe tbody tr th:only-of-type {\n",
       "        vertical-align: middle;\n",
       "    }\n",
       "\n",
       "    .dataframe tbody tr th {\n",
       "        vertical-align: top;\n",
       "    }\n",
       "\n",
       "    .dataframe thead th {\n",
       "        text-align: right;\n",
       "    }\n",
       "</style>\n",
       "<table border=\"1\" class=\"dataframe\">\n",
       "  <thead>\n",
       "    <tr style=\"text-align: right;\">\n",
       "      <th></th>\n",
       "      <th>gstID</th>\n",
       "      <th>startTime</th>\n",
       "      <th>linkedEvents</th>\n",
       "    </tr>\n",
       "  </thead>\n",
       "  <tbody>\n",
       "    <tr>\n",
       "      <th>0</th>\n",
       "      <td>2024-04-19T18:00:00-GST-001</td>\n",
       "      <td>2024-04-19T18:00Z</td>\n",
       "      <td>{'activityID': '2024-04-15T06:48:00-CME-001'}</td>\n",
       "    </tr>\n",
       "    <tr>\n",
       "      <th>1</th>\n",
       "      <td>2024-04-19T18:00:00-GST-001</td>\n",
       "      <td>2024-04-19T18:00Z</td>\n",
       "      <td>{'activityID': '2024-04-19T04:53:00-IPS-001'}</td>\n",
       "    </tr>\n",
       "    <tr>\n",
       "      <th>2</th>\n",
       "      <td>2024-05-02T15:00:00-GST-001</td>\n",
       "      <td>2024-05-02T15:00Z</td>\n",
       "      <td>{'activityID': '2024-05-02T07:46:00-IPS-001'}</td>\n",
       "    </tr>\n",
       "    <tr>\n",
       "      <th>3</th>\n",
       "      <td>2024-05-02T15:00:00-GST-001</td>\n",
       "      <td>2024-05-02T15:00Z</td>\n",
       "      <td>{'activityID': '2024-05-02T15:49:00-MPC-001'}</td>\n",
       "    </tr>\n",
       "  </tbody>\n",
       "</table>\n",
       "</div>"
      ],
      "text/plain": [
       "                         gstID          startTime  \\\n",
       "0  2024-04-19T18:00:00-GST-001  2024-04-19T18:00Z   \n",
       "1  2024-04-19T18:00:00-GST-001  2024-04-19T18:00Z   \n",
       "2  2024-05-02T15:00:00-GST-001  2024-05-02T15:00Z   \n",
       "3  2024-05-02T15:00:00-GST-001  2024-05-02T15:00Z   \n",
       "\n",
       "                                    linkedEvents  \n",
       "0  {'activityID': '2024-04-15T06:48:00-CME-001'}  \n",
       "1  {'activityID': '2024-04-19T04:53:00-IPS-001'}  \n",
       "2  {'activityID': '2024-05-02T07:46:00-IPS-001'}  \n",
       "3  {'activityID': '2024-05-02T15:49:00-MPC-001'}  "
      ]
     },
     "execution_count": 10,
     "metadata": {},
     "output_type": "execute_result"
    }
   ],
   "source": [
    "\n",
    "# Use the head function to show the dataframe\n"
   ]
  }
 ],
 "metadata": {
  "kernelspec": {
   "display_name": "Python 3 (ipykernel)",
   "language": "python",
   "name": "python3"
  },
  "language_info": {
   "codemirror_mode": {
    "name": "ipython",
    "version": 3
   },
   "file_extension": ".py",
   "mimetype": "text/x-python",
   "name": "python",
   "nbconvert_exporter": "python",
   "pygments_lexer": "ipython3",
   "version": "3.11.7"
  },
  "nteract": {
   "version": "0.28.0"
  }
 },
 "nbformat": 4,
 "nbformat_minor": 4
}
