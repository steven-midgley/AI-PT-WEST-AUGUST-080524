{
 "cells": [
  {
   "cell_type": "code",
   "execution_count": 188,
   "metadata": {},
   "outputs": [],
   "source": [
    "# Import dependencies\n",
    "import requests\n",
    "import json\n",
    "import time\n",
    "\n",
    "# Met API URL\n",
    "url =  \"https://collectionapi.metmuseum.org/public/collection/v1/search\"\n",
    "      \n",
    "# Search for art that contains \"Cézanne\"\n",
    "query =  \"Cézanne\"\n",
    "\n",
    "# Search for art that is currently on view\n",
    "isOnView =  \"true\"\n",
    "\n",
    "# Search for painting only\n",
    "medium =  \"Paintings\"\n",
    "\n",
    "# Search for art that has an image \n",
    "hasImages =  \"true\"\n",
    "\n",
    "# Search for art from this time period\n",
    "dateBegin  =  \"1850\"\n",
    "dateEnd    =  \"1999\""
   ]
  },
  {
   "cell_type": "code",
   "execution_count": 181,
   "metadata": {},
   "outputs": [],
   "source": [
    "# Build query URL\n",
    "query_url = url + \"?q=\" + query  + \"&isOnView=\" + isOnView  + \"&medium=\" + medium + \"&hasImages=\" + hasImages + \"&dateBegin=\" + dateBegin + \"&dateEnd=\" + dateEnd "
   ]
  },
  {
   "cell_type": "code",
   "execution_count": 183,
   "metadata": {},
   "outputs": [],
   "source": [
    "# Request art\n",
    "response = requests.get(query_url).json()"
   ]
  },
  {
   "cell_type": "code",
   "execution_count": 184,
   "metadata": {},
   "outputs": [
    {
     "name": "stdout",
     "output_type": "stream",
     "text": [
      "[435876, 435621, 435875, 438003, 436529, 435880, 438821, 436121, 437654, 488978, 435702, 438815, 436526]\n"
     ]
    }
   ],
   "source": [
    "# Extract the objectIDs list from the response\n",
    "art_list = response['objectIDs']\n",
    "# Print the first 10 Object IDs\n",
    "print(art_list)"
   ]
  },
  {
   "cell_type": "code",
   "execution_count": 189,
   "metadata": {},
   "outputs": [
    {
     "name": "stdout",
     "output_type": "stream",
     "text": [
      "Title: Madame Cézanne (Hortense Fiquet, 1850–1922) in the Conservatory\n",
      "Artist: Paul Cézanne\n",
      "Image URL: https://images.metmuseum.org/CRDImages/ep/original/DP317780.jpg\n",
      "---------------------------\n",
      "Title: Rocks at Fontainebleau\n",
      "Artist: Paul Cézanne\n",
      "Image URL: https://images.metmuseum.org/CRDImages/ep/original/DP-23704-001.jpg\n",
      "---------------------------\n"
     ]
    }
   ],
   "source": [
    "# Iterate through the first 10 pieces of art in this list to retrieve the details of each object ID:\n",
    "for object_id in art_list[1:10]:\n",
    "    # Retrieve details of the artwork using its ID\n",
    "    artwork_url = f\"https://collectionapi.metmuseum.org/public/collection/v1/objects/{object_id}\"\n",
    "    artwork_response = requests.get(artwork_url)\n",
    "    if artwork_response.status_code == 200:\n",
    "        artwork_details = artwork_response.json()\n",
    "        \n",
    "        # Extract relevant information\n",
    "        title = artwork_details['title']\n",
    "        artist = artwork_details['artistDisplayName']\n",
    "        image_url = artwork_details['primaryImage']\n",
    "\n",
    "        # Only print out painting wher the artist's name is 'Cézanne'\n",
    "        if \"Cézanne\" in artist:\n",
    "            # Display information\n",
    "            print(\"Title:\", title)\n",
    "            print(\"Artist:\", artist)\n",
    "            print(\"Image URL:\", image_url)\n",
    "            print('---------------------------')\n",
    "        \n",
    "    # Add a one second interval between queries to stay within API query limits\n",
    "    time.sleep(1)"
   ]
  },
  {
   "cell_type": "code",
   "execution_count": null,
   "metadata": {},
   "outputs": [],
   "source": []
  }
 ],
 "metadata": {
  "kernelspec": {
   "display_name": "Python 3 (ipykernel)",
   "language": "python",
   "name": "python3"
  },
  "language_info": {
   "codemirror_mode": {
    "name": "ipython",
    "version": 3
   },
   "file_extension": ".py",
   "mimetype": "text/x-python",
   "name": "python",
   "nbconvert_exporter": "python",
   "pygments_lexer": "ipython3",
   "version": "3.11.7"
  },
  "varInspector": {
   "cols": {
    "lenName": 16,
    "lenType": 16,
    "lenVar": 40
   },
   "kernels_config": {
    "python": {
     "delete_cmd_postfix": "",
     "delete_cmd_prefix": "del ",
     "library": "var_list.py",
     "varRefreshCmd": "print(var_dic_list())"
    },
    "r": {
     "delete_cmd_postfix": ") ",
     "delete_cmd_prefix": "rm(",
     "library": "var_list.r",
     "varRefreshCmd": "cat(var_dic_list()) "
    }
   },
   "types_to_exclude": [
    "module",
    "function",
    "builtin_function_or_method",
    "instance",
    "_Feature"
   ],
   "window_display": false
  }
 },
 "nbformat": 4,
 "nbformat_minor": 4
}
