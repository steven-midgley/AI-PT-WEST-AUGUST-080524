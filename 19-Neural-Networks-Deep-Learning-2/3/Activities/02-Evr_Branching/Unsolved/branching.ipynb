{
 "cells": [
  {
   "cell_type": "code",
   "execution_count": 1,
   "metadata": {
    "id": "_RDMFA9r9sDF"
   },
   "outputs": [
    {
     "ename": "ModuleNotFoundError",
     "evalue": "No module named 'tensorflow.keras'",
     "output_type": "error",
     "traceback": [
      "\u001b[0;31m---------------------------------------------------------------------------\u001b[0m",
      "\u001b[0;31mModuleNotFoundError\u001b[0m                       Traceback (most recent call last)",
      "Cell \u001b[0;32mIn[1], line 1\u001b[0m\n\u001b[0;32m----> 1\u001b[0m \u001b[38;5;28;01mfrom\u001b[39;00m \u001b[38;5;21;01mtensorflow\u001b[39;00m\u001b[38;5;21;01m.\u001b[39;00m\u001b[38;5;21;01mkeras\u001b[39;00m \u001b[38;5;28;01mimport\u001b[39;00m layers, models, Model\n\u001b[1;32m      2\u001b[0m \u001b[38;5;28;01mimport\u001b[39;00m \u001b[38;5;21;01mnumpy\u001b[39;00m \u001b[38;5;28;01mas\u001b[39;00m \u001b[38;5;21;01mnp\u001b[39;00m\n\u001b[1;32m      3\u001b[0m \u001b[38;5;28;01mimport\u001b[39;00m \u001b[38;5;21;01mpandas\u001b[39;00m \u001b[38;5;28;01mas\u001b[39;00m \u001b[38;5;21;01mpd\u001b[39;00m\n",
      "\u001b[0;31mModuleNotFoundError\u001b[0m: No module named 'tensorflow.keras'"
     ]
    }
   ],
   "source": [
    "from tensorflow.keras import layers, models, Model\n",
    "import numpy as np\n",
    "import pandas as pd"
   ]
  },
  {
   "cell_type": "code",
   "execution_count": null,
   "metadata": {
    "colab": {
     "base_uri": "https://localhost:8080/",
     "height": 241
    },
    "id": "vxeQQtXAz8R3",
    "outputId": "83e96ea0-dd28-4b4a-ffbd-a78a7265c95e"
   },
   "outputs": [],
   "source": [
    "# Import the data\n",
    "path = 'https://static.bc-edx.com/ai/ail-v-1-0/m19/lesson_3/datasets/wine_quality.csv'\n",
    "df = pd.read_csv(path)\n",
    "df.head()"
   ]
  },
  {
   "cell_type": "markdown",
   "metadata": {
    "id": "Ui-_wec91zPD"
   },
   "source": [
    "We have two choices; should the y columns of quality and color all be predicted in a single layer? It might be easier to separate these into two layers, both having the sigmoid activation function. To start, lets preprocess these layers using labelencoder and onehotencoder."
   ]
  },
  {
   "cell_type": "code",
   "execution_count": null,
   "metadata": {
    "colab": {
     "base_uri": "https://localhost:8080/",
     "height": 261
    },
    "id": "UcrX6KMJ0L98",
    "outputId": "296c20f0-c7c8-4d12-a1f7-e0cae1953639"
   },
   "outputs": [],
   "source": [
    "# Preprocess y\n",
    "from sklearn.preprocessing import LabelEncoder, OneHotEncoder\n",
    "\n",
    "# Preprocess \"quality\" column (one-hot encoding)\n",
    "df.quality = pd.get_dummies(df.quality)\n",
    "\n",
    "# Preprocess \"color\" column (label encoding for binary; one-hot encoding for multiple categories)\n",
    "label_encoder = LabelEncoder()\n",
    "df.color = label_encoder.fit_transform(df.color)\n",
    "\n",
    "# Concatenate the encoded columns to the original DataFrame\n",
    "\n",
    "\n",
    "# Drop the original \"quality\" and \"color\" columns\n",
    "\n"
   ]
  },
  {
   "cell_type": "code",
   "execution_count": null,
   "metadata": {},
   "outputs": [],
   "source": [
    "df.sample(n=10)"
   ]
  },
  {
   "cell_type": "code",
   "execution_count": 5,
   "metadata": {
    "id": "EBeF44_d3Y7J"
   },
   "outputs": [],
   "source": [
    "# Split data into X and two separate y variables\n",
    "y_color = df['color']\n",
    "y_quality = df['quality']\n",
    "\n",
    "X = df.drop(columns=['quality', 'color'])\n",
    "\n",
    "# Split data into training and testing sets\n",
    "from sklearn.model_selection import train_test_split\n",
    "X_train, X_test, y_quality_train, y_quality_test,  y_color_train, y_color_test = train_test_split(X, y_color, y_quality, random_state=42)\n"
   ]
  },
  {
   "cell_type": "markdown",
   "metadata": {
    "id": "qE-3BrNp5Yrc"
   },
   "source": [
    "Now that the data is processed, start by creating the shared portion of the model. We start with the input layer, but note that because we are note using the \"sequential\" model from keras, we must specify where each new layer attaches to the model. We do this by placing the name of the preceding layer in parentheses at the end of the line creating the new layer.\n",
    "\n",
    "Note how shared_layer1 is created as a Dense layer, and then (input_layer) specifies that shared_layer1 will come directly after the input_layer. In the following line, shared_layer2 is created to follow shared_layer1."
   ]
  },
  {
   "cell_type": "code",
   "execution_count": 6,
   "metadata": {
    "id": "YCih8LTC5MA-"
   },
   "outputs": [],
   "source": [
    "# Create the shared layers of the model\n",
    "\n",
    "# Input layer\n",
    "input_layer = layers.Input(shape=(X.shape[1],), name='Input_layer')\n",
    "# Shared hidden layers\n",
    "shared_layer1 = layers.Dense(64, activation='relu', name='shared layer 1')(input_layer)\n",
    "shared_layer2 = layers.Dense(32, activation='relu', name='shared layer 2')(shared_layer1)\n"
   ]
  },
  {
   "cell_type": "markdown",
   "metadata": {
    "id": "R8k3nQZn-LsY"
   },
   "source": [
    "So far, we've created a sequential set on layers, one following the other. Now we will create two branches for our two output layers. To do this, we create two layers and specify the same \"preceding layer\" for each. Note how both the quality_output layer and the color_output layer connect to the model via shared_layer2.\n",
    "\n",
    "When creating these layers, we determine that sigmoid is best for quality and for color. That said, there are arguments to be made for either!"
   ]
  },
  {
   "cell_type": "code",
   "execution_count": 7,
   "metadata": {
    "id": "YkFOHXL-9cBb"
   },
   "outputs": [],
   "source": [
    "# Branch for quality prediction\n",
    "quality_output = layers.Dense(3 ,activation=\"softmax\")(shared_layer2)\n",
    "# Branch for color prediction\n",
    "color_output = layers.Dense(1 ,activation=\"sigmoid\")(shared_layer2)"
   ]
  },
  {
   "cell_type": "markdown",
   "metadata": {
    "id": "qlVDs9aC-7aj"
   },
   "source": [
    "Now we can pull the model together. We only need to specify the input and output layers and Keras will infer the rest. To compile the model, we can specify unique metrics and loss functions for each output layer, but for this dataset we have chosen 'binary_crossentropy' as the loss function and 'accuracy' as the metric for both output layers."
   ]
  },
  {
   "cell_type": "code",
   "execution_count": null,
   "metadata": {
    "colab": {
     "base_uri": "https://localhost:8080/"
    },
    "id": "r32fuOYI-6zw",
    "outputId": "da895d8f-2975-4f1e-b376-f4c2b3c193ee"
   },
   "outputs": [],
   "source": [
    "# Create the model\n",
    "model = Model(inputs=input_layer, outputs=[quality_output, color_output])\n",
    "\n",
    "# Compile the model\n",
    "model.compile(\n",
    "\toptimizer='adam',\n",
    "\tloss='binary_crossentropy',\n",
    "\tmetric=['accuracy']\n",
    ")\n",
    "\n",
    "# Display the model summary\n",
    "model.summery()"
   ]
  },
  {
   "cell_type": "markdown",
   "metadata": {
    "id": "WRzVMPq8_rEF"
   },
   "source": [
    "To fit the model to the data, we specify X_train as normal, but pass a dictionary for the y_data."
   ]
  },
  {
   "cell_type": "code",
   "execution_count": null,
   "metadata": {
    "colab": {
     "base_uri": "https://localhost:8080/"
    },
    "id": "6qZViSgY_YWM",
    "outputId": "bb21dadc-cce8-4530-b4c8-72de3816d108"
   },
   "outputs": [],
   "source": [
    "# Fit the model\n",
    "model.fit(\n",
    "\tx=X_train,\n",
    "\ty=[y_color, y_quality],\n",
    "\tbatch_size=None,\n",
    "\tepochs=10,\n",
    "\tverbose=1\n",
    ")"
   ]
  },
  {
   "cell_type": "code",
   "execution_count": null,
   "metadata": {
    "colab": {
     "base_uri": "https://localhost:8080/"
    },
    "id": "bmXGMW78_-hw",
    "outputId": "7e2b8798-6ccd-4422-a2f9-c15778391428"
   },
   "outputs": [],
   "source": [
    "# Evaluate the model with the testing data\n",
    "\n",
    "model.evaluate(\n",
    "\tx=X_train,\n",
    "\ty=[y_color, y_quality],\n",
    "\tbatch_size=None,\n",
    "\treturn_dict=False\n",
    ")\n"
   ]
  },
  {
   "cell_type": "code",
   "execution_count": null,
   "metadata": {},
   "outputs": [],
   "source": []
  }
 ],
 "metadata": {
  "colab": {
   "provenance": []
  },
  "kernelspec": {
   "display_name": "boot_camp",
   "language": "python",
   "name": "python3"
  },
  "language_info": {
   "codemirror_mode": {
    "name": "ipython",
    "version": 3
   },
   "file_extension": ".py",
   "mimetype": "text/x-python",
   "name": "python",
   "nbconvert_exporter": "python",
   "pygments_lexer": "ipython3",
   "version": "3.12.8"
  }
 },
 "nbformat": 4,
 "nbformat_minor": 4
}
