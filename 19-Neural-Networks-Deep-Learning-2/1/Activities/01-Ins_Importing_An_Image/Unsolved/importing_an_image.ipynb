{
 "cells": [
  {
   "cell_type": "code",
   "execution_count": 30,
   "metadata": {
    "executionInfo": {
     "elapsed": 300,
     "status": "ok",
     "timestamp": 1701445164035,
     "user": {
      "displayName": "Sean Morey",
      "userId": "09649124933964159109"
     },
     "user_tz": 360
    },
    "id": "CXllblU_B9Ng"
   },
   "outputs": [],
   "source": [
    "# Import dependencies\n",
    "import requests\n",
    "from PIL import Image"
   ]
  },
  {
   "cell_type": "code",
   "execution_count": 31,
   "metadata": {
    "colab": {
     "base_uri": "https://localhost:8080/",
     "height": 332
    },
    "executionInfo": {
     "elapsed": 146,
     "status": "error",
     "timestamp": 1701446254460,
     "user": {
      "displayName": "Sean Morey",
      "userId": "09649124933964159109"
     },
     "user_tz": 360
    },
    "id": "3mGwZHX4CMdn",
    "outputId": "daf5c422-bda9-46bb-d7bd-f0551aa99aaa"
   },
   "outputs": [],
   "source": [
    "img_url = \"https://ms-cdn2.maggiesottero.com/143023/High/Maggie-Sottero-Rita-A-Line-Wedding-Dress-25MZ359A01-Alt50-PL.jpg?w=550&dpr=1.25\"\n",
    "\n",
    "# First lets try the Image.open function\n",
    "# image = Image.open(img_url)\n"
   ]
  },
  {
   "cell_type": "code",
   "execution_count": 32,
   "metadata": {
    "colab": {
     "base_uri": "https://localhost:8080/",
     "height": 47
    },
    "executionInfo": {
     "elapsed": 241,
     "status": "ok",
     "timestamp": 1701446720145,
     "user": {
      "displayName": "Sean Morey",
      "userId": "09649124933964159109"
     },
     "user_tz": 360
    },
    "id": "R5UyugrFC1Pw",
    "outputId": "2481ec49-e749-4ad2-8b85-fb79038fc474"
   },
   "outputs": [],
   "source": [
    "# The Image.open function cannot open web urls directly\n",
    "# To use Image.open, we have to start with the requests library\n",
    "response = requests.get(img_url, stream=True).raw\n",
    "\n",
    "# Note the use of requests with the .raw attribute and the stream parameter\n",
    "image = Image.open(response)\n",
    "image.show()"
   ]
  },
  {
   "cell_type": "code",
   "execution_count": 33,
   "metadata": {
    "colab": {
     "base_uri": "https://localhost:8080/"
    },
    "executionInfo": {
     "elapsed": 109,
     "status": "ok",
     "timestamp": 1701446738476,
     "user": {
      "displayName": "Sean Morey",
      "userId": "09649124933964159109"
     },
     "user_tz": 360
    },
    "id": "gXmlx_SDGYYB",
    "outputId": "4b30ce80-a59d-44b2-c684-917238af0b26"
   },
   "outputs": [
    {
     "name": "stdout",
     "output_type": "stream",
     "text": [
      "{'size': (688, 917), 'mode': 'RGB', 'format': 'JPEG'}\n"
     ]
    }
   ],
   "source": [
    "# Once imported, the Image library has lots of useful functions\n",
    "image_meta = {\n",
    "\t\"size\": image.size,\n",
    "\t\"mode\": image.mode,\n",
    "\t\"format\": image.format\n",
    "}\n",
    "print(image_meta)\n"
   ]
  },
  {
   "cell_type": "code",
   "execution_count": 34,
   "metadata": {
    "colab": {
     "base_uri": "https://localhost:8080/",
     "height": 36
    },
    "executionInfo": {
     "elapsed": 197,
     "status": "ok",
     "timestamp": 1701446978930,
     "user": {
      "displayName": "Sean Morey",
      "userId": "09649124933964159109"
     },
     "user_tz": 360
    },
    "id": "q6DAN5YIJHsA",
    "outputId": "78bc6a7a-94f6-43b5-a98d-d9b2988d4f0d"
   },
   "outputs": [],
   "source": [
    "resized_image = image.resize((1920, 1080))\n",
    "resized_image.show()"
   ]
  },
  {
   "cell_type": "code",
   "execution_count": 35,
   "metadata": {
    "colab": {
     "base_uri": "https://localhost:8080/",
     "height": 36
    },
    "executionInfo": {
     "elapsed": 132,
     "status": "ok",
     "timestamp": 1701446987270,
     "user": {
      "displayName": "Sean Morey",
      "userId": "09649124933964159109"
     },
     "user_tz": 360
    },
    "id": "OkOpcMIKJJ-G",
    "outputId": "d3f9e12d-1818-45d5-db6c-01404228c9cc"
   },
   "outputs": [
    {
     "ename": "UnidentifiedImageError",
     "evalue": "cannot identify image file <_io.BytesIO object at 0x10c261120>",
     "output_type": "error",
     "traceback": [
      "\u001b[0;31m---------------------------------------------------------------------------\u001b[0m",
      "\u001b[0;31mUnidentifiedImageError\u001b[0m                    Traceback (most recent call last)",
      "Cell \u001b[0;32mIn[35], line 1\u001b[0m\n\u001b[0;32m----> 1\u001b[0m \u001b[38;5;28;01mwith\u001b[39;00m Image\u001b[38;5;241m.\u001b[39mopen(response) \u001b[38;5;28;01mas\u001b[39;00m im:\n\u001b[1;32m      2\u001b[0m \tim\u001b[38;5;241m.\u001b[39mrotate(\u001b[38;5;241m45\u001b[39m)\u001b[38;5;241m.\u001b[39mshow()\n",
      "File \u001b[0;32m/opt/miniconda3/envs/boot_camp/lib/python3.13/site-packages/PIL/Image.py:3536\u001b[0m, in \u001b[0;36mopen\u001b[0;34m(fp, mode, formats)\u001b[0m\n\u001b[1;32m   3534\u001b[0m     warnings\u001b[38;5;241m.\u001b[39mwarn(message)\n\u001b[1;32m   3535\u001b[0m msg \u001b[38;5;241m=\u001b[39m \u001b[38;5;124m\"\u001b[39m\u001b[38;5;124mcannot identify image file \u001b[39m\u001b[38;5;132;01m%r\u001b[39;00m\u001b[38;5;124m\"\u001b[39m \u001b[38;5;241m%\u001b[39m (filename \u001b[38;5;28;01mif\u001b[39;00m filename \u001b[38;5;28;01melse\u001b[39;00m fp)\n\u001b[0;32m-> 3536\u001b[0m \u001b[38;5;28;01mraise\u001b[39;00m UnidentifiedImageError(msg)\n",
      "\u001b[0;31mUnidentifiedImageError\u001b[0m: cannot identify image file <_io.BytesIO object at 0x10c261120>"
     ]
    }
   ],
   "source": [
    "with Image.open(response) as im:\n",
    "\tim.rotate(45).show()"
   ]
  },
  {
   "cell_type": "code",
   "execution_count": null,
   "metadata": {
    "colab": {
     "base_uri": "https://localhost:8080/",
     "height": 137
    },
    "executionInfo": {
     "elapsed": 154,
     "status": "ok",
     "timestamp": 1701446848707,
     "user": {
      "displayName": "Sean Morey",
      "userId": "09649124933964159109"
     },
     "user_tz": 360
    },
    "id": "847g-PKhIOBc",
    "outputId": "baed05dd-42b6-4f66-fed8-db0352842539"
   },
   "outputs": [],
   "source": []
  },
  {
   "cell_type": "code",
   "execution_count": null,
   "metadata": {
    "colab": {
     "base_uri": "https://localhost:8080/",
     "height": 47
    },
    "executionInfo": {
     "elapsed": 377,
     "status": "ok",
     "timestamp": 1701447015561,
     "user": {
      "displayName": "Sean Morey",
      "userId": "09649124933964159109"
     },
     "user_tz": 360
    },
    "id": "ISFeWev7IUJe",
    "outputId": "4d6d96c7-bb26-4bf0-efe2-9a6070b78751"
   },
   "outputs": [],
   "source": []
  },
  {
   "cell_type": "code",
   "execution_count": null,
   "metadata": {
    "colab": {
     "base_uri": "https://localhost:8080/",
     "height": 47
    },
    "executionInfo": {
     "elapsed": 209,
     "status": "ok",
     "timestamp": 1701446956615,
     "user": {
      "displayName": "Sean Morey",
      "userId": "09649124933964159109"
     },
     "user_tz": 360
    },
    "id": "PMWytVnWIssI",
    "outputId": "76bbd1f5-d52e-4979-b39c-5b427d9908b8"
   },
   "outputs": [],
   "source": []
  }
 ],
 "metadata": {
  "colab": {
   "authorship_tag": "ABX9TyMSXMXVKej/lR+rJoHIla13",
   "provenance": []
  },
  "kernelspec": {
   "display_name": "boot_camp",
   "language": "python",
   "name": "python3"
  },
  "language_info": {
   "codemirror_mode": {
    "name": "ipython",
    "version": 3
   },
   "file_extension": ".py",
   "mimetype": "text/x-python",
   "name": "python",
   "nbconvert_exporter": "python",
   "pygments_lexer": "ipython3",
   "version": "3.13.1"
  }
 },
 "nbformat": 4,
 "nbformat_minor": 0
}
